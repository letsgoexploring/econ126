{
    "cells": [
        {
            "cell_type": "code",
            "execution_count": null,
            "metadata": {},
            "outputs": [],
            "source": [
                "import numpy as np\n",
                "import matplotlib.pyplot as plt\n",
                "plt.style.use('classic')\n",
                "plt.rcParams['figure.facecolor'] = 'white'"
            ]
        },
        {
            "cell_type": "markdown",
            "metadata": {},
            "source": [
                "# Discussion: Week 2"
            ]
        },
        {
            "cell_type": "code",
            "execution_count": null,
            "metadata": {},
            "outputs": [],
            "source": [
                "# Import the Pandas module as pd\n"
            ]
        },
        {
            "cell_type": "markdown",
            "metadata": {},
            "source": [
                "\n",
                "## Exercise: Statistics on Cross-Country Income per Capita\n",
                "\n",
                "Objectives:\n",
                "\n",
                "1. Import and manage cross-country GDP per capita data\n",
                "2. Construct plots using imported data\n",
                "\n",
                "For this exercise, we'll make use of a file called `cross_country_gdp_per_capita.csv` from: https://raw.githubusercontent.com/letsgoexploring/economic-data/master/cross-country-production/csv/cross_country_gdp_per_capita.csv (Python code to generate the dataset: https://github.com/letsgoexploring/economic-data)."
            ]
        },
        {
            "cell_type": "markdown",
            "metadata": {},
            "source": [
                "### Part (a): Import Data and Inspect the `DataFrame`\n",
                "\n",
                "In the first part of the exercise, you will import the dataset and use some basic Pandas operations to explore some properties of the `DataFrame` that you create. The csv file that you import has years in the leftmost column (i.e., pass `index_col=0` to `pd.read_csv`). Pass the optional argument `parse_dates=True` to `pd.read_csv()` so that Pandas interprets the year numbers as dates. This is handy for graphing, among other things."
            ]
        },
        {
            "cell_type": "code",
            "execution_count": null,
            "metadata": {},
            "outputs": [],
            "source": [
                "# Import the cross-country GDP data into a DataFrame called 'income_df' with arguments index_col=0 and parse_dates=True\n",
                "\n",
                "\n",
                "# Print the first five rows of income_df\n"
            ]
        },
        {
            "cell_type": "code",
            "execution_count": null,
            "metadata": {},
            "outputs": [],
            "source": [
                "# Print the columns attribute of income_df\n"
            ]
        },
        {
            "cell_type": "markdown",
            "metadata": {},
            "source": [
                "The `len()` function is a built-in Python function for determining the length of objects that can be iterated upon (e.g., lists, strings, NumPy arrays). For example, the following code creates a variable `x` equal to a four-element list and prints the length of `x`:\n",
                "\n",
                "    x = [1,2,3,4]\n",
                "    print(len(x))\n",
                "    \n",
                "The code will print a value of 4 to the screen."
            ]
        },
        {
            "cell_type": "code",
            "execution_count": null,
            "metadata": {},
            "outputs": [],
            "source": [
                "# Print the number of countries in income_df (i.e., print the length of income_df.columns)\n"
            ]
        },
        {
            "cell_type": "code",
            "execution_count": null,
            "metadata": {},
            "outputs": [],
            "source": [
                "# Print the index attribute of income_df\n"
            ]
        },
        {
            "cell_type": "code",
            "execution_count": null,
            "metadata": {},
            "outputs": [],
            "source": [
                "# Print the number of years of data in income_df (i.e., print the length of income_df.index)\n"
            ]
        },
        {
            "cell_type": "code",
            "execution_count": null,
            "metadata": {},
            "outputs": [],
            "source": [
                "# Print the first five rows of the 'United States - USA' column of income_df\n"
            ]
        },
        {
            "cell_type": "code",
            "execution_count": null,
            "metadata": {},
            "outputs": [],
            "source": [
                "# Print the last five rows of the 'United States - USA' column of income_df\n"
            ]
        },
        {
            "cell_type": "code",
            "execution_count": null,
            "metadata": {},
            "outputs": [],
            "source": [
                "# Print the last value in the 'United States - USA' column of income_df\n"
            ]
        },
        {
            "cell_type": "markdown",
            "metadata": {},
            "source": [
                "### Part (b): Construct Two Plots"
            ]
        },
        {
            "cell_type": "code",
            "execution_count": null,
            "metadata": {},
            "outputs": [],
            "source": [
                "# Create a line plot of gdp per capita for the US with income_df.index as the x-axis coordinates with:\n",
                "#     1. Set linewidth to 3 and opacity (alpha) to 0.75\n",
                "#     2. Set y-axis label to 'Dollars'\n",
                "#     3. Set title to 'GDP per capita: United States')\n",
                "#     4. Add a grid if you want to\n",
                "\n",
                "\n",
                "",
                ""
            ]
        },
        {
            "cell_type": "markdown",
            "metadata": {},
            "source": [
                "You can use the `DataFrame` method `filter()` to exclude columns or rows that *don't* match specified criteria. This is useful for searching over columns (or rows) if you're not sure about the contents. For example, suppose that we want to select the column for Equatorial Guinea from `income_df`, but we're not sure what the abbreviation is. We can run:\n",
                "\n",
                "    income_df.filter(like='Guinea').columns\n",
                "    \n",
                "which returns:\n",
                "\n",
                "    Index(['Guinea - GIN', 'Guinea-Bissau - GNB', 'Equatorial Guinea - GNQ'], dtype='object')\n",
                "    \n",
                "So now it's apparent that `'Equatorial Guinea - GNQ'` is the name of the column with data for Equatorial Guinea."
            ]
        },
        {
            "cell_type": "code",
            "execution_count": null,
            "metadata": {},
            "outputs": [],
            "source": [
                "# Use the example described above to find the column name for any country you like\n",
                "\n"
            ]
        },
        {
            "cell_type": "code",
            "execution_count": null,
            "metadata": {},
            "outputs": [],
            "source": [
                "# Create a line plot of gdp per capita for the country that you picked wtih income_df.index as the x-axis coordinates and:\n",
                "#     1. Set linewidth to 3 and opacity (alpha) to 0.75\n",
                "#     2. Set y-axis label to 'Dollars'\n",
                "#     3. Set title to 'GDP per capita: COUNTRY NAME')\n",
                "#     4. Add a grid if you want to\n",
                "\n",
                "\n",
                "",
                ""
            ]
        },
        {
            "cell_type": "markdown",
            "metadata": {},
            "source": [
                "**Question**\n",
                "\n",
                "1. Describe in words any similarities and/or differences you see between the paths of GDP per capita in the US and GDP per capita in the country that you picked."
            ]
        },
        {
            "cell_type": "markdown",
            "metadata": {},
            "source": [
                "**Answer**\n",
                "\n",
                "1.  "
            ]
        }
    ],
    "metadata": {
        "anaconda-cloud": {},
        "kernelspec": {
            "display_name": "Python 3 (ipykernel)",
            "language": "python",
            "name": "python3"
        },
        "language_info": {
            "codemirror_mode": {
                "name": "ipython",
                "version": 3
            },
            "file_extension": ".py",
            "mimetype": "text/x-python",
            "name": "python",
            "nbconvert_exporter": "python",
            "pygments_lexer": "ipython3",
            "version": "3.11.3"
        }
    },
    "nbformat": 4,
    "nbformat_minor": 1
}
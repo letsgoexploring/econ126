{
 "cells": [
  {
   "cell_type": "code",
   "execution_count": 1,
   "metadata": {},
   "outputs": [],
   "source": [
    "import matplotlib.pyplot as plt\n",
    "import pandas as pd"
   ]
  },
  {
   "cell_type": "markdown",
   "metadata": {},
   "source": [
    "# fredpy\n",
    "\n",
    "\n",
    "Federal Reserve Economic Data (FRED) is a repository of economic data maintained by the Federal Reserve Bank of St Louis. fredpy is a Python module for easily retrieving and manipulating data series from FRED. This notebook contains a few examples to show how to get started with fredpy. For more detailed information and examples, check out the fredpy documentation: https://www.briancjenkins.com/fredpy/docs/build/html/index.html.\n",
    "\n",
    "## Getting Started\n",
    "\n",
    "To use fredpy, you must install it from PyPI by running the following command in the Terminal (Mac) or the Anaconda Prompt (PC):\n",
    "\n",
    "    pip install fredpy\n",
    "    \n",
    "Next, apply for an API key for FRED here: https://research.stlouisfed.org/docs/api/api_key.html. The API key is a 32 character string that is required for making requests from FRED through its API.\n",
    "\n",
    "\n",
    "## Usage\n",
    "\n",
    "First, import the module."
   ]
  },
  {
   "cell_type": "code",
   "execution_count": 2,
   "metadata": {
    "scrolled": false
   },
   "outputs": [],
   "source": [
    "import fredpy as fp"
   ]
  },
  {
   "cell_type": "markdown",
   "metadata": {},
   "source": [
    "Save your API key in the `fp` namespace by either setting the `fp.api_key` directly:"
   ]
  },
  {
   "cell_type": "code",
   "execution_count": 3,
   "metadata": {},
   "outputs": [],
   "source": [
    "fp.api_key = '################################'"
   ]
  },
  {
   "cell_type": "markdown",
   "metadata": {},
   "source": [
    "or by reading from a text file containing only the text of the API key in the first line:"
   ]
  },
  {
   "cell_type": "code",
   "execution_count": 4,
   "metadata": {},
   "outputs": [],
   "source": [
    "fp.api_key = fp.load_api_key('fred_api_key.txt')"
   ]
  },
  {
   "cell_type": "markdown",
   "metadata": {},
   "source": [
    "If fred_api_key.txt is not in the same directory as your program file, then you must supply the full path of the file. Next, as a quick example, lets use fredpy to download unemployment rate data for the US. The series ID for the unemployment rate is `UNRATE`. Use the `fp.series()` function to create a variable called `unemployment` that stores the downloaded unemployment rate data."
   ]
  },
  {
   "cell_type": "code",
   "execution_count": 5,
   "metadata": {},
   "outputs": [],
   "source": [
    "unemployment = fp.series('UNRATE')"
   ]
  },
  {
   "cell_type": "markdown",
   "metadata": {},
   "source": [
    "The variable `unemployment` is a `fredpy.series` object."
   ]
  },
  {
   "cell_type": "code",
   "execution_count": 6,
   "metadata": {},
   "outputs": [
    {
     "data": {
      "text/plain": [
       "fredpy.series"
      ]
     },
     "execution_count": 6,
     "metadata": {},
     "output_type": "execute_result"
    }
   ],
   "source": [
    "type(unemployment)"
   ]
  },
  {
   "cell_type": "markdown",
   "metadata": {},
   "source": [
    "The data are stored in the `.data` attribute as a Pandas Series:"
   ]
  },
  {
   "cell_type": "code",
   "execution_count": 7,
   "metadata": {},
   "outputs": [
    {
     "data": {
      "text/plain": [
       "1948-01-01    3.4\n",
       "1948-02-01    3.8\n",
       "1948-03-01    4.0\n",
       "1948-04-01    3.9\n",
       "1948-05-01    3.5\n",
       "dtype: float64"
      ]
     },
     "execution_count": 7,
     "metadata": {},
     "output_type": "execute_result"
    }
   ],
   "source": [
    "unemployment.data.head()"
   ]
  },
  {
   "cell_type": "markdown",
   "metadata": {},
   "source": [
    "The variable `unemployment` also has a bunch of other attributes that contain useful information about the data. For example, let's print the title, the units, the frequency, the date range, and the source of the unemployment data:"
   ]
  },
  {
   "cell_type": "code",
   "execution_count": 8,
   "metadata": {},
   "outputs": [
    {
     "name": "stdout",
     "output_type": "stream",
     "text": [
      "Unemployment Rate\n",
      "Percent\n",
      "Monthly\n",
      "Range: 1948-01-01 to 2020-12-01\n",
      "U.S. Bureau of Labor Statistics\n"
     ]
    }
   ],
   "source": [
    "print(unemployment.title)\n",
    "print(unemployment.units)\n",
    "print(unemployment.frequency)\n",
    "print(unemployment.date_range)\n",
    "print(unemployment.source)"
   ]
  },
  {
   "cell_type": "markdown",
   "metadata": {},
   "source": [
    "Look here a full list of the available attributes: https://www.briancjenkins.com/fredpy/docs/build/html/fredpy_examples.html#Attributes.\n",
    "\n",
    "The attributes of fredpy objects can be useful for constructing graph labels. For example:"
   ]
  },
  {
   "cell_type": "code",
   "execution_count": 9,
   "metadata": {},
   "outputs": [
    {
     "data": {
      "text/plain": [
       "Text(0.5, 1.0, 'Monthly Unemployment Rate')"
      ]
     },
     "execution_count": 9,
     "metadata": {},
     "output_type": "execute_result"
    },
    {
     "data": {
      "image/png": "[encoded data removed]",
      "text/plain": [
       "<Figure size 432x288 with 1 Axes>"
      ]
     },
     "metadata": {
      "needs_background": "light"
     },
     "output_type": "display_data"
    }
   ],
   "source": [
    "fig = plt.figure()\n",
    "ax = fig.add_subplot(1,1,1)\n",
    "ax.plot(unemployment.data)\n",
    "ax.set_ylabel(unemployment.units)\n",
    "ax.set_title(unemployment.frequency+' '+unemployment.title)"
   ]
  },
  {
   "cell_type": "markdown",
   "metadata": {},
   "source": [
    "## Methods\n",
    "\n",
    "fredpy.series objects also have useful methods defined over them for manipulating and combining `fredpy.series` objects.  A full list of available methods is found here: https://www.briancjenkins.com/fredpy/docs/build/html/fredpy_examples.html#Methods.\n",
    "\n",
    "As an example, let's compute and plot the quarterly (annualized) percentage change in real GDP for the US. First, we'll use fredpy to download nominal GDP and GDP deflator data (FRED has real GDP data, but I want to demonstrate ow to combine series)."
   ]
  },
  {
   "cell_type": "code",
   "execution_count": 10,
   "metadata": {},
   "outputs": [],
   "source": [
    "deflator = fp.series('GDPDEF')\n",
    "gdp = fp.series('GDP')"
   ]
  },
  {
   "cell_type": "markdown",
   "metadata": {},
   "source": [
    "We want to divide GDP by the GDP deflator, but first we need to make sure that the date ranges for the respective series are the same, so we use the `fp.window_equalize()` function."
   ]
  },
  {
   "cell_type": "code",
   "execution_count": 11,
   "metadata": {},
   "outputs": [],
   "source": [
    "gdp, deflator = fp.window_equalize([gdp, deflator])"
   ]
  },
  {
   "cell_type": "markdown",
   "metadata": {},
   "source": [
    "Next, use the `.divide()` and `.times()` methods to divide GDP by the deflator and multiply the result by 100."
   ]
  },
  {
   "cell_type": "code",
   "execution_count": 12,
   "metadata": {},
   "outputs": [],
   "source": [
    "real_gdp = gdp.divide(deflator).times(100)"
   ]
  },
  {
   "cell_type": "markdown",
   "metadata": {},
   "source": [
    "Now, plot nominal and real GDP."
   ]
  },
  {
   "cell_type": "code",
   "execution_count": 13,
   "metadata": {},
   "outputs": [
    {
     "data": {
      "text/plain": [
       "<matplotlib.legend.Legend at 0x7fdf39d69a60>"
      ]
     },
     "execution_count": 13,
     "metadata": {},
     "output_type": "execute_result"
    },
    {
     "data": {
      "image/png": "[encoded data removed]",
      "text/plain": [
       "<Figure size 432x288 with 1 Axes>"
      ]
     },
     "metadata": {
      "needs_background": "light"
     },
     "output_type": "display_data"
    }
   ],
   "source": [
    "fig = plt.figure()\n",
    "ax = fig.add_subplot(1,1,1)\n",
    "ax.plot(gdp.data,label='nominal')\n",
    "ax.plot(real_gdp.data,label='real (base='+deflator.units[6:10]+')')\n",
    "ax.set_ylabel(gdp.units)\n",
    "ax.set_title(gdp.title)\n",
    "ax.legend(loc='center left', bbox_to_anchor=(1, 0.5))"
   ]
  },
  {
   "cell_type": "markdown",
   "metadata": {},
   "source": [
    "Next, we can use the `.pc()` method to find the percent change in real GDP each quarter. Following convention, we'll multiply the result by 4 so that the units are in terms of *annualized* percentage change"
   ]
  },
  {
   "cell_type": "code",
   "execution_count": 14,
   "metadata": {},
   "outputs": [],
   "source": [
    "real_gdp_growth = real_gdp.pc().times(4)"
   ]
  },
  {
   "cell_type": "markdown",
   "metadata": {},
   "source": [
    "Plot the result."
   ]
  },
  {
   "cell_type": "code",
   "execution_count": 15,
   "metadata": {},
   "outputs": [
    {
     "data": {
      "text/plain": [
       "<matplotlib.legend.Legend at 0x7fdf39db71c0>"
      ]
     },
     "execution_count": 15,
     "metadata": {},
     "output_type": "execute_result"
    },
    {
     "data": {
      "image/png": "[encoded data removed]",
      "text/plain": [
       "<Figure size 432x288 with 1 Axes>"
      ]
     },
     "metadata": {
      "needs_background": "light"
     },
     "output_type": "display_data"
    }
   ],
   "source": [
    "fig = plt.figure()\n",
    "ax = fig.add_subplot(1,1,1)\n",
    "ax.plot(real_gdp_growth.data,label='data')\n",
    "ax.plot(real_gdp_growth.data*0+real_gdp_growth.data.mean(),'--',label='mean')\n",
    "ax.set_ylabel(real_gdp_growth.units)\n",
    "ax.set_title('Annualized real GDP growth rate')\n",
    "ax.legend(loc='center left', bbox_to_anchor=(1, 0.5))"
   ]
  },
  {
   "cell_type": "markdown",
   "metadata": {},
   "source": [
    "## Constructing Data Sets\n",
    "\n",
    "Perhaps you'd like to use fredpy to download several data series and load all of the series into a Pandas DataFrame. It's easy to do. Let's put the GDP, real GDP, and GDP deflator data into a DataFrame."
   ]
  },
  {
   "cell_type": "code",
   "execution_count": 16,
   "metadata": {},
   "outputs": [
    {
     "data": {
      "text/html": [
       "<div>\n",
       "<style scoped>\n",
       "    .dataframe tbody tr th:only-of-type {\n",
       "        vertical-align: middle;\n",
       "    }\n",
       "\n",
       "    .dataframe tbody tr th {\n",
       "        vertical-align: top;\n",
       "    }\n",
       "\n",
       "    .dataframe thead th {\n",
       "        text-align: right;\n",
       "    }\n",
       "</style>\n",
       "<table border=\"1\" class=\"dataframe\">\n",
       "  <thead>\n",
       "    <tr style=\"text-align: right;\">\n",
       "      <th></th>\n",
       "      <th>gdp</th>\n",
       "      <th>real_gdp</th>\n",
       "      <th>deflator</th>\n",
       "    </tr>\n",
       "  </thead>\n",
       "  <tbody>\n",
       "    <tr>\n",
       "      <th>1947-01-01</th>\n",
       "      <td>243.164</td>\n",
       "      <td>2033.143813</td>\n",
       "      <td>11.960</td>\n",
       "    </tr>\n",
       "    <tr>\n",
       "      <th>1947-04-01</th>\n",
       "      <td>245.968</td>\n",
       "      <td>2027.598714</td>\n",
       "      <td>12.131</td>\n",
       "    </tr>\n",
       "    <tr>\n",
       "      <th>1947-07-01</th>\n",
       "      <td>249.585</td>\n",
       "      <td>2023.388731</td>\n",
       "      <td>12.335</td>\n",
       "    </tr>\n",
       "    <tr>\n",
       "      <th>1947-10-01</th>\n",
       "      <td>259.745</td>\n",
       "      <td>2055.107208</td>\n",
       "      <td>12.639</td>\n",
       "    </tr>\n",
       "    <tr>\n",
       "      <th>1948-01-01</th>\n",
       "      <td>265.742</td>\n",
       "      <td>2086.050710</td>\n",
       "      <td>12.739</td>\n",
       "    </tr>\n",
       "  </tbody>\n",
       "</table>\n",
       "</div>"
      ],
      "text/plain": [
       "                gdp     real_gdp  deflator\n",
       "1947-01-01  243.164  2033.143813    11.960\n",
       "1947-04-01  245.968  2027.598714    12.131\n",
       "1947-07-01  249.585  2023.388731    12.335\n",
       "1947-10-01  259.745  2055.107208    12.639\n",
       "1948-01-01  265.742  2086.050710    12.739"
      ]
     },
     "execution_count": 16,
     "metadata": {},
     "output_type": "execute_result"
    }
   ],
   "source": [
    "# Construct DataFrame\n",
    "df = pd.DataFrame({\n",
    "    'gdp':gdp.data,\n",
    "    'real_gdp':real_gdp.data,\n",
    "    'deflator':deflator.data\n",
    "},index = gdp.data.index)\n",
    "\n",
    "# Display first 5 rows\n",
    "df.head()"
   ]
  },
  {
   "cell_type": "markdown",
   "metadata": {},
   "source": [
    "Now, if you like, you can export the data to csv to import into another program or share with someone else."
   ]
  },
  {
   "cell_type": "code",
   "execution_count": 17,
   "metadata": {},
   "outputs": [],
   "source": [
    "# Export to csv\n",
    "df.to_csv('gdp_data.csv')"
   ]
  }
 ],
 "metadata": {
  "kernelspec": {
   "display_name": "Python 3",
   "language": "python",
   "name": "python3"
  },
  "language_info": {
   "codemirror_mode": {
    "name": "ipython",
    "version": 3
   },
   "file_extension": ".py",
   "mimetype": "text/x-python",
   "name": "python",
   "nbconvert_exporter": "python",
   "pygments_lexer": "ipython3",
   "version": "3.8.5"
  }
 },
 "nbformat": 4,
 "nbformat_minor": 2
}

{
 "cells": [
  {
   "cell_type": "markdown",
   "id": "eb419ee7-12c7-4ab3-a64b-a652ef14cf84",
   "metadata": {},
   "source": [
    "# Extract Emails from Text\n",
    "\n",
    "This Notebook demonstrates how to extract email address from text containing names and email addresses. The Notebook also demonstrates how to use the `names` module to generate random names.\n",
    "\n",
    "## Random name and email generation\n",
    "\n",
    "First, install the names module"
   ]
  },
  {
   "cell_type": "code",
   "execution_count": 1,
   "id": "f02555d6-2adc-44a8-a7fa-6878cb43a308",
   "metadata": {},
   "outputs": [
    {
     "name": "stdout",
     "output_type": "stream",
     "text": [
      "Requirement already satisfied: names in /Users/bcjenkin/anaconda3/lib/python3.11/site-packages (0.3.0)\n",
      "Note: you may need to restart the kernel to use updated packages.\n"
     ]
    }
   ],
   "source": [
    "pip install names"
   ]
  },
  {
   "cell_type": "code",
   "execution_count": 2,
   "id": "0f7084b4-4b82-4b90-9459-310cd97539b0",
   "metadata": {},
   "outputs": [
    {
     "name": "stdout",
     "output_type": "stream",
     "text": [
      "\tBruce Dillon (bdillon@example.com)\n",
      "\tJoshua Tyson (jtyson@example.com)\n",
      "\tNathan Wiederhold (nwiederhold@example.com)\n",
      "\tMaria Funderburk (mfunderburk@example.com)\n",
      "\tRonald Traynor (rtraynor@example.com)\n",
      "\tPatricia Snow (psnow@example.com)\n",
      "\tPeggy Frey (pfrey@example.com)\n",
      "\tRoberto Thomas (rthomas@example.com)\n",
      "\tThomas Cole (tcole@example.com)\n",
      "\tBrenda Orr (borr@example.com)\n",
      "\tFloyd Alexander (falexander@example.com)\n",
      "\tGerald Holtz (gholtz@example.com)\n",
      "\tCraig Stewart (cstewart@example.com)\n",
      "\tBoyd Blanks (bblanks@example.com)\n",
      "\tDavid Streett (dstreett@example.com)\n",
      "\tJulia Larsen (jlarsen@example.com)\n",
      "\tRosalie Darrow (rdarrow@example.com)\n",
      "\tDianna Williams (dwilliams@example.com)\n",
      "\tWalter Reed (wreed@example.com)\n",
      "\tDerrick Dulany (ddulany@example.com)\n"
     ]
    }
   ],
   "source": [
    "# Import the names module (https://pypi.org/project/names/)\n",
    "import names\n",
    "\n",
    "# Set the seed for the random umber generator to ensure the same outcome each time the code is run\n",
    "names.random.seed(126)\n",
    "\n",
    "# Iterate over the numbers 0 through 19\n",
    "for i in range(20):\n",
    "\n",
    "    # Draw random first and last names\n",
    "    first = names.get_first_name()\n",
    "    last = names.get_last_name()\n",
    "\n",
    "    # Make a random email address from the first letter of first name and whole last name\n",
    "    email = first[0].lower()+last.lower()+'@example.com'\n",
    "\n",
    "    # Print names and email address\n",
    "    print('\\t'+first+' '+last+' ('+email+')')"
   ]
  },
  {
   "cell_type": "markdown",
   "id": "b38bb2ee-51f5-4137-aff8-90b37c8c0751",
   "metadata": {},
   "source": [
    "## Email address extraction\n",
    "\n",
    "Copy and paste text above and save as a multiline string"
   ]
  },
  {
   "cell_type": "code",
   "execution_count": 3,
   "id": "2403c50f-46d7-4984-a464-a5d595665d13",
   "metadata": {},
   "outputs": [],
   "source": [
    "text = '''Bruce Dillon (bdillon@example.com)\n",
    "Joshua Tyson (jtyson@example.com)\n",
    "Nathan Wiederhold (nwiederhold@example.com)\n",
    "Maria Funderburk (mfunderburk@example.com)\n",
    "Ronald Traynor (rtraynor@example.com)\n",
    "Patricia Snow (psnow@example.com)\n",
    "Peggy Frey (pfrey@example.com)\n",
    "Roberto Thomas (rthomas@example.com)\n",
    "Thomas Cole (tcole@example.com)\n",
    "Brenda Orr (borr@example.com)\n",
    "Floyd Alexander (falexander@example.com)\n",
    "Gerald Holtz (gholtz@example.com)\n",
    "Craig Stewart (cstewart@example.com)\n",
    "Boyd Blanks (bblanks@example.com)\n",
    "David Streett (dstreett@example.com)\n",
    "Julia Larsen (jlarsen@example.com)\n",
    "Rosalie Darrow (rdarrow@example.com)\n",
    "Dianna Williams (dwilliams@example.com)\n",
    "Walter Reed (wreed@example.com)\n",
    "Derrick Dulany (ddulany@example.com)'''"
   ]
  },
  {
   "cell_type": "markdown",
   "id": "86fc09ce-2c7f-4556-b432-e7234bfcf3df",
   "metadata": {},
   "source": [
    "Print `text` and notice that new lines are indicated by the `\\n` character."
   ]
  },
  {
   "cell_type": "code",
   "execution_count": 4,
   "id": "0704fb6e-f6e5-4115-a285-ee6ef44966c3",
   "metadata": {},
   "outputs": [
    {
     "name": "stdout",
     "output_type": "stream",
     "text": [
      "Bruce Dillon (bdillon@example.com)\n",
      "Joshua Tyson (jtyson@example.com)\n",
      "Nathan Wiederhold (nwiederhold@example.com)\n",
      "Maria Funderburk (mfunderburk@example.com)\n",
      "Ronald Traynor (rtraynor@example.com)\n",
      "Patricia Snow (psnow@example.com)\n",
      "Peggy Frey (pfrey@example.com)\n",
      "Roberto Thomas (rthomas@example.com)\n",
      "Thomas Cole (tcole@example.com)\n",
      "Brenda Orr (borr@example.com)\n",
      "Floyd Alexander (falexander@example.com)\n",
      "Gerald Holtz (gholtz@example.com)\n",
      "Craig Stewart (cstewart@example.com)\n",
      "Boyd Blanks (bblanks@example.com)\n",
      "David Streett (dstreett@example.com)\n",
      "Julia Larsen (jlarsen@example.com)\n",
      "Rosalie Darrow (rdarrow@example.com)\n",
      "Dianna Williams (dwilliams@example.com)\n",
      "Walter Reed (wreed@example.com)\n",
      "Derrick Dulany (ddulany@example.com)\n"
     ]
    }
   ],
   "source": [
    "print(text)"
   ]
  },
  {
   "cell_type": "markdown",
   "id": "1f6c8f20-1d36-4c7a-87f6-a0cfb8c5a884",
   "metadata": {},
   "source": [
    "Split on the new line character."
   ]
  },
  {
   "cell_type": "code",
   "execution_count": 5,
   "id": "8a96deeb-7c32-44f8-b8ca-7a6cbf355902",
   "metadata": {},
   "outputs": [
    {
     "data": {
      "text/plain": [
       "['Bruce Dillon (bdillon@example.com)',\n",
       " 'Joshua Tyson (jtyson@example.com)',\n",
       " 'Nathan Wiederhold (nwiederhold@example.com)',\n",
       " 'Maria Funderburk (mfunderburk@example.com)',\n",
       " 'Ronald Traynor (rtraynor@example.com)',\n",
       " 'Patricia Snow (psnow@example.com)',\n",
       " 'Peggy Frey (pfrey@example.com)',\n",
       " 'Roberto Thomas (rthomas@example.com)',\n",
       " 'Thomas Cole (tcole@example.com)',\n",
       " 'Brenda Orr (borr@example.com)',\n",
       " 'Floyd Alexander (falexander@example.com)',\n",
       " 'Gerald Holtz (gholtz@example.com)',\n",
       " 'Craig Stewart (cstewart@example.com)',\n",
       " 'Boyd Blanks (bblanks@example.com)',\n",
       " 'David Streett (dstreett@example.com)',\n",
       " 'Julia Larsen (jlarsen@example.com)',\n",
       " 'Rosalie Darrow (rdarrow@example.com)',\n",
       " 'Dianna Williams (dwilliams@example.com)',\n",
       " 'Walter Reed (wreed@example.com)',\n",
       " 'Derrick Dulany (ddulany@example.com)']"
      ]
     },
     "execution_count": 5,
     "metadata": {},
     "output_type": "execute_result"
    }
   ],
   "source": [
    "lines = text.split('\\n')\n",
    "\n",
    "lines"
   ]
  },
  {
   "cell_type": "markdown",
   "id": "453b7bbc-c510-4ff5-b935-a18b1d7700ff",
   "metadata": {},
   "source": [
    "Iterate over the lines and split on the `(` character."
   ]
  },
  {
   "cell_type": "code",
   "execution_count": 6,
   "id": "bc2a6b7f-370d-42ee-9ba9-62abc362ef19",
   "metadata": {},
   "outputs": [
    {
     "name": "stdout",
     "output_type": "stream",
     "text": [
      "bdillon@example.com\n",
      "jtyson@example.com\n",
      "nwiederhold@example.com\n",
      "mfunderburk@example.com\n",
      "rtraynor@example.com\n",
      "psnow@example.com\n",
      "pfrey@example.com\n",
      "rthomas@example.com\n",
      "tcole@example.com\n",
      "borr@example.com\n",
      "falexander@example.com\n",
      "gholtz@example.com\n",
      "cstewart@example.com\n",
      "bblanks@example.com\n",
      "dstreett@example.com\n",
      "jlarsen@example.com\n",
      "rdarrow@example.com\n",
      "dwilliams@example.com\n",
      "wreed@example.com\n",
      "ddulany@example.com\n"
     ]
    }
   ],
   "source": [
    "for line in lines:\n",
    "    email = line.split('(')\n",
    "    print(email[-1][:-1])"
   ]
  }
 ],
 "metadata": {
  "kernelspec": {
   "display_name": "Python 3 (ipykernel)",
   "language": "python",
   "name": "python3"
  },
  "language_info": {
   "codemirror_mode": {
    "name": "ipython",
    "version": 3
   },
   "file_extension": ".py",
   "mimetype": "text/x-python",
   "name": "python",
   "nbconvert_exporter": "python",
   "pygments_lexer": "ipython3",
   "version": "3.11.5"
  }
 },
 "nbformat": 4,
 "nbformat_minor": 5
}

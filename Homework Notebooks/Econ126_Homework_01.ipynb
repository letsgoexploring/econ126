{
 "cells": [
  {
   "cell_type": "markdown",
   "metadata": {},
   "source": [
    "# Homework 1 \n",
    "\n",
    "**Instructions:** Complete the notebook below. Download the completed notebook in HTML format. Upload assignment using Canvas.\n",
    "\n",
    "To download as HTML: In the Jupyter Notebook menu, slect \"File\" -> \"Download as\" -> \"HTML (.html)\""
   ]
  },
  {
   "cell_type": "markdown",
   "metadata": {},
   "source": [
    "## Exercise: Strings\n",
    "\n",
    "Follow the instructions in the following cells."
   ]
  },
  {
   "cell_type": "code",
   "execution_count": 1,
   "metadata": {},
   "outputs": [
    {
     "name": "stdout",
     "output_type": "stream",
     "text": [
      "irVinE\n"
     ]
    }
   ],
   "source": [
    "# (a) Create a variable called `city` that equals `irVinE`. Print the value of city.\n",
    "city = 'irVinE'\n",
    "print(city)"
   ]
  },
  {
   "cell_type": "code",
   "execution_count": 2,
   "metadata": {},
   "outputs": [
    {
     "name": "stdout",
     "output_type": "stream",
     "text": [
      "Irvine\n"
     ]
    }
   ],
   "source": [
    "# (b) Use the string method `title` print the value of `city` with the first letter capitalized.\n",
    "print(city.title())"
   ]
  },
  {
   "cell_type": "code",
   "execution_count": 3,
   "metadata": {},
   "outputs": [
    {
     "name": "stdout",
     "output_type": "stream",
     "text": [
      "IRVINE\n"
     ]
    }
   ],
   "source": [
    "# (c) Use the string method `upper` to print the value of `city` in all caps.\n",
    "print(city.upper())"
   ]
  },
  {
   "cell_type": "code",
   "execution_count": 4,
   "metadata": {},
   "outputs": [
    {
     "name": "stdout",
     "output_type": "stream",
     "text": [
      "IRvINe\n"
     ]
    }
   ],
   "source": [
    "# (d) Use the string method `swapcase` to print the value of `city` with upper- and lowercase letters reversed.\n",
    "print(city.swapcase())"
   ]
  },
  {
   "cell_type": "code",
   "execution_count": 5,
   "metadata": {},
   "outputs": [
    {
     "name": "stdout",
     "output_type": "stream",
     "text": [
      "ArVAnE\n"
     ]
    }
   ],
   "source": [
    "# (e) Use the string method `replace` to print the value of `city` `i`s replaced by `a`s.\n",
    "print(city.replace('i','A'))"
   ]
  },
  {
   "cell_type": "code",
   "execution_count": 6,
   "metadata": {},
   "outputs": [
    {
     "name": "stdout",
     "output_type": "stream",
     "text": [
      "Irvine, CA\n"
     ]
    }
   ],
   "source": [
    "# (f) Create a new variable called `state` equal to `CA`. Use `city` and `state` (and the `title` method) \n",
    "#     to print `Irvine, CA`.\n",
    "state = 'CA'\n",
    "print(city.title()+', '+state)"
   ]
  },
  {
   "cell_type": "code",
   "execution_count": 7,
   "metadata": {},
   "outputs": [
    {
     "name": "stdout",
     "output_type": "stream",
     "text": [
      "Irvine, CA\n"
     ]
    }
   ],
   "source": [
    "# (g) Use string methods `join` and `title` to combine `city` and `state` into `Irvine, CA` and print.\n",
    "print(', '.join([city.title(),state]))"
   ]
  },
  {
   "cell_type": "markdown",
   "metadata": {},
   "source": [
    "## Exercise: Math\n",
    "\n",
    "Follow the instructions in the following cells."
   ]
  },
  {
   "cell_type": "code",
   "execution_count": 8,
   "metadata": {},
   "outputs": [],
   "source": [
    "# (a) Import the math module\n",
    "import math"
   ]
  },
  {
   "cell_type": "code",
   "execution_count": 9,
   "metadata": {},
   "outputs": [
    {
     "name": "stdout",
     "output_type": "stream",
     "text": [
      "1.2599210498948732\n"
     ]
    }
   ],
   "source": [
    "# (b) Print the cube root of 2\n",
    "print(math.pow(2,1/3))"
   ]
  },
  {
   "cell_type": "code",
   "execution_count": 10,
   "metadata": {},
   "outputs": [
    {
     "name": "stdout",
     "output_type": "stream",
     "text": [
      "-1.0\n"
     ]
    }
   ],
   "source": [
    "# (c) Print the sine of 3*pi/2\n",
    "print(math.sin(3*math.pi/2))"
   ]
  },
  {
   "cell_type": "code",
   "execution_count": 11,
   "metadata": {},
   "outputs": [
    {
     "name": "stdout",
     "output_type": "stream",
     "text": [
      "e^pi > pi^e: 0.6815349144182221\n"
     ]
    }
   ],
   "source": [
    "# (d) Which is bigger? e^pi or pi^e. Show how you know.\n",
    "print('e^pi > pi^e:',math.e**math.pi - math.pi**math.e)"
   ]
  },
  {
   "cell_type": "markdown",
   "metadata": {},
   "source": [
    "## Exercise: Markdown practice\n",
    "\n",
    "Covert the cell below to markdown either by doing one of the following:\n",
    "\n",
    "1. Click outside the cell so that the box cell is bordered by a blue box. Press \"m\" on the keyboard\n",
    "2. Click outside the cell so that the box cell is bordered by a blue box. In the dropdown menu at the top of the notebook, change \"Code\" to \"Markdown\".\n",
    "\n",
    "Write three sentences on any topic that you like and run the cell."
   ]
  },
  {
   "cell_type": "markdown",
   "metadata": {},
   "source": [
    "This is sentence one. This is sentence two. This is sentence three."
   ]
  }
 ],
 "metadata": {
  "kernelspec": {
   "display_name": "Python 3 (ipykernel)",
   "language": "python",
   "name": "python3"
  },
  "language_info": {
   "codemirror_mode": {
    "name": "ipython",
    "version": 3
   },
   "file_extension": ".py",
   "mimetype": "text/x-python",
   "name": "python",
   "nbconvert_exporter": "python",
   "pygments_lexer": "ipython3",
   "version": "3.9.12"
  },
  "latex_envs": {
   "LaTeX_envs_menu_present": true,
   "autoclose": false,
   "autocomplete": true,
   "bibliofile": "biblio.bib",
   "cite_by": "apalike",
   "current_citInitial": 1,
   "eqLabelWithNumbers": true,
   "eqNumInitial": 1,
   "hotkeys": {
    "equation": "Ctrl-E",
    "itemize": "Ctrl-I"
   },
   "labels_anchors": false,
   "latex_user_defs": false,
   "report_style_numbering": false,
   "user_envs_cfg": false
  }
 },
 "nbformat": 4,
 "nbformat_minor": 2
}

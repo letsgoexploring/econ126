{
    "cells": [
        {
            "cell_type": "code",
            "execution_count": null,
            "metadata": {},
            "outputs": [],
            "source": [
                "import matplotlib.pyplot as plt\n",
                "plt.style.use('classic')\n",
                "plt.rcParams['figure.facecolor'] = 'white'"
            ]
        },
        {
            "cell_type": "markdown",
            "metadata": {},
            "source": [
                "# Discussion: Week 1"
            ]
        },
        {
            "cell_type": "code",
            "execution_count": null,
            "metadata": {},
            "outputs": [],
            "source": [
                "# Import the NumPy module\n"
            ]
        },
        {
            "cell_type": "markdown",
            "metadata": {},
            "source": [
                "## Exercise: Capital Evolution in the Solow Model\n",
                "\n",
                "Suppose that capital per worker $k_t$ evolves according to the following equation:\n",
                "\n",
                "\\begin{align}\n",
                "k_{t+1} & = 0.12 \\cdot 100 \\cdot k_t^{1/3} + 0.9\\cdot k_t, \\tag{1}\n",
                "\\end{align}\n",
                "\n",
                "where the first term on the right-hand side implies that the economy has a 12 percent savings rate, that total factor productivity equals 100, and that there is no growth in technology (or \"labor efficiency\"). The second term implies that the rate of capital depreciation is 10 percent (i.e., $1-\\delta = 0.9 \\Rightarrow \\delta = 0.1$). Assume that capital per worker in the initial period $k_0$ is given.\n",
                "\n",
                "The *steady state* quantity of capital per worker is the number $k^*$ such that if $k_t = k^*$, $k_{t+1} = k^*$. Find $k^*$ by dropping the time subscripts in equation (1) and solving for $k$. Obtain:\n",
                "\n",
                "\\begin{align}\n",
                "k^* & = \\left(\\frac{0.1}{0.12\\cdot 100}\\right)^{3/2} = 1{,}314.53414 \\tag{2}\n",
                "\\end{align}"
            ]
        },
        {
            "cell_type": "markdown",
            "metadata": {},
            "source": [
                "### Part (a): Simulate 100 Periods"
            ]
        },
        {
            "cell_type": "code",
            "execution_count": null,
            "metadata": {},
            "outputs": [],
            "source": [
                "# Create a variable called 'k0' that stores the initial quantity of capital in the economy. Set 'k0' to 400\n",
                "\n",
                "\n",
                "# Create a variable called 'T' equal to the number of periods after 0 to simulate. Set T = 100\n",
                "\n",
                "\n",
                "# Use the function np.zeros to create a variable called 'capital' equal to an array of zeros of length T+1\n",
                "\n",
                "\n",
                "# Print the value of 'capital'\n"
            ]
        },
        {
            "cell_type": "code",
            "execution_count": null,
            "metadata": {},
            "outputs": [],
            "source": [
                "# Set the first element of 'capital' to the value in k0\n",
                "\n",
                "\n",
                "# Print the value of 'capital'\n"
            ]
        },
        {
            "cell_type": "code",
            "execution_count": null,
            "metadata": {},
            "outputs": [],
            "source": [
                "# Use a for loop to iterate over the additional elemnts of the 'capital' array that need to be computed.\n",
                "# Hint: capital has length T+1. The first value is filled, so you need fill the remaining T values.\n",
                "\n",
                "\n",
                "",
                "# Print the value of 'capital'\n"
            ]
        },
        {
            "cell_type": "code",
            "execution_count": null,
            "metadata": {},
            "outputs": [],
            "source": [
                "# Print the value of  the last element of 'capital'\n"
            ]
        },
        {
            "cell_type": "code",
            "execution_count": null,
            "metadata": {},
            "outputs": [],
            "source": [
                "# Plot the simulated capital per worker\n",
                "\n",
                "\n",
                ""
            ]
        },
        {
            "cell_type": "markdown",
            "metadata": {},
            "source": [
                "### Part (b): Simulate 1,000 Periods"
            ]
        },
        {
            "cell_type": "code",
            "execution_count": null,
            "metadata": {},
            "outputs": [],
            "source": [
                "# Create a variable called 'T' equal to the number of periods after 0 to simulate. Set T = 1000\n",
                "\n",
                "\n",
                "# Use the function np.zeros to create a variable called 'capital' equal to an array of zeros of length T+1\n",
                "\n",
                "\n",
                "# Set the first element of 'capital' to the value in k0\n",
                "\n",
                "\n",
                "# Use a for loop to iterate over the additional elemnts of the 'capital' array that need to be computed.\n",
                "\n",
                "\n",
                "",
                "# Print the value of  the last element of 'capital'\n"
            ]
        },
        {
            "cell_type": "code",
            "execution_count": null,
            "metadata": {},
            "outputs": [],
            "source": [
                "# Plot the simulated capital per worker\n",
                "\n",
                "\n",
                ""
            ]
        },
        {
            "cell_type": "markdown",
            "metadata": {},
            "source": [
                "### Part (c): Evaluation\n",
                "\n",
                "Provide answers to the following questions in the next cell.\n",
                "\n",
                "**Question**\n",
                "\n",
                "1. Why is the final value of capital computed in Part (b) closer to the true steady state than the value computed in Part (a)?"
            ]
        },
        {
            "cell_type": "markdown",
            "metadata": {},
            "source": [
                "**Answer**\n",
                "\n",
                "1.  "
            ]
        }
    ],
    "metadata": {
        "anaconda-cloud": {},
        "kernelspec": {
            "display_name": "Python 3 (ipykernel)",
            "language": "python",
            "name": "python3"
        },
        "language_info": {
            "codemirror_mode": {
                "name": "ipython",
                "version": 3
            },
            "file_extension": ".py",
            "mimetype": "text/x-python",
            "name": "python",
            "nbconvert_exporter": "python",
            "pygments_lexer": "ipython3",
            "version": "3.11.5"
        }
    },
    "nbformat": 4,
    "nbformat_minor": 4
}
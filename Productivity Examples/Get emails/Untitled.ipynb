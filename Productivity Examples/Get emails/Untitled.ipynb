{
 "cells": [
  {
   "cell_type": "code",
   "execution_count": 1,
   "id": "e7537ad5-ad4e-4b92-a8dc-44159d6cbc05",
   "metadata": {},
   "outputs": [],
   "source": [
    "import pandas as pd\n",
    "import numpy as np"
   ]
  },
  {
   "cell_type": "code",
   "execution_count": 11,
   "id": "f3f7f1b9-00d6-40cc-a47c-a01d20346375",
   "metadata": {},
   "outputs": [
    {
     "name": "stdout",
     "output_type": "stream",
     "text": [
      "\tAishwarya Goel\n",
      "\tAndre Diep\n",
      "\tBill Zhang\n",
      "\tChenfei Guo\n",
      "\tDahyun Park\n",
      "\tHenry Niu\n",
      "\tJames Moore\n",
      "\tJosh Coronel\n",
      "\tKatherine Wei\n",
      "\tKayla Nguyen\n",
      "\tLaura Xu\n",
      "\tMichael Machhor\n",
      "\tPinge Chen\n",
      "\tSebastian Cummings\n",
      "\tVinh Tran\n",
      "\tWillow Nishimura\n",
      "\tZhichao Jin\n"
     ]
    }
   ],
   "source": [
    "data = pd.read_csv('2024 Fall ELC Schedule - PA Schedule.csv')\n",
    "data = data[data.columns[1:]]\n",
    "\n",
    "remote = pd.Series(data.values.flatten()).sort_values().dropna().unique()\n",
    "\n",
    "for r in remote:\n",
    "    print('\\t'+r)"
   ]
  },
  {
   "cell_type": "markdown",
   "id": "b9147d3f-51bc-40d8-a071-7c6434ec00c9",
   "metadata": {},
   "source": [
    "\tChenfei Guo\n",
    "\tDahyun Park\n",
    "\tJames Moore\n",
    "\tKatherine Wei\n",
    "\tMichael Machhor\n",
    "\tVinh Tran"
   ]
  },
  {
   "cell_type": "code",
   "execution_count": null,
   "id": "6d9c92ce-fd6e-46c6-af73-b25c9ca89fe0",
   "metadata": {},
   "outputs": [],
   "source": []
  },
  {
   "cell_type": "code",
   "execution_count": null,
   "id": "fb4c04a6-57f4-45db-9e6c-b497ab22f184",
   "metadata": {},
   "outputs": [],
   "source": []
  }
 ],
 "metadata": {
  "kernelspec": {
   "display_name": "Python 3 (ipykernel)",
   "language": "python",
   "name": "python3"
  },
  "language_info": {
   "codemirror_mode": {
    "name": "ipython",
    "version": 3
   },
   "file_extension": ".py",
   "mimetype": "text/x-python",
   "name": "python",
   "nbconvert_exporter": "python",
   "pygments_lexer": "ipython3",
   "version": "3.11.5"
  }
 },
 "nbformat": 4,
 "nbformat_minor": 5
}

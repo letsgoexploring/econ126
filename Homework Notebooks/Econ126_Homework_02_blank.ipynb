{
    "cells": [
        {
            "cell_type": "markdown",
            "metadata": {},
            "source": [
                "# Homework 2\n",
                "\n",
                "**Instructions:** Complete the notebook below. Download the completed notebook in HTML format. Upload assignment using Canvas."
            ]
        },
        {
            "cell_type": "markdown",
            "metadata": {},
            "source": [
                "## Exercise: NumPy Arrays\n",
                "\n",
                "Follow the instructions in the following cells."
            ]
        },
        {
            "cell_type": "code",
            "execution_count": null,
            "metadata": {},
            "outputs": [],
            "source": [
                "# Import numpy\n"
            ]
        },
        {
            "cell_type": "code",
            "execution_count": null,
            "metadata": {},
            "outputs": [],
            "source": [
                "# Use the 'np.arange()' function to create a variable called 'numbers1' that stores the integers \n",
                "# 1 through (and including) 10\n",
                "\n",
                "\n",
                "# Print the value of 'numbers1'\n"
            ]
        },
        {
            "cell_type": "code",
            "execution_count": null,
            "metadata": {},
            "outputs": [],
            "source": [
                "# Use the 'np.arange()' function to create a variable called 'numbers2' that stores the numbers \n",
                "# 0 through (and including) 1 with a step increment of 0.01\n",
                "\n",
                "\n",
                "",
                "# Print the value of 'numbers2'\n"
            ]
        },
        {
            "cell_type": "code",
            "execution_count": null,
            "metadata": {},
            "outputs": [],
            "source": [
                "# Print the 5th value of 'numbers2'. (Remember that the index starts counting at 0)\n"
            ]
        },
        {
            "cell_type": "code",
            "execution_count": null,
            "metadata": {},
            "outputs": [],
            "source": [
                "# Print the last value of 'numbers2'.\n"
            ]
        },
        {
            "cell_type": "code",
            "execution_count": null,
            "metadata": {},
            "outputs": [],
            "source": [
                "# Print the first 12 values of 'numbers2'.\n"
            ]
        },
        {
            "cell_type": "code",
            "execution_count": null,
            "metadata": {},
            "outputs": [],
            "source": [
                "# Print the last 12 values of 'numbers2'.\n"
            ]
        },
        {
            "cell_type": "code",
            "execution_count": null,
            "metadata": {},
            "outputs": [],
            "source": [
                "# Use the 'np.zeros()' function to create a variable called 'zeros' that is an array of 20 zeros\n",
                "\n",
                "\n",
                "# Print the value of 'zeros'\n"
            ]
        },
        {
            "cell_type": "code",
            "execution_count": null,
            "metadata": {},
            "outputs": [],
            "source": [
                "# Change the second value of 'zeros' to 1 and print \n",
                "\n",
                "\n",
                "# Print the value of 'zeros'\n"
            ]
        },
        {
            "cell_type": "markdown",
            "metadata": {},
            "source": [
                "## Exercise: Random Numbers\n",
                "\n",
                "Follow the instructions in the following cells."
            ]
        },
        {
            "cell_type": "code",
            "execution_count": null,
            "metadata": {},
            "outputs": [],
            "source": [
                "# Set the seed of NumPy's random number generator to 126\n",
                "\n",
                "\n",
                "# Create a variable called 'epsilon' that is an array containing 25 draws from\n",
                "# a normal distribution with mean 4 and standard deviation 2\n",
                "\n",
                "\n",
                "# Print the value of epsilon\n"
            ]
        },
        {
            "cell_type": "code",
            "execution_count": null,
            "metadata": {},
            "outputs": [],
            "source": [
                "# Print the mean of 'epsilon'\n"
            ]
        },
        {
            "cell_type": "code",
            "execution_count": null,
            "metadata": {},
            "outputs": [],
            "source": [
                "# Print the standard deviation of 'epsilon'\n"
            ]
        },
        {
            "cell_type": "markdown",
            "metadata": {},
            "source": [
                "## Exercise: The Cobb-Douglas Production Function\n",
                "\n",
                "The Cobb-Douglas production function can be written in per worker terms as :\n",
                "  \\begin{align}\n",
                "  y & = A k^{\\alpha},\n",
                "  \\end{align}\n",
                "where $y$ denotes output per worker, $k$ denotes capital per worker, and $A$ denotes total factor productivity or technology."
            ]
        },
        {
            "cell_type": "markdown",
            "metadata": {},
            "source": [
                "### Part (a)\n",
                "\n",
                "On a single axis: plot the Cobb-Douglas production for $A$ = 0.8, 1, 1.2, and 1.4 with $\\alpha$ = 0.35 and $k$ ranging from 0 to 10. Each line should have a different color. Your plot must have a title and axis labels. The plot should also contain a legend that clearly indicates which line is associated with which value of $A$ and does not cover the plotted lines."
            ]
        },
        {
            "cell_type": "code",
            "execution_count": null,
            "metadata": {},
            "outputs": [],
            "source": [
                "# Import the pyplot module from Matplotlib as plt\n",
                "\n",
                "\n",
                "# Select the Matlplotlib style sheet to use (Optional)\n",
                "\n",
                "\n",
                "# Set the plotting background to white\n"
            ]
        },
        {
            "cell_type": "code",
            "execution_count": null,
            "metadata": {},
            "outputs": [],
            "source": [
                "# Set capital share (alpha)\n",
                "\n",
                "\n",
                "# Create an array of capital values\n",
                "\n",
                "\n",
                "# Plot production function for each of the given values for A\n",
                "\n",
                "\n",
                "",
                "",
                "",
                "",
                "",
                "",
                "",
                "",
                "",
                "",
                "",
                "",
                "",
                "",
                "",
                "",
                "# Add x- and y-axis labels\n",
                "\n",
                "\n",
                "# Add a title to the plot\n",
                "\n",
                "# Create a legend\n",
                "\n",
                "# Add a grid\n"
            ]
        },
        {
            "cell_type": "markdown",
            "metadata": {},
            "source": [
                "**Question**\n",
                "\n",
                "1. *Briefly* explain in words how increasing $A$ affects the shape of the production function."
            ]
        },
        {
            "cell_type": "markdown",
            "metadata": {},
            "source": [
                "**Answer**\n",
                "\n",
                "1.  "
            ]
        },
        {
            "cell_type": "markdown",
            "metadata": {},
            "source": [
                "### Part (b)\n",
                "\n",
                "On a single axis: plot the Cobb-Douglas production for $\\alpha$ = 0.1, 0.2, 0.3, 0.4, and 0.5 with $A$ = 1 and $k$ ranging from 0 to 10. Each line should have a different color. Your plot must have a title and axis labels. The plot should also contain a legend that clearly indicates which line is associated with which value of $\\alpha$ and does not cover the plotted lines."
            ]
        },
        {
            "cell_type": "code",
            "execution_count": null,
            "metadata": {},
            "outputs": [],
            "source": [
                "# Set TFP (A)\n",
                "\n",
                "\n",
                "# Plot production function for each of the given values for alpha\n",
                "\n",
                "\n",
                "",
                "# Add x- and y-axis labels\n",
                "\n",
                "\n",
                "# Add a title to the plot\n",
                "\n",
                "# Create a legend\n",
                "\n",
                "# Add a grid\n"
            ]
        },
        {
            "cell_type": "markdown",
            "metadata": {},
            "source": [
                "**Question**\n",
                "\n",
                "1. *Briefly* explain in words how increasing $\\alpha$ affects the shape of the production function."
            ]
        },
        {
            "cell_type": "markdown",
            "metadata": {},
            "source": [
                "**Answer**\n",
                "\n",
                "1.  "
            ]
        },
        {
            "cell_type": "markdown",
            "metadata": {},
            "source": [
                "### Exercise: The Cardioid\n",
                "\n",
                "The cardioid is a shape described by the parametric equations:\n",
                "\n",
                "  \\begin{align}\n",
                "  x & = a(2\\cos \\theta - \\cos 2\\theta), \\\\\n",
                "  y & = a(2\\sin \\theta - \\sin 2\\theta).\n",
                "  \\end{align}\n",
                "  \n",
                "Construct a well-labeled graph of the cardiod for $a=4$ and $\\theta$ in $[0,2\\pi]$. Your plot must have a title and axis labels."
            ]
        },
        {
            "cell_type": "code",
            "execution_count": null,
            "metadata": {},
            "outputs": [],
            "source": [
                "# Construct data for x and y\n",
                "\n",
                "\n",
                "",
                "",
                "",
                "# Plot y against x\n",
                "\n",
                "\n",
                "# Create x-axis label\n",
                "\n",
                "\n",
                "# Create y-axis label\n",
                "\n",
                "\n",
                "# Create title for plot\n",
                "\n",
                "\n",
                "# Add a grid to the plot\n"
            ]
        },
        {
            "cell_type": "markdown",
            "metadata": {},
            "source": [
                "## Exercise: Unconstrained optimization\n",
                "\n",
                "Consider the quadratic function:\n",
                "    \n",
                "\\begin{align}\n",
                "f(x) & = -7x^2 + 930x + 30\n",
                "\\end{align}\n",
                "    \n",
                "You will use analytic (i.e., pencil and paper) and numerical methods to find the the value of $x$ that maximizes $f(x)$. Another name for $x$ that maximizes $f(x)$ is the *argument of the maximum* value $f(x)$.\n",
                "\n",
                "### Part (a): Analytic solution\n",
                "\n",
                "Use standard calculus methods to solve for the value of $x$ that maximizes $f(x)$ to **five decimal places**. Use your answer to complete the sentence in the next cell."
            ]
        },
        {
            "cell_type": "markdown",
            "metadata": {},
            "source": [
                " The value of $x$ that maximizes $f(x)$ is: "
            ]
        },
        {
            "cell_type": "markdown",
            "metadata": {},
            "source": [
                "### Part (b):  Numerical solution\n",
                "\n",
                "In the cells below, you will use NumPy to try to compute the argument of the maximum of $f(x)$."
            ]
        },
        {
            "cell_type": "code",
            "execution_count": null,
            "metadata": {},
            "outputs": [],
            "source": [
                "# Use np.arange to create a variable called 'x' that is equal to the numbers 0 through 100 \n",
                "# with a spacing between numbers of 0.1\n",
                "\n",
                "\n",
                "# Create a variable called 'f' that equals f(x) at each value of the array 'x' just defined\n",
                "\n",
                "\n",
                "# Use np.argmax to create a variable called xstar equal to the value of 'x' that maximizes the function f(x).\n",
                "\n",
                "\n",
                "# Print the value of xstar\n"
            ]
        },
        {
            "cell_type": "code",
            "execution_count": null,
            "metadata": {},
            "outputs": [],
            "source": [
                "# Use np.arange to create a variable called 'x' that is equal to the numbers 0 through 100 \n",
                "# with a spacing between numbers of 0.001\n",
                "\n",
                "\n",
                "# Create a variable called 'f' that equals f(x) at each value of the array 'x' just defined\n",
                "\n",
                "\n",
                "# Use np.argmax to create a variable called xstar equal to the value of 'x' that maximizes the function f(x).\n",
                "\n",
                "\n",
                "# Print the value of xstar\n"
            ]
        },
        {
            "cell_type": "code",
            "execution_count": null,
            "metadata": {},
            "outputs": [],
            "source": [
                "# Use np.arange to create a variable called 'x' that is equal to the numbers 0 through *50*\n",
                "# with a spacing between numbers of 0.001\n",
                "\n",
                "\n",
                "# Create a variable called 'f' that equals f(x) at each value of the array 'x' just defined\n",
                "\n",
                "\n",
                "# Use np.argmax to create a variable called xstar equal to the value of 'x' that maximizes the function f(x).\n",
                "\n",
                "\n",
                "# Print the value of xstar\n"
            ]
        },
        {
            "cell_type": "markdown",
            "metadata": {},
            "source": [
                "### Part (c): Evaluation\n",
                "\n",
                "Provide answers to the follow questions in the next cell.\n",
                "\n",
                "**Questions**\n",
                "\n",
                "1. How did the choice of step size in the array `x` affect the accuracy of the computed results in the first two cells of Part (b)?\n",
                "\n",
                "2. What do you think is the drawback to decreasing the stepsize in `x`?\n",
                "\n",
                "3. In the previous cell, why did NumPy return value for `xstar` that is so different from the solution you derived in Part (a)?"
            ]
        },
        {
            "cell_type": "markdown",
            "metadata": {},
            "source": [
                "**Answers**\n",
                "\n",
                "1.  \n\n",
                "2.  \n\n",
                "3.  "
            ]
        },
        {
            "cell_type": "markdown",
            "metadata": {},
            "source": [
                "## Exercise: Utility Maximization\n",
                "\n",
                "Recall the two good utility maximization problem from microeconomics. Let $x$ and $y$ denote the amount of two goods that a person consumes. The person receives utility from consumption given by:\n",
                "  \\begin{align}\n",
                "  u(x,y) & = x^{\\alpha}y^{\\beta} \n",
                "  \\end{align}\n",
                "The person has income $M$ to spend on the two goods and the price of the goods are $p_x$ and $p_y$. The consumer's budget constraint is:\n",
                "  \\begin{align}\n",
                "  M & = p_x x + p_y y\n",
                "  \\end{align}\n",
                "Suppose that $M = 100$, $\\alpha=0.25$, $\\beta=0.75$, $p_x = 1$. and $p_y = 0.5$. The consumer's problem is to maximize their utility subject to the budget constraint. While this problem can easily be solved by hand, we're going to use a computational approach. You can also solve the problem by hand to verify your solution."
            ]
        },
        {
            "cell_type": "markdown",
            "metadata": {},
            "source": [
                "### Part (a)\n",
                "\n",
                "Use the budget constraint to solve for $y$ in terms of $x$, $p_x$, $p_y$, and $M$. Use the result to write the consumer's utility as a function of $x$ only. Create a variable called `x` equal to an array of values from 0 to 80 with step size equal to 0.001 and a variable called `utility` equal to the consumer's utility. Plot the consumer's utility against $x$."
            ]
        },
        {
            "cell_type": "code",
            "execution_count": null,
            "metadata": {},
            "outputs": [],
            "source": [
                "# Assign values to the constants alpha, beta, M, px, py\n",
                "\n",
                "\n",
                "",
                "",
                "",
                "",
                "# Create an array of x values\n",
                "\n",
                "\n",
                "# Create an array of utility values\n",
                "\n",
                "\n",
                "# Plot utility against x.\n",
                "\n",
                "\n",
                "# x- and y-axis labels\n",
                "\n",
                "\n",
                "",
                "# Title\n",
                "\n",
                "\n",
                "# Add grid\n"
            ]
        },
        {
            "cell_type": "markdown",
            "metadata": {},
            "source": [
                "### Part (b)\n",
                "\n",
                "The NumPy function `np.max()` returns the highest value in an array and `np.argmax()` returns the index of the highest value. Print the highest value and index of the highest value of `utility`."
            ]
        },
        {
            "cell_type": "code",
            "execution_count": null,
            "metadata": {},
            "outputs": [],
            "source": [
                "\n"
            ]
        },
        {
            "cell_type": "markdown",
            "metadata": {},
            "source": [
                "### Part (c)\n",
                "\n",
                "Use the index of the highest value of utility to find the value in `x` with the same index and store value in a new variable called `xstar`. Print the value of `xstar`."
            ]
        },
        {
            "cell_type": "code",
            "execution_count": null,
            "metadata": {},
            "outputs": [],
            "source": [
                "# Create variable 'xstar' equal to value in 'x' that maximizes utility\n",
                "\n",
                "\n",
                "# Print value of 'xstar'\n"
            ]
        },
        {
            "cell_type": "markdown",
            "metadata": {},
            "source": [
                "### Part (d)\n",
                "\n",
                "Use the budget constraint to the find the implied utility-maximizing vaue of $y$ and store this in a variable called `ystar`. Print `ystar`."
            ]
        },
        {
            "cell_type": "code",
            "execution_count": null,
            "metadata": {},
            "outputs": [],
            "source": [
                "# Create variable 'ystar' equal to value in 'y' that maximizes utility\n",
                "\n",
                "\n",
                "# Print value of 'ystar'\n"
            ]
        }
    ],
    "metadata": {
        "kernelspec": {
            "display_name": "Python 3 (ipykernel)",
            "language": "python",
            "name": "python3"
        },
        "language_info": {
            "codemirror_mode": {
                "name": "ipython",
                "version": 3
            },
            "file_extension": ".py",
            "mimetype": "text/x-python",
            "name": "python",
            "nbconvert_exporter": "python",
            "pygments_lexer": "ipython3",
            "version": "3.11.3"
        }
    },
    "nbformat": 4,
    "nbformat_minor": 2
}
{
 "cells": [
  {
   "cell_type": "markdown",
   "id": "48a738f4",
   "metadata": {},
   "source": [
    "# Homework and Discussion Dates\n",
    "\n",
    "This notebook generates dates to be used for establishing when assignments on Canvas are to be released and due. Homework assignments are released weekly. Due dates are always on Friday and the late due date is on Saturday. Homework is released 8 days before the due date. \n",
    "\n",
    "There are 8 discussions and discussions start in week 2.\n",
    "\n",
    "To use, set the variable `first_due_date` to the first assignment due date for the course "
   ]
  },
  {
   "cell_type": "code",
   "execution_count": 1,
   "id": "0808f4b5",
   "metadata": {},
   "outputs": [],
   "source": [
    "# Set first assignment due date\n",
    "first_due_date = \"09/30/2022\""
   ]
  },
  {
   "cell_type": "code",
   "execution_count": 2,
   "id": "de7885b3",
   "metadata": {},
   "outputs": [],
   "source": [
    "# Import required timedate functionality\n",
    "from datetime import datetime, timedelta"
   ]
  },
  {
   "cell_type": "markdown",
   "id": "c626f90f",
   "metadata": {},
   "source": [
    "## Homework Dates"
   ]
  },
  {
   "cell_type": "code",
   "execution_count": 3,
   "id": "8cc5da20",
   "metadata": {},
   "outputs": [
    {
     "name": "stdout",
     "output_type": "stream",
     "text": [
      "#    Release    Due        Late      \n",
      "---------------------------------\n",
      "1    Sep 22     Sep 30     Oct 01    \n",
      "2    Sep 29     Oct 07     Oct 08    \n",
      "3    Oct 06     Oct 14     Oct 15    \n",
      "4    Oct 13     Oct 21     Oct 22    \n",
      "5    Oct 20     Oct 28     Oct 29    \n",
      "6    Oct 27     Nov 04     Nov 05    \n",
      "7    Nov 03     Nov 11     Nov 12    \n",
      "8    Nov 10     Nov 18     Nov 19    \n",
      "9    Nov 17     Nov 25     Nov 26    \n",
      "10   Nov 24     Dec 02     Dec 03    \n"
     ]
    }
   ],
   "source": [
    "# Number of weeks\n",
    "number_of_weeks = 10\n",
    "\n",
    "# Set starting due date\n",
    "date = datetime.strptime(first_due_date, \"%m/%d/%Y\")\n",
    "\n",
    "# Print header\n",
    "print( '#'.ljust(4), 'Release'.ljust(10), 'Due'.ljust(10), 'Late'.ljust(10) )\n",
    "print( '-'*33 )\n",
    "\n",
    "# Print release, due, and late dates\n",
    "for i in range(number_of_weeks):\n",
    "    \n",
    "    release = date - timedelta(days=8)\n",
    "    late = date + timedelta(days=1)\n",
    "    \n",
    "    print( str(i+1).ljust(4), release.strftime('%b %d').ljust(10), date.strftime('%b %d').ljust(10), late.strftime('%b %d').ljust(10) )\n",
    "    \n",
    "    date = date + timedelta(days=7)"
   ]
  },
  {
   "cell_type": "markdown",
   "id": "9f085f3f",
   "metadata": {},
   "source": [
    "## Assignment Dates"
   ]
  },
  {
   "cell_type": "code",
   "execution_count": 4,
   "id": "8c43c554",
   "metadata": {},
   "outputs": [
    {
     "name": "stdout",
     "output_type": "stream",
     "text": [
      "#    Date      \n",
      "-----------\n",
      "2    Sep 28    \n",
      "3    Oct 05    \n",
      "4    Oct 12    \n",
      "5    Oct 19    \n",
      "6    Oct 26    \n",
      "7    Nov 02    \n",
      "8    Nov 09    \n",
      "9    Nov 16    \n"
     ]
    }
   ],
   "source": [
    "# Set first assignment due date\n",
    "first_discussion_date = \"09/28/2022\"\n",
    "\n",
    "# Number of weeks\n",
    "number_of_weeks = 8\n",
    "\n",
    "# Set starting due date\n",
    "date = datetime.strptime(first_discussion_date, \"%m/%d/%Y\")\n",
    "\n",
    "# Print header\n",
    "print( '#'.ljust(4), 'Date'.ljust(10) )\n",
    "print( '-'*11 )\n",
    "\n",
    "# Print discussion dates\n",
    "for i in range(number_of_weeks):\n",
    "    \n",
    "    print( str(i+2).ljust(4), date.strftime('%b %d').ljust(10))\n",
    "    \n",
    "    date = date + timedelta(days=7)"
   ]
  }
 ],
 "metadata": {
  "kernelspec": {
   "display_name": "Python 3 (ipykernel)",
   "language": "python",
   "name": "python3"
  },
  "language_info": {
   "codemirror_mode": {
    "name": "ipython",
    "version": 3
   },
   "file_extension": ".py",
   "mimetype": "text/x-python",
   "name": "python",
   "nbconvert_exporter": "python",
   "pygments_lexer": "ipython3",
   "version": "3.9.12"
  }
 },
 "nbformat": 4,
 "nbformat_minor": 5
}

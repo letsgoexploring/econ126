{
    "cells": [
        {
            "cell_type": "code",
            "execution_count": null,
            "metadata": {},
            "outputs": [],
            "source": [
                "import numpy as np\n",
                "import pandas as pd\n",
                "import matplotlib.pyplot as plt\n",
                "plt.style.use('classic')\n",
                "plt.rcParams['figure.facecolor'] = 'white'"
            ]
        },
        {
            "cell_type": "markdown",
            "metadata": {},
            "source": [
                "# Discussion: Week 3"
            ]
        },
        {
            "cell_type": "markdown",
            "metadata": {},
            "source": [
                "## Exercise: The Perpetual Inventory Method\n",
                "\n",
                "The stock of physical capital is a fundamental component of many macroeconomic models but measuring, and therefore acquiring data on, the value of a country's capital stock is hard. The challenge arise because it is hard to estimate the value of something that is not changing ownership in a transaction. What is value of a high-rise apartment building that has had the same owner for 50 years?\n",
                "\n",
                "One way to overcome this challenge is to use the **perpetual inventory method**. The perpetual inventory method is based on the law of motion of the capital stock:\n",
                "\n",
                "\\begin{align}\n",
                "K_{t+1} & = I_t + (1-\\delta) K_t\n",
                "\\end{align}\n",
                "\n",
                "where $K_t$ denotes physical capital, $I_t$ denotes investment (purchases of new capital), and $\\delta$ denotes the rate of depreciation. Give $K_0$ and data on investment $I_0, I_1, \\ldots,$, the the capital stock in periods $1, 2, \\ldots$ can be computed iteratively. To obtain $K_0$, the method assumes that the economy is in  a steady state in the initial year. Recall that in the steady state:\n",
                "\n",
                "\\begin{align}\n",
                "I & = (\\delta + n + g) K,\n",
                "\\end{align}\n",
                "\n",
                "where $n$ is the average rate of population growth and $g$ is the average growth rate of labor efficiency. So, set $K_0 = (\\delta + n + g)^{-1} I_0$.\n",
                "\n",
                "Steps:\n",
                "\n",
                "1. Obtain real investment data (https://fred.stlouisfed.org/series/GPDICA)\n",
                "2. Select values for $\\delta$, $n$, and $g$.\n",
                "3. Initialize an array of zeros (or an empty array) to store capital values\n",
                "4. Set the first value of the captial array equal to the $(\\delta + n + g)^{-1} I_0$\n",
                "5. Iterate over the values in the investment data to compute the remaining values of capital.\n",
                "\n",
                "The following parameters correspond approximately with long-run averages for the US:\n",
                "\n",
                "| $$\\delta$$ | $$n$$ | $$g$$ |\n",
                "|------------|-------|-------|\n",
                "| 0.07       |  0.01 |0.02   |\n",
                "\n",
                "Read Timothy Kehoe's notes (http://users.econ.umn.edu/~tkehoe/classes/GrowthAccountingNotes.pdf) for more background on the perpetual inventory method if you're interested."
            ]
        },
        {
            "cell_type": "code",
            "execution_count": null,
            "metadata": {},
            "outputs": [],
            "source": [
                "# Import real investment data from FRED into a DataFrame called 'data' (PROVIDED)\n",
                "data = pd.read_html('https://fred.stlouisfed.org/data/GPDICA',parse_dates=True,index_col=0)[1]\n",
                "\n",
                "# Set the columns attribute of data to ['Investment']\n",
                "\n",
                "\n",
                "# Set the index.name attribute of data to 'Date' (i.e., data.index.name)\n",
                "\n",
                "\n",
                "# Create a variable called 'delta' that stores the value for delta as 0.1\n",
                "\n",
                "\n",
                "# Create a variable called 'n' that stores the value for n as 0.01\n",
                "\n",
                "\n",
                "# Create a variable called 'g' that stores the value for g as 0.02\n",
                "\n",
                "\n",
                "# Create a variable called 'capital' equal to an array of zeros with the same length as the variable 'data'\n",
                "\n",
                "\n",
                "# Set the initial value of the 'capital' variable equal to the initial value of investment divided by delta + n + g\n",
                "\n",
                "\n",
                "# Iterate (i.e., use a for loop) over t in range(len(capital)-1) to construct values in the capital array\n",
                "\n",
                "\n",
                "",
                "# Add a 'Capital' column to data\n",
                "\n",
                "\n",
                "# Divide data by 1000 so that the values are in units are in trillions of $ (instead of billions)\n",
                "\n",
                "\n",
                "# Print the first 5 rows of data\n"
            ]
        },
        {
            "cell_type": "markdown",
            "metadata": {},
            "source": [
                "Now construct a figure that contains a plot of capital in the top panel and investment in the bottom panel.\n",
                "\n",
                "1. The figure should have dimensions $12\\times 8$.\n",
                "2. Y-axis labels for investment and capital should both be \"trillions of chained dollars\"\n",
                "3. Each axis should have an appropriate title."
            ]
        },
        {
            "cell_type": "code",
            "execution_count": null,
            "metadata": {},
            "outputs": [],
            "source": [
                "# Create figure\n",
                "\n",
                "\n",
                "# Construct the plot of capital\n",
                "\n",
                "\n",
                "",
                "",
                "",
                "",
                "# Construct the plot of investment\n",
                "\n",
                "\n",
                "",
                "",
                "",
                "",
                "",
                "# Use fig.tight_layout() to adjust whitespace\n"
            ]
        },
        {
            "cell_type": "markdown",
            "metadata": {},
            "source": [
                "Use the results of the next cell to answer question 2 below."
            ]
        },
        {
            "cell_type": "code",
            "execution_count": null,
            "metadata": {},
            "outputs": [],
            "source": [
                "# Download US population data from FRED (CELL PROVIDED)\n",
                "pop = pd.read_html('https://fred.stlouisfed.org/data/B230RC0A052NBEA',parse_dates=True,index_col=0)[1]['VALUE']\n",
                "\n",
                "# Print the most recent population data available\n",
                "print('As of '+pop.index[-1].month_name()+' '+str(pop.index[-1].year)+', the US population was about '+str(round(pop.iloc[-1]/1000))+' mil. people.')"
            ]
        },
        {
            "cell_type": "markdown",
            "metadata": {},
            "source": [
                "**Question**\n",
                "\n",
                "1. Why does the computed capital series fluctuate less than the investment data?\n",
                "2. Given the population of the US, does the computed value of capital in the last year look large, small, or about right on a per capita basis?"
            ]
        },
        {
            "cell_type": "markdown",
            "metadata": {},
            "source": [
                "**Answer**\n",
                "\n",
                "1.  \n\n",
                "2.  "
            ]
        },
        {
            "cell_type": "markdown",
            "metadata": {},
            "source": [
                "## Importance of the Initial Capital Value\n",
                "\n",
                "You might worry that assuming that the US was in a steady state in 1929 is not appropriate and that the assumption will affect all computed values of the capital stock. But the initial value really only affects the computed capital values for the first couple of decades. To see this, let's use the perpetual inventory method to compute the implied capital stock for different intitial capital values that are multiples of the steady state."
            ]
        },
        {
            "cell_type": "code",
            "execution_count": null,
            "metadata": {},
            "outputs": [],
            "source": [
                "# Create array containing desired multiples (CELL PROVIDED)\n",
                "multiples = np.array([4,2,1.5,1.25,1,2/3,0.5,0.25])\n",
                "\n",
                "# Create array of initial capital values\n",
                "initial_ks = multiples*data['Investment'].iloc[0]/(delta+n+g)\n",
                "\n",
                "# Iterate over initial capital values\n",
                "for k0 in initial_ks:\n",
                "    \n",
                "    # Create a variable called 'capital' equal to an array of zeros with the same length as the variable 'data'\n",
                "    capital = np.zeros(len(data))\n",
                "    \n",
                "    # Set the initial value of the 'capital' variable\n",
                "    capital[0] = k0\n",
                "    \n",
                "    # Iterate (i.e., use a for loop) over t in range(len(capital)-1) to construct values in the capital array\n",
                "    for t in range(len(capital)-1):\n",
                "        capital[t+1] = data['Investment'].iloc[t] + (1-delta)*capital[t]\n",
                "        \n",
                "    # Add column to data array\n",
                "    data['K_0='+f'{k0:.2f}'] = capital"
            ]
        },
        {
            "cell_type": "markdown",
            "metadata": {},
            "source": [
                "Now plot all of the computed paths of capital with different opacity for the lines."
            ]
        },
        {
            "cell_type": "code",
            "execution_count": null,
            "metadata": {},
            "outputs": [],
            "source": [
                "# Plot all computed capital paths (CELL PROVIDED)\n",
                "fig = plt.figure(figsize=(12,4))\n",
                "ax = fig.add_subplot(1,1,1)\n",
                "\n",
                "# Iterate over new columns of 'data' DataFrame\n",
                "for c in data.columns[2:]:\n",
                "    \n",
                "    # Plot\n",
                "    ax.plot(data[c],'b-',lw=3,alpha = float(c.split('=')[1])/np.max(initial_ks.round(2)),label=\"$\"+c+'$')\n",
                "\n",
                "# Add legend\n",
                "ax.legend(loc='center left', bbox_to_anchor=(1, 0.5))\n",
                "\n",
                "# Y-axis label\n",
                "ax.set_ylabel('Trillions of chained dollars')\n",
                "\n",
                "# X-axis label\n",
                "ax.set_xlabel('Date')\n",
                "\n",
                "# Add grid\n",
                "ax.grid()\n",
                "\n",
                "# Add title\n",
                "ax.set_title('Capital for different initial values - Full date range');"
            ]
        },
        {
            "cell_type": "markdown",
            "metadata": {},
            "source": [
                "After about 1960, all of the paths seem to converge to a common value. That means that after about 1960, the computed capital data is probably pretty accurate. Now let's focus on the first 20 years:"
            ]
        },
        {
            "cell_type": "code",
            "execution_count": null,
            "metadata": {},
            "outputs": [],
            "source": [
                "# Plot all computed capital paths (CELL PROVIDED)\n",
                "fig = plt.figure(figsize=(12,4))\n",
                "ax = fig.add_subplot(1,1,1)\n",
                "\n",
                "# Iterate over new columns of 'data' DataFrame\n",
                "for c in data.columns[2:]:\n",
                "    \n",
                "    # Plot\n",
                "    ax.plot(data[c].iloc[:20],'b-',lw=3,alpha = float(c.split('=')[1])/np.max(initial_ks.round(2)),label=\"$\"+c+'$')\n",
                "\n",
                "# Add legend\n",
                "ax.legend(loc='center left', bbox_to_anchor=(1, 0.5))\n",
                "\n",
                "# Y-axis label\n",
                "ax.set_ylabel('Trillions of chained dollars')\n",
                "\n",
                "# X-axis label\n",
                "ax.set_xlabel('Date')\n",
                "\n",
                "# Add grid\n",
                "ax.grid()\n",
                "\n",
                "# Add title\n",
                "ax.set_title('Capital for different initial values - First 20 years');"
            ]
        },
        {
            "cell_type": "markdown",
            "metadata": {},
            "source": [
                "Since these dates are close to the starting date, the initial capital value used has the largest consequence here. Therefore if we want an accurate measurement of the capita of the US in the 1920s-30s, we would need to take a different approach."
            ]
        }
    ],
    "metadata": {
        "kernelspec": {
            "display_name": "Python 3 (ipykernel)",
            "language": "python",
            "name": "python3"
        },
        "language_info": {
            "codemirror_mode": {
                "name": "ipython",
                "version": 3
            },
            "file_extension": ".py",
            "mimetype": "text/x-python",
            "name": "python",
            "nbconvert_exporter": "python",
            "pygments_lexer": "ipython3",
            "version": "3.12.7"
        }
    },
    "nbformat": 4,
    "nbformat_minor": 4
}
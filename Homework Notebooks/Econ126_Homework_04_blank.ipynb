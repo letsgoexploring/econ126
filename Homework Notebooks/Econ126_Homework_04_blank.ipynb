{
    "cells": [
        {
            "cell_type": "code",
            "execution_count": null,
            "metadata": {},
            "outputs": [],
            "source": [
                "import numpy as np\n",
                "import pandas as pd\n",
                "import statsmodels.api as sm\n",
                "import matplotlib.pyplot as plt\n",
                "plt.style.use('classic')\n",
                "plt.rcParams['figure.facecolor'] = 'white'"
            ]
        },
        {
            "cell_type": "markdown",
            "metadata": {},
            "source": [
                "# Homework 4\n",
                "\n",
                "**Instructions:** Complete the notebook below. Download the completed notebook in HTML format. Upload assignment using Canvas."
            ]
        },
        {
            "cell_type": "markdown",
            "metadata": {},
            "source": [
                "## Exercise: First-Order Difference Equation - Temporary Shocks\n",
                "\n",
                "For each of the first-order difference equations below, compute $y$ for $31$ periods (i.e., $t=0,\\ldots, 30$) with $y_0=0$ and  $w$ equal to one in the second period ($t=1$) and zero otherwise (i.e., $w_1 = 1$ and $w_0=w_2=w_3 \\cdots = w_{30} = 0$). Construct a well-labeled plot of $y$ for each simulation.\n",
                "\n",
                "1. $y_{t} = 0.56 y_{t-1} + w_t$\n",
                "2. $y_{t} = y_{t-1} + w_t$\n",
                "3. $y_{t} = 0.24 y_{t-1} + w_t$\n",
                "4. $y_{t} = -.9 y_{t-1} + w_t$\n",
                "5. $y_{t} = 1.45 y_{t-1} + w_t$\n",
                "\n",
                "You may use the function from the Notebook for Lecture: \"Deterministic Time Series Models I\", write your own, or take a more brute force approach."
            ]
        },
        {
            "cell_type": "markdown",
            "metadata": {},
            "source": [
                "### $\\rho = 0.56$"
            ]
        },
        {
            "cell_type": "code",
            "execution_count": null,
            "metadata": {},
            "outputs": [],
            "source": [
                "\n",
                "\n",
                "",
                "",
                "",
                "",
                "",
                ""
            ]
        },
        {
            "cell_type": "markdown",
            "metadata": {},
            "source": [
                "### $\\rho =1$"
            ]
        },
        {
            "cell_type": "code",
            "execution_count": null,
            "metadata": {},
            "outputs": [],
            "source": [
                "\n",
                "\n",
                "",
                "",
                "",
                "",
                "",
                "",
                ""
            ]
        },
        {
            "cell_type": "markdown",
            "metadata": {},
            "source": [
                "### $\\rho=0.24$"
            ]
        },
        {
            "cell_type": "code",
            "execution_count": null,
            "metadata": {},
            "outputs": [],
            "source": [
                "\n",
                "\n",
                "",
                "",
                "",
                "",
                "",
                ""
            ]
        },
        {
            "cell_type": "markdown",
            "metadata": {},
            "source": [
                "### $\\rho = -0.9$"
            ]
        },
        {
            "cell_type": "code",
            "execution_count": null,
            "metadata": {},
            "outputs": [],
            "source": [
                "\n",
                "\n",
                "",
                "",
                "",
                "",
                "",
                ""
            ]
        },
        {
            "cell_type": "markdown",
            "metadata": {},
            "source": [
                "### $\\rho = 1.45$"
            ]
        },
        {
            "cell_type": "code",
            "execution_count": null,
            "metadata": {},
            "outputs": [],
            "source": [
                "\n",
                "\n",
                "",
                "",
                "",
                "",
                "",
                ""
            ]
        },
        {
            "cell_type": "markdown",
            "metadata": {},
            "source": [
                "**Questions**\n",
                "\n",
                "For each value for $\\rho$, identify whether the first-order difference equation is stable, explosive, or neither.\n",
                "\n",
                "1. $\\rho =  0.56$\n",
                "2. $\\rho = 1$\n",
                "3. $\\rho =  0.24$\n",
                "4. $\\rho =  -.9$\n",
                "5. $\\rho =  1.45$"
            ]
        },
        {
            "cell_type": "markdown",
            "metadata": {},
            "source": [
                "**Answers**\n",
                "\n",
                "1.  \n\n",
                "2.  \n\n",
                "3.  \n\n",
                "4.  \n\n",
                "5.  "
            ]
        },
        {
            "cell_type": "markdown",
            "metadata": {},
            "source": [
                "## Exercise: First-Order Difference Equation - Permanent Shocks\n",
                "\n",
                "For each of the first-order difference equations below, compute $y$ for $31$ periods (i.e., $t=0,\\ldots, 30$) with $y_0 = 0$ and $w$ equal to zero in the first period ($t=0$) and one otherwise (i.e., $w_0 = 0$ and $w_1=w_2=w_3 \\cdots = w_{30} = 1$). Note that you can use the NumPy function `ones()` to create an array of ones analagously to how you use `zeros()` to create an array of zeros.\n",
                "\n",
                "Construct a well-labeled plot of $y$ for each simulation.\n",
                "\n",
                "1. $y_{t} = 0.37 y_{t-1} + w_t$\n",
                "2. $y_{t} = y_{t-1} + w_t$\n",
                "3. $y_{t} = -0.8 y_{t-1} + w_t$\n",
                "\n",
                "You may use the function from the Notebook for Lecture 7, write your own, or take a more brute force approach."
            ]
        },
        {
            "cell_type": "markdown",
            "metadata": {},
            "source": [
                "### $\\rho = 0.37$"
            ]
        },
        {
            "cell_type": "code",
            "execution_count": null,
            "metadata": {},
            "outputs": [],
            "source": [
                "\n",
                "\n",
                "",
                "",
                "",
                "",
                "",
                "",
                ""
            ]
        },
        {
            "cell_type": "markdown",
            "metadata": {},
            "source": [
                "### $\\rho = 1$"
            ]
        },
        {
            "cell_type": "code",
            "execution_count": null,
            "metadata": {},
            "outputs": [],
            "source": [
                "\n",
                "\n",
                "",
                "",
                "",
                "",
                "",
                ""
            ]
        },
        {
            "cell_type": "markdown",
            "metadata": {},
            "source": [
                "### $\\rho = -0.8$"
            ]
        },
        {
            "cell_type": "code",
            "execution_count": null,
            "metadata": {},
            "outputs": [],
            "source": [
                "\n",
                "\n",
                "",
                "",
                "",
                "",
                "",
                ""
            ]
        },
        {
            "cell_type": "markdown",
            "metadata": {},
            "source": [
                "## Exercise: Hall's Model of Unemployment\n",
                "\n",
                "In the 1979 article \"A theory of the natural unemployment rate and the duration of employment\" Robert Hall proposed a dynamic model of unemployment that is the foundation of contemporary models of unemployment (link to article: [https://www.sciencedirect.com/science/article/abs/pii/0304393279900011](https://www.sciencedirect.com/science/article/abs/pii/0304393279900011)).\n",
                "\n",
                "Let $U_t$ denote the number of people unemployed in month $t$ and let $E_t$ denote the number of employed workers. Assume that the labor force is fixed at size $L$. By definition, the labor force equals the sum of the number of employed and unemployed workers:\n",
                "\n",
                "\\begin{align}\n",
                "L & = E_t + U_t.\n",
                "\\end{align}\n",
                "\n",
                "Each month, a randomly-determined fraction $f$ of unemployed workers find jobs and a fraction $s$ of employed workers lose, or become separated from, their jobs. We call $f$ the *job-finding rate* and $s$ the *separation rate*. The implied law of motion for the number of unemployed people is:\n",
                "\n",
                "\\begin{align}\n",
                "U_{t+1} & = (1-f)U_t + sE_t.\n",
                "\\end{align}\n",
                "\n",
                "Use the definition of the labor force to elimiate $E_t$ from the law of motion for unemployment:\n",
                "\n",
                "\\begin{align}\n",
                "U_{t+1} & = (1-f)U_t + s(L - U_t),\n",
                "\\end{align}\n",
                "\n",
                "and then divide by $L$ to express the law of motion in terms of the unemployment rate $u_t$:\n",
                "\n",
                "\\begin{align}\n",
                "u_{t+1} & = (1-f)u_t + s(1-u_t),\n",
                "\\end{align}\n",
                "\n",
                "where $u_t \\equiv U_t/L$.\n",
                "\n",
                "In this exercise, you will:\n",
                "\n",
                "1. Calibrate $f$ so that the model predicts average unemployment duration equal to the US average.\n",
                "2. Calibrate $s$ so that the steady state unemployment rate in the model equals the average unemployment rate of the US.\n",
                "3. Compute a dynamic simulation of the model.\n",
                "\n",
                "Follow the instructions in the following cells."
            ]
        },
        {
            "cell_type": "markdown",
            "metadata": {},
            "source": [
                "### Part (a): Mean Unemployment Duration\n",
                "\n",
                "A constant job-finding rate $f$ implies that the average number of months that an unemployed worker is inversely proportional to $f$:\n",
                "\n",
                "\\begin{align}\n",
                "\\text{Average duration} & = \\frac{1}{f}\n",
                "\\end{align}\n",
                "\n",
                "See page 27 of my paper with Paul Jackson and Argya Bhattacharya for an explanation of why this makes sense: https://www.tandfonline.com/doi/full/10.1080/00220485.2017.1397574. But, for example, if the job-finding rate were 0.4, then a worker who become unemployed will wait 2.5 months on average before finding a new job.\n",
                "\n",
                "For this part, use mean unemployment duration data from FRED (https://fred.stlouisfed.org/series/UEMPMEAN/) to compute the average job-finding rate for the US."
            ]
        },
        {
            "cell_type": "code",
            "execution_count": null,
            "metadata": {},
            "outputs": [],
            "source": [
                "# Download mean unemployment duration data from FRED. PROVIDED\n",
                "duration = pd.read_html('https://fred.stlouisfed.org/data/UEMPMEAN',index_col=0,parse_dates=True)[1]['VALUE']\n",
                "\n",
                "# Set duration equal to itself divided by 4 to convert weekly units into monthly units\n"
            ]
        },
        {
            "cell_type": "code",
            "execution_count": null,
            "metadata": {},
            "outputs": [],
            "source": [
                "# Construct a well-labeled plot of mean unemployment duration\n",
                "\n",
                "\n",
                "",
                "",
                ""
            ]
        },
        {
            "cell_type": "code",
            "execution_count": null,
            "metadata": {},
            "outputs": [],
            "source": [
                "# Create a variable called 'f' equal to one divided by the mean of mean unemployment duration\n",
                "\n",
                "\n",
                "# Print the value of f\n"
            ]
        },
        {
            "cell_type": "markdown",
            "metadata": {},
            "source": [
                "**Questions**\n",
                "\n",
                "1. On average, how many months has the average unemployed worker in the US remained unemployed?\n",
                "2. What was the highest unemployment duration and in which month and year did this occur?"
            ]
        },
        {
            "cell_type": "markdown",
            "metadata": {},
            "source": [
                "**Answers**\n",
                "\n",
                "1.  \n\n",
                "2.  "
            ]
        },
        {
            "cell_type": "markdown",
            "metadata": {},
            "source": [
                "### Part (b): Average Unemployment Rate\n",
                "\n",
                "In the steady state, $u_t = u_{t+1} = u^*$:\n",
                "\n",
                "\\begin{align}\n",
                "u^* & = \\frac{1}{1+f/s}\n",
                "\\end{align}\n",
                "\n",
                "Unlike the job-finding rate $f$, it is harder to find data that would directly pin down a value for the separation rate $s$. So we will **calibrate** $s$ by selecting a value implies that the steady state unemployment rate equals the average unemployment rate for the US.\n",
                "\n",
                "For this part, use unemployment rate data from FRED (https://fred.stlouisfed.org/series/UNRATE/) to compute the average unemployment rate for the US and then the implied value for $s$."
            ]
        },
        {
            "cell_type": "code",
            "execution_count": null,
            "metadata": {},
            "outputs": [],
            "source": [
                "# Download unemployment rate data from FRED. PROVIDED\n",
                "unemployment = pd.read_html('https://fred.stlouisfed.org/data/UNRATE',index_col=0,parse_dates=True)[1]['VALUE']\n",
                "\n",
                "# Set unemployment equal to itself divided by 100\n",
                "\n",
                "\n",
                "# Create a variable called 'u_star' that is equal to the mean unemployment rate for the US\n",
                "\n",
                "\n",
                "# Print u_star\n"
            ]
        },
        {
            "cell_type": "code",
            "execution_count": null,
            "metadata": {},
            "outputs": [],
            "source": [
                "# Create a variable called 's' equal to the separation rate implied by the computed values f and u_star\n",
                "\n",
                "\n",
                "# Print s\n"
            ]
        },
        {
            "cell_type": "markdown",
            "metadata": {},
            "source": [
                "### Part (c): Simulation of Hall's Model\n",
                "\n",
                "Use Hall's model:\n",
                "\n",
                "\\begin{align}\n",
                "u_{t+1} & = (1-f)u_t + s(1-u_t)\n",
                "\\end{align}\n",
                "\n",
                "to simulate the unemployment rate for 26 periods (i.e., $t=0, \\ldots, 25$) for $u_0= 0.01$ and $u_0 = 0.05$. Plot both simulations on the same set of axes and be sure to add a legend so that I can see which line corresponds to which value of $u_0$."
            ]
        },
        {
            "cell_type": "code",
            "execution_count": null,
            "metadata": {},
            "outputs": [],
            "source": [
                "\n",
                "\n",
                "",
                "",
                "",
                "",
                "",
                "",
                "",
                "",
                "",
                "",
                "",
                "",
                "",
                "",
                "",
                ""
            ]
        },
        {
            "cell_type": "markdown",
            "metadata": {},
            "source": [
                "## Exercise: Solow Model with Exogenous Labor and Technology\n",
                "\n",
                "Consider the Solow growth model with exogenous labor and TFP growth. That is, let $L_t$ denote the quantity of labor and suppose that the population (and therefore the labor supply) grows at the constant rate $n$. This means:\n",
                "\n",
                "\\begin{align}\n",
                "L_{t+1} & = (1+n)L_t,\n",
                "\\end{align}\n",
                "\n",
                "where the intial value of labor $L_0$ must be given. And let $A_t$ denote exogenous TFP that grows at rate $g$:\n",
                "\n",
                "\\begin{align}\n",
                "A_{t+1} & = (1+g)A_t,\n",
                "\\end{align}\n",
                "\n",
                "with $A_0$ given. The rest of the model in aggregate terms is:\n",
                "\n",
                "\\begin{align}\n",
                "Y_t & = A_tK_t^{\\alpha}L_t^{1-\\alpha}\\\\\n",
                "K_{t+1} & = I_t + (1-\\delta)K_{t}\\\\\n",
                "Y_t & = C_t + I_t\\\\\n",
                "C_t & = (1-s)Y_t,\n",
                "\\end{align}\n",
                "\n",
                "where the intial value of capital $K_0$ is also given.\n",
                "\n",
                "Since capital *and* labor *and* TFP are all determined in the previous period by their respective laws of motion, the Solow model with exogenous labor and TFP growth has *three* state variables: $K_t$, $L_t$, and $A_t$. We can solve the capital law of motion for capital in terms of only the variables capital, labor , and TFP and so the three equations that determine how the state of the economy evolves are:\n",
                "\n",
                "\\begin{align}\n",
                "K_{t+1} & = sA_tK_t^{\\alpha}L_t^{1-\\alpha} + (1-\\delta)K_{t}\\\\\n",
                "L_{t+1} & = (1+n)L_t\\\\\n",
                "A_{t+1} & = (1+g)A_t\n",
                "\\end{align}\n",
                "\n",
                "If we iterate on these two to compute simulations of $K_t$ and $L_t$, then we can compute $Y_t$, $C_t$, and $I_t$ easily.\n",
                "\n",
                "Let's suppose the following values for a simulation:\n",
                "\n",
                "| $$L_0$$ | $$n$$  | $$A_0$$ | $$g$$  | $$K_0$$ | $$s$$  | $$\\alpha$$ | $$\\delta $$ | $$T$$ |\n",
                "|---------|--------|---------|--------|---------|--------|------------|-------------|-------|\n",
                "| 1       | 0.01   | 1       | 0.02   | 10      | 0.1    | 0.35       | 0.1         | 101   |\n",
                "\n",
                "Do the following:\n",
                "1. Compute simulated values for $K_t$ and $L_t$ and $A_t$.\n",
                "2. Use simulated values of $K_t$ and $L_t$ and $A_t$ to compute and plot simulated series for output $Y_t$ and output *per worker* $Y_t/L_t$ side-by-side in the same figure.\n",
                "\n",
                "You may use the function from the Notebook for Lecture 8, write your own, or take a more brute force approach. "
            ]
        },
        {
            "cell_type": "code",
            "execution_count": null,
            "metadata": {},
            "outputs": [],
            "source": [
                "# Create variables 'K0', 'L0', 'A0', 'n', 'g', 's', 'alpha','delta','T' to store parameter values for the simulation\n",
                "\n",
                "\n",
                "",
                "",
                "",
                "",
                "",
                "",
                "",
                "",
                "",
                "# Simulate the model\n",
                "\n",
                "\n",
                "# Create a figure that is wide enough for two axes\n",
                "\n",
                "\n",
                "# Construct a plot of simulated output\n",
                "\n",
                "\n",
                "",
                "",
                "",
                "# Construct a plot of simulated output per worker\n",
                "\n",
                "\n",
                "",
                ""
            ]
        }
    ],
    "metadata": {
        "kernelspec": {
            "display_name": "Python 3 (ipykernel)",
            "language": "python",
            "name": "python3"
        },
        "language_info": {
            "codemirror_mode": {
                "name": "ipython",
                "version": 3
            },
            "file_extension": ".py",
            "mimetype": "text/x-python",
            "name": "python",
            "nbconvert_exporter": "python",
            "pygments_lexer": "ipython3",
            "version": "3.12.7"
        }
    },
    "nbformat": 4,
    "nbformat_minor": 4
}
{
    "cells": [
        {
            "cell_type": "code",
            "execution_count": null,
            "metadata": {},
            "outputs": [],
            "source": [
                "import numpy as np\n",
                "import pandas as pd\n",
                "import linearsolve as ls\n",
                "import matplotlib.pyplot as plt\n",
                "plt.style.use('classic')\n",
                "plt.rcParams['figure.facecolor'] = 'white'"
            ]
        },
        {
            "cell_type": "markdown",
            "metadata": {},
            "source": [
                "# Homework 6\n",
                "\n",
                "**Instructions:** Complete the notebook below. Download the completed notebook in HTML format. Upload assignment using Canvas."
            ]
        },
        {
            "cell_type": "markdown",
            "metadata": {},
            "source": [
                "## Exercise: Four-Period Cake-Eating Problem\n",
                "\n",
                "Now consider a the four-period cake-eating problem. A person has an initial quantity of cake $K_0>0$ and receives utility from consuming cake in period 0, period 1, period 2, and period 3:\n",
                "\n",
                "\\begin{align}\n",
                "U(C_0,C_1,C_2,C_3) & = \\log C_0 + \\beta \\log C_1+ \\beta^2 \\log C_2 + \\beta^3 \\log C_3.\n",
                "\\end{align}\n",
                "\n",
                "The person chooses how much to consume in each period, $C_0$, $C_1$, $C_2$, $C_3$, and quantities of cake $K_1$, $K_2$, and $K_3$ to carry foward from period 0, period 1, and period 2 to maximize her utility subject to the following two budget constraints:\n",
                "\n",
                "\\begin{align}\n",
                "C_0 + K_1 & = K_0\\\\\n",
                "C_1 + K_2 & = K_1\\\\\n",
                "C_2 + K_3 & = K_2\\\\\n",
                "C_3 & = K_3,\n",
                "\\end{align}\n",
                "\n",
                "where the boundary condition $K_4 = 0$ has been imposed.\n",
                "\n",
                "### Part (a)\n",
                "\n",
                "Find the first-order conditions with respect to $K_1$, $K_2$, and $K_3$ for the four-period cake-eating problem. Then solve by hand for:\n",
                "\n",
                "1. $K_3$ as a function of $K_2$\n",
                "1. $K_2$ as a function of $K_1$\n",
                "2. $K_1$ as a function of $K_0$\n",
                "\n",
                "Use what you derive in this part to do **Part (b)**, **Part (c)**, and **Part (d)**."
            ]
        },
        {
            "cell_type": "markdown",
            "metadata": {},
            "source": [
                "### Part (b)\n",
                "\n",
                "Suppose that the initial quantity of cake is $K_0 = 100$. For $\\beta = 0, 0.25, 0.5, 0.75, 0.99, 1, 2$, plot the optimal path for the quantity of cake for periods 0 through 4. Add labels to the plot command so you know which line corresponds to which value of $\\beta$."
            ]
        },
        {
            "cell_type": "code",
            "execution_count": null,
            "metadata": {},
            "outputs": [],
            "source": [
                "\n",
                "\n",
                "",
                "",
                "",
                "",
                "",
                "",
                "",
                "",
                "",
                "",
                "",
                "",
                "",
                "",
                "",
                ""
            ]
        },
        {
            "cell_type": "markdown",
            "metadata": {},
            "source": [
                "### Part (c)\n",
                "\n",
                "Suppose that the initial quantity of cake is $K_0 = 100$. For $\\beta = 0, 0.25, 0.5, 0.75, 0.99, 1, 2$, plot the optimal path for cake consumption for periods 0 through 3. Add labels to the plot command so you know which line corresponds to which value of $\\beta$."
            ]
        },
        {
            "cell_type": "code",
            "execution_count": null,
            "metadata": {},
            "outputs": [],
            "source": [
                "\n",
                "\n",
                "",
                "",
                "",
                "",
                "",
                "",
                "",
                "",
                "",
                "",
                "",
                "",
                "",
                "",
                "",
                ""
            ]
        },
        {
            "cell_type": "markdown",
            "metadata": {},
            "source": [
                "### Part (d)\n",
                "\n",
                "Suppose that $\\beta=0.95$. For $K_0 = 1, 10, 20, 50$, plot the optimal path for the quantity of cake for periods 0 through 4. Add labels to the plot command so you know which line corresponds to which value of $K_0$."
            ]
        },
        {
            "cell_type": "code",
            "execution_count": null,
            "metadata": {},
            "outputs": [],
            "source": [
                "\n",
                "\n",
                "",
                "",
                "",
                "",
                "",
                "",
                "",
                "",
                "",
                "",
                "",
                "",
                "",
                "",
                "",
                ""
            ]
        },
        {
            "cell_type": "markdown",
            "metadata": {},
            "source": [
                "## Exercise: The Stochastic Solow Growth Model\n",
                "\n",
                "In class we simulated the stochastic Solow growth model with three endogenous variables: $K_t$, $Y_t$, and $A_t$. Now, reconsider the model with two additional variables, consumption $C_t$ and investment $I_t$, and two additional equations:\n",
                "\n",
                "\\begin{align}\n",
                "Y_t & = A_t K_t^{\\alpha}\\\\\n",
                "C_{t} & = (1-s)Y_t\\\\\n",
                "Y_{t} & = C_t + I_t\\\\\n",
                "K_{t+1} & = sY_t + (1-\\delta) K_t\\\\\n",
                "\\log A_{t+1} & = \\rho \\log A_t + \\epsilon_{t+1} \n",
                "\\end{align}\n",
                "\n",
                "where $\\epsilon_{t+1} \\sim \\mathcal{N}(0,\\sigma^2)$. In this exercise, you will construct a 401 period (10-year) simulation of the model.\n",
                "\n",
                "For the other parameter, use the following values for the simulation:\n",
                "\n",
                "| $$\\rho$$ | $$\\sigma$$ | $$s$$  | $$\\alpha$$ | $$\\delta $$ | $$T$$  |\n",
                "|----------|------------|--------|------------|-------------|--------|\n",
                "| 0.8      | 0.005      | 0.12   | 0.33       |  0.025      | 401    |"
            ]
        },
        {
            "cell_type": "code",
            "execution_count": null,
            "metadata": {},
            "outputs": [],
            "source": [
                "# Create a variable called 'parameters' that is a Pandas Series containing the parameter values for the simulation\n",
                "\n",
                "\n",
                "",
                "",
                "",
                "",
                "",
                "# Print the model's parameters\n"
            ]
        },
        {
            "cell_type": "code",
            "execution_count": null,
            "metadata": {},
            "outputs": [],
            "source": [
                "# Define a function that evaluates the equilibrium conditions. PROVIDED\n",
                "def equilibrium_equations(variables_forward,variables_current,parameters):\n",
                "\n",
                "    # Parameters. PROVIDED\n",
                "    p = parameters\n",
                "\n",
                "    # Current variables. PROVIDED\n",
                "    cur = variables_current\n",
                "\n",
                "    # Forward variables. PROVIDED\n",
                "    fwd = variables_forward\n",
                "\n",
                "    # Production function\n",
                "\n",
                "\n",
                "    # Capital evolution\n",
                "\n",
                "\n",
                "    # Consumption function\n",
                "\n",
                "\n",
                "    # Market clearing\n",
                "\n",
                "\n",
                "    # Exogenous tfp\n",
                "\n",
                "\n",
                "    # Stack equilibrium conditions into a numpy array\n",
                "\n",
                "\n",
                "",
                "",
                "",
                "",
                ""
            ]
        },
        {
            "cell_type": "code",
            "execution_count": null,
            "metadata": {},
            "outputs": [],
            "source": [
                "# Initialize the model. Note that state variables must be named first in the var_names argument and shock for each \n",
                "# state variable must be named.\n",
                "\n",
                "\n",
                "",
                "",
                "",
                ""
            ]
        },
        {
            "cell_type": "code",
            "execution_count": null,
            "metadata": {},
            "outputs": [],
            "source": [
                "# Compute the steady state numerically using the .compute_ss() method.\n",
                "\n"
            ]
        },
        {
            "cell_type": "code",
            "execution_count": null,
            "metadata": {},
            "outputs": [],
            "source": [
                "# Use the .approximate_and_solve() method to compute the log-linear approximation of the model around the \n",
                "# non-stochastic steady state and solve endogenous variables in terms of state variables.\n"
            ]
        },
        {
            "cell_type": "code",
            "execution_count": null,
            "metadata": {},
            "outputs": [],
            "source": [
                "# Use .stoch_sim() method to compute stochastic simulation with the following arguments:\n",
                "#    1. seed = 126\n",
                "#    2. T = 401\n",
                "#    3. cov_mat= [[parameters['sigma_squared']]]\n",
                "\n",
                "\n",
                "# Print first 10 rows of model.simulated\n"
            ]
        },
        {
            "cell_type": "code",
            "execution_count": null,
            "metadata": {},
            "outputs": [],
            "source": [
                "# Plot the computed stochastic simulation results. Creae two axes side-by-side.\n",
                "#     1. Left axes: plot: a, k, i, y, c\n",
                "#     1. Right axes: plot: shock to TFP\n",
                "\n",
                "\n",
                "",
                "",
                "",
                "",
                "",
                "",
                "",
                "",
                "",
                "",
                ""
            ]
        },
        {
            "cell_type": "code",
            "execution_count": null,
            "metadata": {},
            "outputs": [],
            "source": [
                "# Compute standard deviations of simulated TFP, output, consumption, investment, and capital\n"
            ]
        },
        {
            "cell_type": "code",
            "execution_count": null,
            "metadata": {},
            "outputs": [],
            "source": [
                "# Compute correlation coefficients of simulated TFP, output, consumption, investment, and capital\n"
            ]
        },
        {
            "cell_type": "markdown",
            "metadata": {},
            "source": [
                "**Questions** \n",
                "\n",
                "1. In the data simulated from the stochastic Solow growth model, which variables appear to be perfectly correlated?\n",
                "2. Refer to the Notebook from the class on \"Introduction to Business Cycle Data.\" Compared with the actual correlations, does the stochastic Solow growth model under- or overpredict the correlation between output and consumption over the cycle? What about the correlation between output and investment?"
            ]
        },
        {
            "cell_type": "markdown",
            "metadata": {},
            "source": [
                "**Answers**\n",
                "\n",
                "1.  \n\n",
                "2.  "
            ]
        }
    ],
    "metadata": {
        "kernelspec": {
            "display_name": "Python 3 (ipykernel)",
            "language": "python",
            "name": "python3"
        },
        "language_info": {
            "codemirror_mode": {
                "name": "ipython",
                "version": 3
            },
            "file_extension": ".py",
            "mimetype": "text/x-python",
            "name": "python",
            "nbconvert_exporter": "python",
            "pygments_lexer": "ipython3",
            "version": "3.11.5"
        }
    },
    "nbformat": 4,
    "nbformat_minor": 2
}
{
 "cells": [
  {
   "cell_type": "code",
   "execution_count": 1,
   "metadata": {},
   "outputs": [],
   "source": [
    "import numpy as np\n",
    "import matplotlib.pyplot as plt\n",
    "plt.style.use('classic')\n",
    "plt.rcParams['figure.facecolor'] = 'white'"
   ]
  },
  {
   "cell_type": "markdown",
   "metadata": {},
   "source": [
    "# Class 4: Managing Data with Pandas \n",
    "\n",
    "Pandas is a Python library for managing datasets. Documentation and examples are available on the website for Pandas: http://pandas.pydata.org/. \n",
    "\n",
    "In this Notebook, we'll make use of a dataset containing long-run averages of inflation, money growth, and real GDP. The dataset is available here: https://raw.githubusercontent.com/letsgoexploring/economic-data/master/quantity-theory/csv/quantity_theory_data.csv (Python code to generate the dataset: https://github.com/letsgoexploring/economic-data). Recall that the quantity theory of money implies the following linear relationship between the long-run rate of money growth, the long-run rate of inflation, and the long-run rate of real GDP growth in a country:\n",
    "\n",
    "\\begin{align}\n",
    "\\text{inflation} & = \\text{money growth} - \\text{real GDP growth},\n",
    "\\end{align}\n",
    "\n",
    "Generally, we treat real GDP growth and money supply growth as exogenous so this is a theory about the determination of inflation."
   ]
  },
  {
   "cell_type": "markdown",
   "metadata": {},
   "source": [
    "### Import Pandas"
   ]
  },
  {
   "cell_type": "code",
   "execution_count": 2,
   "metadata": {},
   "outputs": [],
   "source": [
    "# Import the Pandas module as pd\n",
    "import pandas as pd"
   ]
  },
  {
   "cell_type": "markdown",
   "metadata": {},
   "source": [
    "### Import data from a csv file\n",
    "\n",
    "Pandas has a function called `read_csv()` for reading data from a csv file into a Pandas `DataFrame` object."
   ]
  },
  {
   "cell_type": "code",
   "execution_count": 3,
   "metadata": {},
   "outputs": [],
   "source": [
    "# Import quantity theory data into a Pandas DataFrame called 'df' with country names as the index.\n",
    "\n",
    "# Directly from internet\n",
    "df = pd.read_csv('https://raw.githubusercontent.com/letsgoexploring/economic-data/master/quantity-theory/csv/quantity_theory_data.csv')\n",
    "\n",
    "# From current working directory\n",
    "# df = pd.read_csv('quantity_theort_data.csv')"
   ]
  },
  {
   "cell_type": "code",
   "execution_count": 4,
   "metadata": {},
   "outputs": [
    {
     "name": "stdout",
     "output_type": "stream",
     "text": [
      "               country iso code  observations  money growth  inflation  \\\n",
      "0          Afghanistan      AFG          15.0      0.150122   0.050741   \n",
      "1              Albania      ALB          29.0      0.119258   0.045885   \n",
      "2              Algeria      DZA          59.0      0.157423   0.100184   \n",
      "3               Angola      AGO          28.0      0.713743   0.666618   \n",
      "4  Antigua and Barbuda      ATG          46.0      0.085994   0.039780   \n",
      "\n",
      "   gdp growth income group oecd  \n",
      "0    0.058126          low   no  \n",
      "1    0.044905       middle   no  \n",
      "2    0.035556       middle   no  \n",
      "3    0.049026       middle   no  \n",
      "4    0.032215         high   no  \n"
     ]
    }
   ],
   "source": [
    "# Print the first 5 rows\n",
    "print(df.head())"
   ]
  },
  {
   "cell_type": "code",
   "execution_count": 5,
   "metadata": {},
   "outputs": [
    {
     "name": "stdout",
     "output_type": "stream",
     "text": [
      "                country iso code  observations  money growth  inflation  \\\n",
      "154      United Kingdom      GBR          63.0      0.101203   0.052117   \n",
      "155       United States      USA          62.0      0.075239   0.032954   \n",
      "156             Uruguay      URY          63.0      0.375600   0.332810   \n",
      "157          Uzbekistan      UZB          10.0      0.229750   0.150084   \n",
      "158             Vanuatu      VUT          44.0      0.069920   0.042045   \n",
      "159            Viet Nam      VNM          28.0      0.228746   0.078736   \n",
      "160  West Bank and Gaza      PSE          25.0      0.083618   0.032677   \n",
      "161         Yemen, Rep.      YEM          24.0      0.178001   0.147702   \n",
      "162              Zambia      ZMB          30.0      0.249750   0.168449   \n",
      "163            Zimbabwe      ZWE          27.0      0.053944  -0.009568   \n",
      "\n",
      "     gdp growth income group oecd  \n",
      "154    0.023045         high  yes  \n",
      "155    0.029634         high  yes  \n",
      "156    0.021391         high   no  \n",
      "157    0.056937       middle   no  \n",
      "158    0.021798       middle   no  \n",
      "159    0.064233       middle   no  \n",
      "160    0.032840       middle   no  \n",
      "161    0.040082          low   no  \n",
      "162    0.045643       middle   no  \n",
      "163    0.013777       middle   no  \n"
     ]
    }
   ],
   "source": [
    "# Print the last 10 rows\n",
    "print(df.tail(10))"
   ]
  },
  {
   "cell_type": "code",
   "execution_count": 6,
   "metadata": {},
   "outputs": [
    {
     "name": "stdout",
     "output_type": "stream",
     "text": [
      "<class 'pandas.core.frame.DataFrame'>\n"
     ]
    }
   ],
   "source": [
    "# Print the type of variable 'df'\n",
    "print(type(df))"
   ]
  },
  {
   "cell_type": "markdown",
   "metadata": {},
   "source": [
    "### Properties of `DataFrame` objects\n",
    "\n",
    "Like entries in a spreadsheet file, elements in a `DataFrame` object have row (or *index*) and column coordinates. Column names are always strings. Index elements can be integers, strings, or dates."
   ]
  },
  {
   "cell_type": "code",
   "execution_count": 7,
   "metadata": {},
   "outputs": [
    {
     "name": "stdout",
     "output_type": "stream",
     "text": [
      "Index(['country', 'iso code', 'observations', 'money growth', 'inflation',\n",
      "       'gdp growth', 'income group', 'oecd'],\n",
      "      dtype='object')\n"
     ]
    }
   ],
   "source": [
    "# Print the columns of df\n",
    "print(df.columns)"
   ]
  },
  {
   "cell_type": "code",
   "execution_count": 8,
   "metadata": {},
   "outputs": [
    {
     "name": "stdout",
     "output_type": "stream",
     "text": [
      "0      0.150122\n",
      "1      0.119258\n",
      "2      0.157423\n",
      "3      0.713743\n",
      "4      0.085994\n",
      "         ...   \n",
      "159    0.228746\n",
      "160    0.083618\n",
      "161    0.178001\n",
      "162    0.249750\n",
      "163    0.053944\n",
      "Name: money growth, Length: 164, dtype: float64\n"
     ]
    }
   ],
   "source": [
    "# Create a new variable called 'money' equal to the 'money growth' column and print\n",
    "money = df['money growth']\n",
    "print(money)"
   ]
  },
  {
   "cell_type": "code",
   "execution_count": 9,
   "metadata": {},
   "outputs": [
    {
     "name": "stdout",
     "output_type": "stream",
     "text": [
      "<class 'pandas.core.series.Series'>\n"
     ]
    }
   ],
   "source": [
    "# Print the type of the variable money\n",
    "print(type(money))"
   ]
  },
  {
   "cell_type": "markdown",
   "metadata": {},
   "source": [
    "A Pandas `Series` stores one column of data. Like a `DataFrame`, a `Series` object has an index. Note that `money` has the same index as `df`. Instead of having a column, the `Series` has a `name` attribute."
   ]
  },
  {
   "cell_type": "code",
   "execution_count": 10,
   "metadata": {},
   "outputs": [
    {
     "name": "stdout",
     "output_type": "stream",
     "text": [
      "money growth\n"
     ]
    }
   ],
   "source": [
    "# Print the name of the 'money' variable\n",
    "print(money.name)"
   ]
  },
  {
   "cell_type": "markdown",
   "metadata": {},
   "source": [
    "Select multiple columns of a `DataFrame` by puting the desired column names in a set a of square brackets (i.e., in a `list`)."
   ]
  },
  {
   "cell_type": "code",
   "execution_count": 11,
   "metadata": {},
   "outputs": [
    {
     "name": "stdout",
     "output_type": "stream",
     "text": [
      "   inflation  money growth  gdp growth\n",
      "0   0.050741      0.150122    0.058126\n",
      "1   0.045885      0.119258    0.044905\n",
      "2   0.100184      0.157423    0.035556\n",
      "3   0.666618      0.713743    0.049026\n",
      "4   0.039780      0.085994    0.032215\n"
     ]
    }
   ],
   "source": [
    "# Print the first 5 rows of just the inflation, money growth, and gdp growth columns\n",
    "print(df[['inflation','money growth','gdp growth']].head())"
   ]
  },
  {
   "cell_type": "markdown",
   "metadata": {},
   "source": [
    "As mentioned, the set of row coordinates is the index. Unless specified otherwise, Pandas automatically assigns an integer index starting at 0 to rows of the `DataFrame`."
   ]
  },
  {
   "cell_type": "code",
   "execution_count": 12,
   "metadata": {},
   "outputs": [
    {
     "name": "stdout",
     "output_type": "stream",
     "text": [
      "RangeIndex(start=0, stop=164, step=1)\n"
     ]
    }
   ],
   "source": [
    "# Print the index of 'df'\n",
    "print(df.index)"
   ]
  },
  {
   "cell_type": "markdown",
   "metadata": {},
   "source": [
    "Note that in the index of the `df` is the numbers 0 through 177. We could have specified a different index when we imported the data using `read_csv()`. For example, suppose we want to the country names to be the index of `df`. Since country names are in the first column of the data file, we can pass the argument `index_col=0` to `read_csv()`"
   ]
  },
  {
   "cell_type": "code",
   "execution_count": 13,
   "metadata": {},
   "outputs": [
    {
     "name": "stdout",
     "output_type": "stream",
     "text": [
      "                    iso code  observations  money growth  inflation  \\\n",
      "country                                                               \n",
      "Afghanistan              AFG          15.0      0.150122   0.050741   \n",
      "Albania                  ALB          29.0      0.119258   0.045885   \n",
      "Algeria                  DZA          59.0      0.157423   0.100184   \n",
      "Angola                   AGO          28.0      0.713743   0.666618   \n",
      "Antigua and Barbuda      ATG          46.0      0.085994   0.039780   \n",
      "\n",
      "                     gdp growth income group oecd  \n",
      "country                                            \n",
      "Afghanistan            0.058126          low   no  \n",
      "Albania                0.044905       middle   no  \n",
      "Algeria                0.035556       middle   no  \n",
      "Angola                 0.049026       middle   no  \n",
      "Antigua and Barbuda    0.032215         high   no  \n"
     ]
    }
   ],
   "source": [
    "# Import quantity theory data into a Pandas DataFrame called 'df' with country names as the index.\n",
    "df = pd.read_csv('https://raw.githubusercontent.com/letsgoexploring/economic-data/master/quantity-theory/csv/quantity_theory_data.csv',index_col=0)\n",
    "\n",
    "# Print first 5 rows of df\n",
    "print(df.head())"
   ]
  },
  {
   "cell_type": "markdown",
   "metadata": {},
   "source": [
    "Use the `loc` attribute to select rows of the `DataFrame` by index *values*."
   ]
  },
  {
   "cell_type": "code",
   "execution_count": 14,
   "metadata": {},
   "outputs": [
    {
     "name": "stdout",
     "output_type": "stream",
     "text": [
      "iso code             USA\n",
      "observations        62.0\n",
      "money growth    0.075239\n",
      "inflation       0.032954\n",
      "gdp growth      0.029634\n",
      "income group        high\n",
      "oecd                 yes\n",
      "Name: United States, dtype: object\n"
     ]
    }
   ],
   "source": [
    "# Create a new variable called 'usa_row' equal to the 'United States' row and print\n",
    "usa_row = df.loc['United States']\n",
    "print(usa_row)"
   ]
  },
  {
   "cell_type": "markdown",
   "metadata": {},
   "source": [
    "Use `iloc` attribute to select row based on integer location (starting from 0)."
   ]
  },
  {
   "cell_type": "code",
   "execution_count": 15,
   "metadata": {},
   "outputs": [
    {
     "name": "stdout",
     "output_type": "stream",
     "text": [
      "iso code             DZA\n",
      "observations        59.0\n",
      "money growth    0.157423\n",
      "inflation       0.100184\n",
      "gdp growth      0.035556\n",
      "income group      middle\n",
      "oecd                  no\n",
      "Name: Algeria, dtype: object\n"
     ]
    }
   ],
   "source": [
    "# Create a new variable called 'third_row' equal to the third row in the DataFrame and print\n",
    "third_row = df.iloc[2]\n",
    "print(third_row)"
   ]
  },
  {
   "cell_type": "markdown",
   "metadata": {},
   "source": [
    "There are several ways to return a single element of a Pandas `DataFrame`. For example, here are three that we want to return the value of inflation for the United States from the DataFrame `df`:\n",
    "\n",
    "1. `df.loc['United States','inflation']`\n",
    "2. `df.loc['United States']['inflation']`\n",
    "3. `df['inflation']['United States']`\n",
    "\n",
    "The first method points directly to the element in the `df` while the second and third methods return *copies* of the element. That means that you can modify the value of inflation for the United States by running:\n",
    "\n",
    "    df.loc['United States','inflation'] = new_value\n",
    "    \n",
    "But running either:\n",
    "\n",
    "    df.loc['United States']['inflation'] = new_value\n",
    "    \n",
    "or:\n",
    "\n",
    "    df['inflation']['United States'] = new_value\n",
    "\n",
    "will return a warning from Pandas."
   ]
  },
  {
   "cell_type": "code",
   "execution_count": 16,
   "metadata": {},
   "outputs": [
    {
     "name": "stdout",
     "output_type": "stream",
     "text": [
      "Long-run average inflation in US:  0.032954109586553\n"
     ]
    }
   ],
   "source": [
    "# Print the inflation rate of the United States  (By index and column together)\n",
    "print('Long-run average inflation in US: ',df.loc['United States','inflation'])"
   ]
  },
  {
   "cell_type": "code",
   "execution_count": 17,
   "metadata": {},
   "outputs": [
    {
     "name": "stdout",
     "output_type": "stream",
     "text": [
      "Long-run average inflation in US:  0.032954109586553\n"
     ]
    }
   ],
   "source": [
    "# Print the inflation rate of the United States (first by index, then by column)\n",
    "print('Long-run average inflation in US: ',df.loc['United States']['inflation'])"
   ]
  },
  {
   "cell_type": "code",
   "execution_count": 18,
   "metadata": {},
   "outputs": [
    {
     "name": "stdout",
     "output_type": "stream",
     "text": [
      "Long-run average inflation in US:  0.032954109586553\n"
     ]
    }
   ],
   "source": [
    "# Print the inflation rate of the United States  (first by column, then by index)\n",
    "print('Long-run average inflation in US: ',df['inflation']['United States'])"
   ]
  },
  {
   "cell_type": "markdown",
   "metadata": {},
   "source": [
    "New columns are easily created as functions of existing columns."
   ]
  },
  {
   "cell_type": "code",
   "execution_count": 19,
   "metadata": {},
   "outputs": [
    {
     "name": "stdout",
     "output_type": "stream",
     "text": [
      "country\n",
      "Afghanistan            0.099381\n",
      "Albania                0.073373\n",
      "Algeria                0.057240\n",
      "Angola                 0.047125\n",
      "Antigua and Barbuda    0.046214\n",
      "                         ...   \n",
      "Viet Nam               0.150010\n",
      "West Bank and Gaza     0.050941\n",
      "Yemen, Rep.            0.030299\n",
      "Zambia                 0.081301\n",
      "Zimbabwe               0.063513\n",
      "Name: difference, Length: 164, dtype: float64\n"
     ]
    }
   ],
   "source": [
    "# Create a new column called 'difference' equal to the money growth column minus \n",
    "# the inflation column and print the modified DataFrame\n",
    "df['difference'] = df['money growth'] - df['inflation']\n",
    "print(df['difference'])"
   ]
  },
  {
   "cell_type": "code",
   "execution_count": 20,
   "metadata": {},
   "outputs": [
    {
     "name": "stdout",
     "output_type": "stream",
     "text": [
      "0.06498290472561423\n"
     ]
    }
   ],
   "source": [
    "# Print the average difference between money growth and inflation\n",
    "print(df.difference.mean())"
   ]
  },
  {
   "cell_type": "code",
   "execution_count": 21,
   "metadata": {},
   "outputs": [
    {
     "name": "stdout",
     "output_type": "stream",
     "text": [
      "                     money growth  inflation  gdp growth income group oecd\n",
      "country                                                                   \n",
      "Afghanistan              0.150122   0.050741    0.058126          low   no\n",
      "Albania                  0.119258   0.045885    0.044905       middle   no\n",
      "Algeria                  0.157423   0.100184    0.035556       middle   no\n",
      "Angola                   0.713743   0.666618    0.049026       middle   no\n",
      "Antigua and Barbuda      0.085994   0.039780    0.032215         high   no\n",
      "...                           ...        ...         ...          ...  ...\n",
      "Viet Nam                 0.228746   0.078736    0.064233       middle   no\n",
      "West Bank and Gaza       0.083618   0.032677    0.032840       middle   no\n",
      "Yemen, Rep.              0.178001   0.147702    0.040082          low   no\n",
      "Zambia                   0.249750   0.168449    0.045643       middle   no\n",
      "Zimbabwe                 0.053944  -0.009568    0.013777       middle   no\n",
      "\n",
      "[164 rows x 5 columns]\n"
     ]
    }
   ],
   "source": [
    "# Remove the following columns from the DataFrame: 'iso code','observations','difference'\n",
    "df = df.drop(['iso code','observations','difference'],axis=1)\n",
    "\n",
    "# Print the modified DataFrame\n",
    "print(df)"
   ]
  },
  {
   "cell_type": "markdown",
   "metadata": {},
   "source": [
    "### Methods\n",
    "\n",
    "A Pandas `DataFrame` has a bunch of useful methods defined for it. `describe()` returns some summary statistics."
   ]
  },
  {
   "cell_type": "code",
   "execution_count": 22,
   "metadata": {},
   "outputs": [
    {
     "name": "stdout",
     "output_type": "stream",
     "text": [
      "       money growth   inflation  gdp growth\n",
      "count    164.000000  164.000000  164.000000\n",
      "mean       0.183883    0.118900    0.037290\n",
      "std        0.150979    0.153796    0.016797\n",
      "min        0.043854   -0.009568   -0.020226\n",
      "25%        0.104276    0.044244    0.026611\n",
      "50%        0.140879    0.070278    0.036249\n",
      "75%        0.198570    0.119320    0.045496\n",
      "max        1.247697    1.277045    0.118370\n"
     ]
    }
   ],
   "source": [
    "# Print the summary statistics for 'df'\n",
    "print(df.describe())"
   ]
  },
  {
   "cell_type": "markdown",
   "metadata": {},
   "source": [
    "The `corr()` method returns a `DataFrame` containing the correlation coefficients of the specified `DataFrame`."
   ]
  },
  {
   "cell_type": "code",
   "execution_count": 23,
   "metadata": {},
   "outputs": [
    {
     "name": "stdout",
     "output_type": "stream",
     "text": [
      "              money growth  inflation  gdp growth\n",
      "money growth      1.000000   0.976830   -0.038053\n",
      "inflation         0.976830   1.000000   -0.184002\n",
      "gdp growth       -0.038053  -0.184002    1.000000\n"
     ]
    }
   ],
   "source": [
    "# Create a variable called 'correlations' containg the correlation coefficients for columns in 'df'\n",
    "correlations = df.corr(numeric_only=True)\n",
    "\n",
    "# Print the correlation coefficients\n",
    "print(correlations)"
   ]
  },
  {
   "cell_type": "code",
   "execution_count": 24,
   "metadata": {},
   "outputs": [
    {
     "name": "stdout",
     "output_type": "stream",
     "text": [
      "corr of inflation and money growth:  0.9768\n",
      "corr of inflation and gdp growth:    -0.184\n",
      "corr of money growth and gdp growth: -0.0381\n"
     ]
    }
   ],
   "source": [
    "# Print the correlation coefficient for inflation and money growth\n",
    "print('corr of inflation and money growth: ',round(correlations.loc['inflation','money growth'],4))\n",
    "\n",
    "# Print the correlation coefficient for inflation and real GDP growth\n",
    "print('corr of inflation and gdp growth:   ',round(correlations.loc['inflation','gdp growth'],4))\n",
    "\n",
    "# Print the correlation coefficient for money growth and real GDP growth\n",
    "print('corr of money growth and gdp growth:',round(correlations.loc['money growth','gdp growth'],4))"
   ]
  },
  {
   "cell_type": "markdown",
   "metadata": {},
   "source": [
    "`sort_values()` returns a copy of the original `DataFrame` sorted along the given column. The optional argument `ascending` is set to `True` by default, but can be changed to `False` if you want to print the lowest first."
   ]
  },
  {
   "cell_type": "code",
   "execution_count": 25,
   "metadata": {},
   "outputs": [
    {
     "name": "stdout",
     "output_type": "stream",
     "text": [
      "                       money growth  inflation  gdp growth income group oecd\n",
      "country                                                                     \n",
      "Zimbabwe                   0.053944  -0.009568    0.013777       middle   no\n",
      "Djibouti                   0.087829   0.010197    0.051438       middle   no\n",
      "Switzerland                0.055312   0.015822    0.017625         high  yes\n",
      "Hong Kong SAR, China       0.079369   0.016239    0.029651         high   no\n",
      "Micronesia, Fed. Sts.      0.044245   0.023068    0.000486       middle   no\n",
      "Kosovo                     0.094805   0.023796    0.043597       middle   no\n",
      "Singapore                  0.114496   0.024029    0.068731         high   no\n",
      "Kuwait                     0.068904   0.024194    0.038129         high   no\n",
      "Japan                      0.088954   0.024632    0.033605         high  yes\n",
      "Israel                     0.084525   0.025285    0.039490         high  yes\n"
     ]
    }
   ],
   "source": [
    "# Print rows for the countries with the 10 lowest inflation rates\n",
    "print(df.sort_values('inflation').head(10))"
   ]
  },
  {
   "cell_type": "code",
   "execution_count": 26,
   "metadata": {},
   "outputs": [
    {
     "name": "stdout",
     "output_type": "stream",
     "text": [
      "                  money growth  inflation  gdp growth income group oecd\n",
      "country                                                                \n",
      "Congo, Dem. Rep.      1.247697   1.277045   -0.002394          low   no\n",
      "Brazil                0.853755   0.740966    0.037985       middle   no\n",
      "Argentina             0.743931   0.694377    0.022478       middle   no\n",
      "Angola                0.713743   0.666618    0.049026       middle   no\n",
      "Nicaragua             0.604314   0.534661    0.025918       middle   no\n",
      "Ukraine               0.467406   0.499645   -0.020226       middle   no\n",
      "Belarus               0.517935   0.474125    0.038857       middle   no\n",
      "Peru                  0.493277   0.414915    0.034463       middle   no\n",
      "Azerbaijan            0.397668   0.347086    0.044049       middle   no\n",
      "Armenia               0.385788   0.334758    0.053237       middle   no\n"
     ]
    }
   ],
   "source": [
    "# Print rows for the countries with the 10 highest inflation rates\n",
    "print(df.sort_values('inflation',ascending=False).head(10))"
   ]
  },
  {
   "cell_type": "markdown",
   "metadata": {},
   "source": [
    "Note that `sort_values` and `sort_index` return *copies* of the original `DataFrame`. If, in the previous example, we had wanted to actually modify `df`, we would have need to explicitly overwrite it:\n",
    "\n",
    "    df = df.sort_index(ascending=False)"
   ]
  },
  {
   "cell_type": "code",
   "execution_count": 27,
   "metadata": {},
   "outputs": [
    {
     "name": "stdout",
     "output_type": "stream",
     "text": [
      "                    money growth  inflation  gdp growth income group oecd\n",
      "country                                                                  \n",
      "Zimbabwe                0.053944  -0.009568    0.013777       middle   no\n",
      "Zambia                  0.249750   0.168449    0.045643       middle   no\n",
      "Yemen, Rep.             0.178001   0.147702    0.040082          low   no\n",
      "West Bank and Gaza      0.083618   0.032677    0.032840       middle   no\n",
      "Viet Nam                0.228746   0.078736    0.064233       middle   no\n",
      "Vanuatu                 0.069920   0.042045    0.021798       middle   no\n",
      "Uzbekistan              0.229750   0.150084    0.056937       middle   no\n",
      "Uruguay                 0.375600   0.332810    0.021391         high   no\n",
      "United States           0.075239   0.032954    0.029634         high  yes\n",
      "United Kingdom          0.101203   0.052117    0.023045         high  yes\n"
     ]
    }
   ],
   "source": [
    "# Print first 10 rows with the index sorted in descending alphabetical order\n",
    "print(df.sort_index(ascending=False).head(10))"
   ]
  },
  {
   "cell_type": "markdown",
   "metadata": {},
   "source": [
    "### Quick plotting example\n",
    "\n",
    "Construct a graph that visually confirms the quantity theory of money by making a scatter plot with average money growth on the horizontal axis and average inflation on the vertical axis. Set the marker size `s` to 50 and opacity (`alpha`) 0.25. Add a 45 degree line, axis labels, and a title. Lower and upper limits for the horizontal and vertical axes should be -0.2 and 1.2."
   ]
  },
  {
   "cell_type": "code",
   "execution_count": 28,
   "metadata": {},
   "outputs": [
    {
     "data": {
      "image/png": "[encoded data removed]",
      "text/plain": [
       "<Figure size 640x480 with 1 Axes>"
      ]
     },
     "metadata": {},
     "output_type": "display_data"
    }
   ],
   "source": [
    "# Create data for 45 degree line\n",
    "x45 = [-0.2,1.2]\n",
    "y45 = [-0.2,1.2]\n",
    "\n",
    "# Create figure and axis\n",
    "fig = plt.figure()\n",
    "ax = fig.add_subplot(1,1,1)\n",
    "\n",
    "# Plot 45 degree line and create legend in lower right corner\n",
    "ax.plot(x45,y45,'-r',label = '$45^{\\circ}$')\n",
    "ax.legend(loc='lower right')\n",
    "\n",
    "# Scatter plot of data inflation against money growth\n",
    "ax.scatter(df['money growth'],df['inflation'],s=50,alpha = 0.25)\n",
    "ax.set_xlim([-0.2,1.2])\n",
    "ax.set_ylim([-0.2,1.2])\n",
    "ax.set_xlabel('money growth')\n",
    "ax.set_ylabel('inflation')\n",
    "ax.set_title('Average inflation against average money growth \\nfor '+str(len(df.index))+' countries.')\n",
    "ax.grid()"
   ]
  },
  {
   "cell_type": "markdown",
   "metadata": {},
   "source": [
    "### Exporting a `DataFrame` to csv\n",
    "\n",
    "Use the DataFrame method `to_csv()` to export DataFrame to a csv file."
   ]
  },
  {
   "cell_type": "code",
   "execution_count": 29,
   "metadata": {},
   "outputs": [],
   "source": [
    "# Export the DataFrame 'df' to a csv file called 'modified_data.csv'.\n",
    "df.to_csv('modified_data.csv')"
   ]
  }
 ],
 "metadata": {
  "anaconda-cloud": {},
  "kernelspec": {
   "display_name": "Python 3 (ipykernel)",
   "language": "python",
   "name": "python3"
  },
  "language_info": {
   "codemirror_mode": {
    "name": "ipython",
    "version": 3
   },
   "file_extension": ".py",
   "mimetype": "text/x-python",
   "name": "python",
   "nbconvert_exporter": "python",
   "pygments_lexer": "ipython3",
   "version": "3.11.5"
  }
 },
 "nbformat": 4,
 "nbformat_minor": 4
}

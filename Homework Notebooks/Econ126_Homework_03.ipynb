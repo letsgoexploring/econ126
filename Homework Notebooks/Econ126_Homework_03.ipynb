{
 "cells": [
  {
   "cell_type": "code",
   "execution_count": 1,
   "metadata": {},
   "outputs": [],
   "source": [
    "import numpy as np\n",
    "import pandas as pd\n",
    "import statsmodels.api as sm\n",
    "import matplotlib.pyplot as plt\n",
    "plt.style.use('classic')\n",
    "plt.rcParams['figure.facecolor'] = 'white'"
   ]
  },
  {
   "cell_type": "markdown",
   "metadata": {},
   "source": [
    "# Homework 3\n",
    "\n",
    "**Instructions:** Complete the notebook below. Download the completed notebook in HTML format. Upload assignment using Canvas."
   ]
  },
  {
   "cell_type": "markdown",
   "metadata": {},
   "source": [
    "## Exercise: Income and Growth Across Countries\n",
    "\n",
    "The data file `cross_country_gdp_per_capita.csv` contains annual data on GDP per capita for over 100 countries and is available here: https://raw.githubusercontent.com/letsgoexploring/economic-data/master/cross-country-production/csv/cross_country_gdp_per_capita.csv. The data are was constructed from the Penn World Table (https://www.rug.nl/ggdc/productivity/pwt/).\n",
    "\n",
    "In this exercise, you will:\n",
    "\n",
    "1. Analyze some basic facts about GDP per capita across the world.\n",
    "2. Compute the average annual growth rate of GDP per capita for each country in the data.\n",
    "3. Compute a linear regression of average GDP per capita growth on GDP per capita in the initial year.\n",
    "\n",
    "Follow the instructions in the following cells."
   ]
  },
  {
   "cell_type": "markdown",
   "metadata": {},
   "source": [
    "### Part (a)"
   ]
  },
  {
   "cell_type": "code",
   "execution_count": 2,
   "metadata": {
    "scrolled": false
   },
   "outputs": [
    {
     "data": {
      "text/html": [
       "<div>\n",
       "<style scoped>\n",
       "    .dataframe tbody tr th:only-of-type {\n",
       "        vertical-align: middle;\n",
       "    }\n",
       "\n",
       "    .dataframe tbody tr th {\n",
       "        vertical-align: top;\n",
       "    }\n",
       "\n",
       "    .dataframe thead th {\n",
       "        text-align: right;\n",
       "    }\n",
       "</style>\n",
       "<table border=\"1\" class=\"dataframe\">\n",
       "  <thead>\n",
       "    <tr style=\"text-align: right;\">\n",
       "      <th></th>\n",
       "      <th>Algeria - DZA</th>\n",
       "      <th>Argentina - ARG</th>\n",
       "      <th>Australia - AUS</th>\n",
       "      <th>Austria - AUT</th>\n",
       "      <th>Bangladesh - BGD</th>\n",
       "      <th>Barbados - BRB</th>\n",
       "      <th>Belgium - BEL</th>\n",
       "      <th>Benin - BEN</th>\n",
       "      <th>Bolivia (Plurinational State of) - BOL</th>\n",
       "      <th>Botswana - BWA</th>\n",
       "      <th>...</th>\n",
       "      <th>Tunisia - TUN</th>\n",
       "      <th>Turkey - TUR</th>\n",
       "      <th>U.R. of Tanzania: Mainland - TZA</th>\n",
       "      <th>Uganda - UGA</th>\n",
       "      <th>United Kingdom - GBR</th>\n",
       "      <th>United States - USA</th>\n",
       "      <th>Uruguay - URY</th>\n",
       "      <th>Venezuela (Bolivarian Republic of) - VEN</th>\n",
       "      <th>Zambia - ZMB</th>\n",
       "      <th>Zimbabwe - ZWE</th>\n",
       "    </tr>\n",
       "    <tr>\n",
       "      <th>year</th>\n",
       "      <th></th>\n",
       "      <th></th>\n",
       "      <th></th>\n",
       "      <th></th>\n",
       "      <th></th>\n",
       "      <th></th>\n",
       "      <th></th>\n",
       "      <th></th>\n",
       "      <th></th>\n",
       "      <th></th>\n",
       "      <th></th>\n",
       "      <th></th>\n",
       "      <th></th>\n",
       "      <th></th>\n",
       "      <th></th>\n",
       "      <th></th>\n",
       "      <th></th>\n",
       "      <th></th>\n",
       "      <th></th>\n",
       "      <th></th>\n",
       "      <th></th>\n",
       "    </tr>\n",
       "  </thead>\n",
       "  <tbody>\n",
       "    <tr>\n",
       "      <th>1960-01-01</th>\n",
       "      <td>10509.008358</td>\n",
       "      <td>3163.732710</td>\n",
       "      <td>15646.139353</td>\n",
       "      <td>10123.029724</td>\n",
       "      <td>1614.258962</td>\n",
       "      <td>8077.843086</td>\n",
       "      <td>10413.567949</td>\n",
       "      <td>1613.682642</td>\n",
       "      <td>1793.725019</td>\n",
       "      <td>501.963539</td>\n",
       "      <td>...</td>\n",
       "      <td>1672.383999</td>\n",
       "      <td>5105.784826</td>\n",
       "      <td>1124.951944</td>\n",
       "      <td>860.620171</td>\n",
       "      <td>12569.280813</td>\n",
       "      <td>19180.187484</td>\n",
       "      <td>7424.589274</td>\n",
       "      <td>6881.015186</td>\n",
       "      <td>1757.650342</td>\n",
       "      <td>2414.726327</td>\n",
       "    </tr>\n",
       "    <tr>\n",
       "      <th>1961-01-01</th>\n",
       "      <td>8734.654889</td>\n",
       "      <td>3225.229409</td>\n",
       "      <td>15666.440016</td>\n",
       "      <td>10675.157983</td>\n",
       "      <td>1594.635939</td>\n",
       "      <td>8591.699053</td>\n",
       "      <td>10966.940259</td>\n",
       "      <td>1620.385825</td>\n",
       "      <td>1806.270764</td>\n",
       "      <td>542.991691</td>\n",
       "      <td>...</td>\n",
       "      <td>1715.566809</td>\n",
       "      <td>5062.252401</td>\n",
       "      <td>1133.652078</td>\n",
       "      <td>860.173890</td>\n",
       "      <td>12817.946324</td>\n",
       "      <td>19342.103029</td>\n",
       "      <td>7495.573036</td>\n",
       "      <td>6781.865640</td>\n",
       "      <td>1785.884491</td>\n",
       "      <td>2480.505976</td>\n",
       "    </tr>\n",
       "    <tr>\n",
       "      <th>1962-01-01</th>\n",
       "      <td>4595.165489</td>\n",
       "      <td>3247.774783</td>\n",
       "      <td>16218.777695</td>\n",
       "      <td>11039.562197</td>\n",
       "      <td>1679.000245</td>\n",
       "      <td>9219.070754</td>\n",
       "      <td>11832.121657</td>\n",
       "      <td>1551.691450</td>\n",
       "      <td>1812.806730</td>\n",
       "      <td>596.211469</td>\n",
       "      <td>...</td>\n",
       "      <td>1733.662454</td>\n",
       "      <td>5257.709264</td>\n",
       "      <td>1212.530695</td>\n",
       "      <td>858.673399</td>\n",
       "      <td>12946.663809</td>\n",
       "      <td>20213.129847</td>\n",
       "      <td>7569.820959</td>\n",
       "      <td>6824.167909</td>\n",
       "      <td>1770.477253</td>\n",
       "      <td>2387.665504</td>\n",
       "    </tr>\n",
       "    <tr>\n",
       "      <th>1963-01-01</th>\n",
       "      <td>5320.490300</td>\n",
       "      <td>3084.691110</td>\n",
       "      <td>17097.551206</td>\n",
       "      <td>11412.303692</td>\n",
       "      <td>1736.151714</td>\n",
       "      <td>9026.570727</td>\n",
       "      <td>12284.827489</td>\n",
       "      <td>1601.555862</td>\n",
       "      <td>1906.996349</td>\n",
       "      <td>616.322979</td>\n",
       "      <td>...</td>\n",
       "      <td>1874.419709</td>\n",
       "      <td>5619.228307</td>\n",
       "      <td>1270.920176</td>\n",
       "      <td>848.627413</td>\n",
       "      <td>13379.151279</td>\n",
       "      <td>20788.538117</td>\n",
       "      <td>7316.025332</td>\n",
       "      <td>7192.137422</td>\n",
       "      <td>1824.180363</td>\n",
       "      <td>2363.511866</td>\n",
       "    </tr>\n",
       "    <tr>\n",
       "      <th>1964-01-01</th>\n",
       "      <td>5413.859929</td>\n",
       "      <td>3176.120812</td>\n",
       "      <td>17574.573982</td>\n",
       "      <td>11866.055096</td>\n",
       "      <td>1682.423109</td>\n",
       "      <td>8914.135597</td>\n",
       "      <td>13017.674457</td>\n",
       "      <td>1651.505927</td>\n",
       "      <td>1970.671432</td>\n",
       "      <td>646.745990</td>\n",
       "      <td>...</td>\n",
       "      <td>1886.067528</td>\n",
       "      <td>5655.940421</td>\n",
       "      <td>1429.397151</td>\n",
       "      <td>889.057113</td>\n",
       "      <td>14067.603724</td>\n",
       "      <td>21691.511003</td>\n",
       "      <td>7491.037965</td>\n",
       "      <td>7710.422273</td>\n",
       "      <td>2015.107433</td>\n",
       "      <td>2226.032210</td>\n",
       "    </tr>\n",
       "  </tbody>\n",
       "</table>\n",
       "<p>5 rows × 104 columns</p>\n",
       "</div>"
      ],
      "text/plain": [
       "            Algeria - DZA  Argentina - ARG  Australia - AUS  Austria - AUT  \\\n",
       "year                                                                         \n",
       "1960-01-01   10509.008358      3163.732710     15646.139353   10123.029724   \n",
       "1961-01-01    8734.654889      3225.229409     15666.440016   10675.157983   \n",
       "1962-01-01    4595.165489      3247.774783     16218.777695   11039.562197   \n",
       "1963-01-01    5320.490300      3084.691110     17097.551206   11412.303692   \n",
       "1964-01-01    5413.859929      3176.120812     17574.573982   11866.055096   \n",
       "\n",
       "            Bangladesh - BGD  Barbados - BRB  Belgium - BEL  Benin - BEN  \\\n",
       "year                                                                       \n",
       "1960-01-01       1614.258962     8077.843086   10413.567949  1613.682642   \n",
       "1961-01-01       1594.635939     8591.699053   10966.940259  1620.385825   \n",
       "1962-01-01       1679.000245     9219.070754   11832.121657  1551.691450   \n",
       "1963-01-01       1736.151714     9026.570727   12284.827489  1601.555862   \n",
       "1964-01-01       1682.423109     8914.135597   13017.674457  1651.505927   \n",
       "\n",
       "            Bolivia (Plurinational State of) - BOL  Botswana - BWA  ...  \\\n",
       "year                                                                ...   \n",
       "1960-01-01                             1793.725019      501.963539  ...   \n",
       "1961-01-01                             1806.270764      542.991691  ...   \n",
       "1962-01-01                             1812.806730      596.211469  ...   \n",
       "1963-01-01                             1906.996349      616.322979  ...   \n",
       "1964-01-01                             1970.671432      646.745990  ...   \n",
       "\n",
       "            Tunisia - TUN  Turkey - TUR  U.R. of Tanzania: Mainland - TZA  \\\n",
       "year                                                                        \n",
       "1960-01-01    1672.383999   5105.784826                       1124.951944   \n",
       "1961-01-01    1715.566809   5062.252401                       1133.652078   \n",
       "1962-01-01    1733.662454   5257.709264                       1212.530695   \n",
       "1963-01-01    1874.419709   5619.228307                       1270.920176   \n",
       "1964-01-01    1886.067528   5655.940421                       1429.397151   \n",
       "\n",
       "            Uganda - UGA  United Kingdom - GBR  United States - USA  \\\n",
       "year                                                                  \n",
       "1960-01-01    860.620171          12569.280813         19180.187484   \n",
       "1961-01-01    860.173890          12817.946324         19342.103029   \n",
       "1962-01-01    858.673399          12946.663809         20213.129847   \n",
       "1963-01-01    848.627413          13379.151279         20788.538117   \n",
       "1964-01-01    889.057113          14067.603724         21691.511003   \n",
       "\n",
       "            Uruguay - URY  Venezuela (Bolivarian Republic of) - VEN  \\\n",
       "year                                                                  \n",
       "1960-01-01    7424.589274                               6881.015186   \n",
       "1961-01-01    7495.573036                               6781.865640   \n",
       "1962-01-01    7569.820959                               6824.167909   \n",
       "1963-01-01    7316.025332                               7192.137422   \n",
       "1964-01-01    7491.037965                               7710.422273   \n",
       "\n",
       "            Zambia - ZMB  Zimbabwe - ZWE  \n",
       "year                                      \n",
       "1960-01-01   1757.650342     2414.726327  \n",
       "1961-01-01   1785.884491     2480.505976  \n",
       "1962-01-01   1770.477253     2387.665504  \n",
       "1963-01-01   1824.180363     2363.511866  \n",
       "1964-01-01   2015.107433     2226.032210  \n",
       "\n",
       "[5 rows x 104 columns]"
      ]
     },
     "execution_count": 2,
     "metadata": {},
     "output_type": "execute_result"
    }
   ],
   "source": [
    "# Create a variable called 'data' that stores the data in the file 'cross_country_gdp_per_capita.csv' in a DataFrame\n",
    "# Make sure that 'Year', the left-most column of the data, is set to be the index column\n",
    "data = pd.read_csv('https://raw.githubusercontent.com/letsgoexploring/economic-data/master/cross-country-production/csv/cross_country_gdp_per_capita.csv',index_col=0,parse_dates = True)\n",
    "\n",
    "# Print the first 5 rows of data\n",
    "data.head()"
   ]
  },
  {
   "cell_type": "code",
   "execution_count": 3,
   "metadata": {},
   "outputs": [
    {
     "name": "stdout",
     "output_type": "stream",
     "text": [
      "Number of countries:  104\n"
     ]
    }
   ],
   "source": [
    "# Each column contains data for a specific country. Print the number of countries (e.g., the length of data.columns)\n",
    "print(\"Number of countries: \",len(data.columns))"
   ]
  },
  {
   "cell_type": "code",
   "execution_count": 4,
   "metadata": {},
   "outputs": [
    {
     "name": "stdout",
     "output_type": "stream",
     "text": [
      "Number of years of observations:  60\n"
     ]
    }
   ],
   "source": [
    "# Each column contains data for a specific year. Print the number of years (e.g., the length of data.index)\n",
    "print(\"Number of years of observations: \",len(data.index))"
   ]
  },
  {
   "cell_type": "code",
   "execution_count": 5,
   "metadata": {},
   "outputs": [
    {
     "name": "stdout",
     "output_type": "stream",
     "text": [
      "Initial year:  1960\n",
      "Final year:    2019\n"
     ]
    }
   ],
   "source": [
    "# Print the values of the initial year and the final year in the data\n",
    "print(\"Initial year: \",data.index[0].year)\n",
    "print(\"Final year:   \",data.index[-1].year)"
   ]
  },
  {
   "cell_type": "code",
   "execution_count": 6,
   "metadata": {},
   "outputs": [],
   "source": [
    "# Create a variable called 'data_initial' that is equal to the first row of the data DataFrame\n",
    "data_initial = data.iloc[0]\n",
    "\n",
    "# Create a variable called 'data_final' that is equal to the last row of the data DataFrame\n",
    "data_final = data.iloc[-1]"
   ]
  },
  {
   "cell_type": "code",
   "execution_count": 7,
   "metadata": {
    "scrolled": false
   },
   "outputs": [
    {
     "name": "stdout",
     "output_type": "stream",
     "text": [
      "Countries with lowest GDP per capita in 1960:\n",
      "\n",
      "Malta - MLT          332.605250\n",
      "Ethiopia - ETH       500.025217\n",
      "Botswana - BWA       501.963539\n",
      "Mozambique - MOZ     560.160467\n",
      "Egypt - EGY          667.223190\n",
      "El Salvador - SLV    675.555918\n",
      "Burundi - BDI        690.483404\n",
      "Mali - MLI           717.298249\n",
      "Nepal - NPL          750.282764\n",
      "Uganda - UGA         860.620171\n",
      "Name: 1960-01-01 00:00:00, dtype: float64\n"
     ]
    }
   ],
   "source": [
    "# Use the sort_values() method of data_initial to sort the Series in ascending order.\n",
    "data_initial=data_initial.sort_values()\n",
    "\n",
    "# Print the name and GDP per capita of the countries with the 10 lowest GDPs per capita in the initial year of the data\n",
    "print('Countries with lowest GDP per capita in '+str(data.index[0].year)+':\\n')\n",
    "print(data_initial.head(10))"
   ]
  },
  {
   "cell_type": "code",
   "execution_count": 8,
   "metadata": {},
   "outputs": [
    {
     "name": "stdout",
     "output_type": "stream",
     "text": [
      "Countries with lowest GDP per capita in 2019:\n",
      "\n",
      "Venezuela (Bolivarian Republic of) - VEN     251.176696\n",
      "Burundi - BDI                                794.957690\n",
      "Central African Republic - CAF               980.695287\n",
      "D.R. of the Congo - COD                     1019.858187\n",
      "Malawi - MWI                                1166.743042\n",
      "Niger - NER                                 1211.209949\n",
      "Mozambique - MOZ                            1231.471703\n",
      "Madagascar - MDG                            1543.241302\n",
      "Haiti - HTI                                 1569.443734\n",
      "Uganda - UGA                                2097.404068\n",
      "Name: 2019-01-01 00:00:00, dtype: float64\n"
     ]
    }
   ],
   "source": [
    "# Use the sort_values() method of data_final to sort the Series in ascending order.\n",
    "data_final=data_final.sort_values()\n",
    "\n",
    "# Print the name and GDP per capita of the countries with the 10 lowest GDPs per capita in the final year of the data\n",
    "print('Countries with lowest GDP per capita in '+str(data.index[-1].year)+':\\n')\n",
    "print(data_final.head(10))"
   ]
  },
  {
   "cell_type": "code",
   "execution_count": 9,
   "metadata": {},
   "outputs": [
    {
     "name": "stdout",
     "output_type": "stream",
     "text": [
      "Countries among lowest 10 GDPs per capita in 1960 and 2019:\n",
      "\n",
      "Mozambique \n",
      "Burundi \n",
      "Uganda \n"
     ]
    }
   ],
   "source": [
    "# Print the names of the countries that are among the 10 with lowest GDPs per capita in BOTH the initial year and \n",
    "# the final year. If you can't think of an efficient way to do it, just print maunally. E.g.:\n",
    "#     print('Country 1')\n",
    "#     print('Country 2')\n",
    "#     Etc.\n",
    "print('Countries among lowest 10 GDPs per capita in '+str(data.index[0].year)+' and '+str(data.index[-1].year)+':\\n')\n",
    "for country in data_initial.head(10).index:\n",
    "    if country in data_final.head(10).index:\n",
    "        print(country.split(\"-\")[0])"
   ]
  },
  {
   "cell_type": "code",
   "execution_count": 10,
   "metadata": {},
   "outputs": [
    {
     "name": "stdout",
     "output_type": "stream",
     "text": [
      "Countries with highest GDP per capita in both 1960:\n",
      "\n",
      "Iceland - ISL           12402.693199\n",
      "United Kingdom - GBR    12569.280813\n",
      "Sweden - SWE            13001.330760\n",
      "Denmark - DNK           13162.048275\n",
      "New Zealand - NZL       14052.787169\n",
      "Canada - CAN            14982.252586\n",
      "Australia - AUS         15646.139353\n",
      "Luxembourg - LUX        16148.062133\n",
      "United States - USA     19180.187484\n",
      "Switzerland - CHE       24761.019339\n",
      "Name: 1960-01-01 00:00:00, dtype: float64\n"
     ]
    }
   ],
   "source": [
    "# Print the name and GDP per capita of the countries with the 10 highest GDPs per capita in the initial year of the data\n",
    "print('Countries with highest GDP per capita in both '+str(data.index[0].year)+':\\n')\n",
    "print(data_initial.tail(10))"
   ]
  },
  {
   "cell_type": "code",
   "execution_count": 11,
   "metadata": {
    "scrolled": false
   },
   "outputs": [
    {
     "name": "stdout",
     "output_type": "stream",
     "text": [
      "Countries with highest GDP per capita in 2019:\n",
      "\n",
      "Australia - AUS                53768.702289\n",
      "Denmark - DNK                  54055.919167\n",
      "China, Hong Kong SAR - HKG     54879.957099\n",
      "Netherlands - NLD              55576.780284\n",
      "United States - USA            62498.409698\n",
      "Norway - NOR                   72225.840685\n",
      "Switzerland - CHE              75036.009994\n",
      "Singapore - SGP                82211.559003\n",
      "Luxembourg - LUX               91273.419648\n",
      "Ireland - IRL                 101665.951527\n",
      "Name: 2019-01-01 00:00:00, dtype: float64\n"
     ]
    }
   ],
   "source": [
    "# Print the name and GDP per capita of the countries with the 10 highest GDPs per capita in the final year of the data\n",
    "print('Countries with highest GDP per capita in '+str(data.index[-1].year)+':\\n')\n",
    "print(data_final.tail(10))"
   ]
  },
  {
   "cell_type": "code",
   "execution_count": 12,
   "metadata": {
    "scrolled": true
   },
   "outputs": [
    {
     "name": "stdout",
     "output_type": "stream",
     "text": [
      "Countries among highest 10 GDPs per capita in both 1960 and 2019:\n",
      "\n",
      "Denmark \n",
      "Australia \n",
      "Luxembourg \n",
      "United States \n",
      "Switzerland \n"
     ]
    }
   ],
   "source": [
    "# Print the names of the countries that are among the 10 with highest GDPs per capita in BOTH the initial year\n",
    "# and the final year\n",
    "print('Countries among highest 10 GDPs per capita in both '+str(data.index[0].year)+' and '+str(data.index[-1].year)+':\\n')\n",
    "for country in data_initial.tail(10).index:\n",
    "    if country in data_final.tail(10).index:\n",
    "        print(country.split(\"-\")[0])"
   ]
  },
  {
   "cell_type": "markdown",
   "metadata": {},
   "source": [
    "### Part (b)\n",
    "\n",
    "Let $y_t$ denotes GDP per capita for some country in some year $t$ and let $g$ denotes the average annual growth in GDP per capita between years 0 and $T$. $g$ is defined by:\n",
    "\\begin{align}\n",
    "y_T & = (1+g)^T y_0\n",
    "\\end{align}\n",
    "which implies:\n",
    "\\begin{align}\n",
    "g & = \\left(\\frac{y_T}{y_0}\\right)^{1/T} - 1\n",
    "\\end{align}\n",
    "We can use this equation to compute the aveage growth rate of GDP per capita for each country in our data. Note that for our data, $T$ is equal to `len(data.index)-1`."
   ]
  },
  {
   "cell_type": "code",
   "execution_count": 13,
   "metadata": {},
   "outputs": [],
   "source": [
    "# Create a variable called 'growth_rates' that contains the average growth rate of each country in the data.\n",
    "# NOTE: You do not need to re-sort the variables data_initial and data_final. If their indices don't align,\n",
    "# Pandas will automatically sort their indices alphabetically.\n",
    "T = len(data.index)-1\n",
    "growth_rates = (data_final/data_initial)**(1/T)-1\n",
    "\n",
    "# Use the sort_values() method of growth_rates to sort the Series in ascending order.\n",
    "growth_rates=growth_rates.sort_values()"
   ]
  },
  {
   "cell_type": "code",
   "execution_count": 14,
   "metadata": {},
   "outputs": [
    {
     "name": "stdout",
     "output_type": "stream",
     "text": [
      "Average growth rate of GDP per capita for all countries:  0.0231\n"
     ]
    }
   ],
   "source": [
    "# Print the average of the average growth rate of GDP per capita for all countries rounded to 4 decimal places\n",
    "print('Average growth rate of GDP per capita for all countries: ',round(growth_rates.mean(),4))"
   ]
  },
  {
   "cell_type": "code",
   "execution_count": 15,
   "metadata": {},
   "outputs": [
    {
     "name": "stdout",
     "output_type": "stream",
     "text": [
      "Standard deviation of the growth rate of GDP per capita for all countries:  0.0175\n"
     ]
    }
   ],
   "source": [
    "# Print the standard deviation of the growth rate of GDP per capita for all countries rounded to 4 decimal places\n",
    "print('Standard deviation of the growth rate of GDP per capita for all countries: ',round(growth_rates.std(),4))"
   ]
  },
  {
   "cell_type": "code",
   "execution_count": 16,
   "metadata": {},
   "outputs": [
    {
     "name": "stdout",
     "output_type": "stream",
     "text": [
      "Countries with lowest growth rates of GDP per capita:\n",
      "\n",
      "Venezuela (Bolivarian Republic of) - VEN   -0.054563\n",
      "D.R. of the Congo - COD                    -0.017165\n",
      "Niger - NER                                -0.007383\n",
      "Central African Republic - CAF             -0.006159\n",
      "Gambia - GMB                               -0.001763\n",
      "Haiti - HTI                                 0.000439\n",
      "Nicaragua - NIC                             0.000889\n",
      "Madagascar - MDG                            0.001119\n",
      "Algeria - DZA                               0.001826\n",
      "Ghana - GHA                                 0.002144\n",
      "dtype: float64\n"
     ]
    }
   ],
   "source": [
    "# Print the name and growth rates of the countries with the 10 lowest growth rates of GDP per capita\n",
    "print('Countries with lowest growth rates of GDP per capita:\\n')\n",
    "print(growth_rates.head(10))"
   ]
  },
  {
   "cell_type": "code",
   "execution_count": 17,
   "metadata": {},
   "outputs": [
    {
     "name": "stdout",
     "output_type": "stream",
     "text": [
      "Countries with highest growth rates of GDP per capita:\n",
      "\n",
      "China - CHN                0.045472\n",
      "Thailand - THA             0.046554\n",
      "Ireland - IRL              0.046744\n",
      "Egypt - EGY                0.050308\n",
      "Taiwan - TWN               0.051162\n",
      "Romania - ROU              0.051579\n",
      "Republic of Korea - KOR    0.060488\n",
      "Botswana - BWA             0.061024\n",
      "Singapore - SGP            0.069868\n",
      "Malta - MLT                0.084268\n",
      "dtype: float64\n"
     ]
    }
   ],
   "source": [
    "# Print the name and growth rates of the countries with the 10 highest growth rates of GDP per capita\n",
    "print('Countries with highest growth rates of GDP per capita:\\n')\n",
    "print(growth_rates.tail(10))"
   ]
  },
  {
   "cell_type": "code",
   "execution_count": 18,
   "metadata": {},
   "outputs": [
    {
     "name": "stdout",
     "output_type": "stream",
     "text": [
      "Countries among highest 10 GDPs per capita in both 1960-01-01 00:00:00 and 2019-01-01 00:00:00:\n",
      "\n",
      "Egypt \n",
      "Botswana \n",
      "Malta \n"
     ]
    }
   ],
   "source": [
    "# Print the names of the countries that were BOTH among the 10 with lowest GDPs per capita in the initial year and \n",
    "# among the 10 with the highest growth of GDP per capita.\n",
    "# If you can't think of an efficient way to do it, just print maunally. E.g.:\n",
    "#     print('Country 1')\n",
    "#     print('Country 2')\n",
    "#     Etc.\n",
    "print('Countries among highest 10 GDPs per capita in both '+str(data.index[0])+' and '+str(data.index[-1])+':\\n')\n",
    "for country in growth_rates.tail(10).index:\n",
    "    if country in data_initial.head(10).index:\n",
    "        print(country.split(\"-\")[0])"
   ]
  },
  {
   "cell_type": "code",
   "execution_count": 19,
   "metadata": {
    "scrolled": true
   },
   "outputs": [
    {
     "data": {
      "image/png": "[encoded data removed]",
      "text/plain": [
       "<Figure size 640x480 with 1 Axes>"
      ]
     },
     "metadata": {},
     "output_type": "display_data"
    }
   ],
   "source": [
    "# Use the sort_index() method of data_initial to alphabetize the index [e.g., data_initial = data_initial.sort_index()]\n",
    "data_initial = data_initial.sort_index()\n",
    "\n",
    "# Use the sort_index() method of growth_rates to alphabetize the index\n",
    "growth_rates = growth_rates.sort_index()\n",
    "\n",
    "# Construct a scatter plot with:\n",
    "#     1. GDP per capita in the initial year on the horizontal axis\n",
    "#     2. Average growth rate of GDP per capita on the vertical axis\n",
    "#     3. Size of scatter plot markers at least 50\n",
    "#     4. Opacity of scatter plot markers no greater than 0.5\n",
    "#     5. x-axis limit: [0,20000]\n",
    "#     6. Suitable title and labels for the axes\n",
    "\n",
    "fig = plt.figure()\n",
    "ax = fig.add_subplot(1,1,1)\n",
    "ax.scatter(data_initial,growth_rates,s=100,alpha=0.2)\n",
    "ax.set_title('Income versus Growth for '+str(len(data.columns))+' Countries')\n",
    "ax.set_xlabel('GDP per capita in '+str(data.index[0].year)+'\\n(Thousands of $)')\n",
    "ax.set_ylabel('Growth rate of GDP per capita\\nfrom '+str(data.index[0].year)+' to '+str(data.index[-1].year))\n",
    "ax.set_xlim([0,20000])\n",
    "ax.grid()"
   ]
  },
  {
   "cell_type": "markdown",
   "metadata": {},
   "source": [
    "**Question**\n",
    "\n",
    "1. Describe in words the relationship between GDP per capita in the initial year and average growth of GDP per capita. How is the relationship different for low income countries and high income countries?"
   ]
  },
  {
   "cell_type": "markdown",
   "metadata": {},
   "source": [
    "**Answer**\n",
    "\n",
    "1. There is a right-pointing triangle-shaped relationship between GDP per capita in the initial year and average growth of GDP per capita. Countries with high GDP per capita in the initial year had average growth rates that were almost uniformly close to the world average of about 2 percent. Countries with lower GDP per capita in the initial year had much more variation across the average growth rates of their GDP per capita. The countries with the highest growth rates of GDP per capita were among the lowest income initially and the countries with the lowest growth rates of GDP per capita were also among the lowest income initially.<!-- answer -->"
   ]
  },
  {
   "cell_type": "markdown",
   "metadata": {},
   "source": [
    "### Part (c)\n",
    "\n",
    "In this part you will use OLS to estimate the relationship between GDP per capita in the initial year and average growth of GDP per capita.\n",
    "\n",
    "\\begin{align}\n",
    "g_i & = \\beta_0 + \\beta_{\\text{1}}y_i + \\epsilon_i,\n",
    "\\end{align}\n",
    "\n",
    "where $g_i$ is the average annual growth rate of country $i$, $y_i$ is country $i$'s initial GDP per capita, and $\\epsilon_i$ is the residual of the regression."
   ]
  },
  {
   "cell_type": "code",
   "execution_count": 20,
   "metadata": {},
   "outputs": [
    {
     "name": "stdout",
     "output_type": "stream",
     "text": [
      "                            OLS Regression Results                            \n",
      "==============================================================================\n",
      "Dep. Variable:                      y   R-squared:                       0.006\n",
      "Model:                            OLS   Adj. R-squared:                 -0.004\n",
      "Method:                 Least Squares   F-statistic:                    0.6262\n",
      "Date:                Thu, 19 Oct 2023   Prob (F-statistic):              0.431\n",
      "Time:                        13:09:55   Log-Likelihood:                 273.81\n",
      "No. Observations:                 104   AIC:                            -543.6\n",
      "Df Residuals:                     102   BIC:                            -538.3\n",
      "Df Model:                           1                                         \n",
      "Covariance Type:            nonrobust                                         \n",
      "=======================================================================================\n",
      "                          coef    std err          t      P>|t|      [0.025      0.975]\n",
      "---------------------------------------------------------------------------------------\n",
      "const                   0.0244      0.002      9.993      0.000       0.020       0.029\n",
      "1960-01-01 00:00:00 -2.901e-07   3.67e-07     -0.791      0.431   -1.02e-06    4.37e-07\n",
      "==============================================================================\n",
      "Omnibus:                       17.653   Durbin-Watson:                   1.844\n",
      "Prob(Omnibus):                  0.000   Jarque-Bera (JB):               69.273\n",
      "Skew:                          -0.308   Prob(JB):                     9.07e-16\n",
      "Kurtosis:                       6.950   Cond. No.                     9.46e+03\n",
      "==============================================================================\n",
      "\n",
      "Notes:\n",
      "[1] Standard Errors assume that the covariance matrix of the errors is correctly specified.\n",
      "[2] The condition number is large, 9.46e+03. This might indicate that there are\n",
      "strong multicollinearity or other numerical problems.\n"
     ]
    }
   ],
   "source": [
    "growth_rates = growth_rates.sort_index()\n",
    "data_initial = data_initial.sort_index()\n",
    "\n",
    "\n",
    "# Create a variable called 'y' that is equal to the average growth rates of the countries\n",
    "y = growth_rates\n",
    "\n",
    "# Create a variable called x' that is equal to the GDP per capita of the countries in the initial year\n",
    "x = data_initial\n",
    "\n",
    "# Use the Statsmodels function add_constant() to add a constant column to the variable x\n",
    "x = sm.add_constant(data_initial)\n",
    "\n",
    "# Create a variable called 'model' equal to the output of the Statsmodels OLS function regressing y upon x\n",
    "model = sm.OLS(y,x)\n",
    "\n",
    "# Create a variable called 'results' that stores the fitted model (i.e., the output of the fit() method of model)\n",
    "results = model.fit()\n",
    "\n",
    "# Print the summary of results generated by the summary() method of results\n",
    "print(results.summary())"
   ]
  },
  {
   "cell_type": "markdown",
   "metadata": {},
   "source": [
    "**Questions**\n",
    "\n",
    "1. Interpret the estimate for the coefficient on $y_i$.\n",
    "2. Interpret the estimate for the constant. Where did we see this number earlier?\n",
    "3. Interpret the R-squared of the regression."
   ]
  },
  {
   "cell_type": "markdown",
   "metadata": {},
   "source": [
    "**Answers**\n",
    "\n",
    "1. The estimated coefficient on $y_i$ is both very close to zero and is not statistically different from zero.<!-- answer -->\n",
    "2. The estimated constant is equal to the average growth rate of GDP per capita across all countries and we computed that in the second code cell of Part (b).<!-- answer -->\n",
    "3. The R-squared implies that the linear regression model explains essentially zero percent of the variation in average GDP per capita growth across countries.<!-- answer -->"
   ]
  },
  {
   "cell_type": "markdown",
   "metadata": {},
   "source": [
    "## Exercise: Income and Growth Across US States\n",
    "\n",
    "The data file `state_income_data.csv` contains annual data on income per capita for the 48 continental states, Washington D.C., and the United States as a whole and is available here: https://raw.githubusercontent.com/letsgoexploring/economic-data/master/us-convergence/csv/state_income_data.csv. \n",
    "\n",
    "In this exercise, you will:\n",
    "\n",
    "1. Analyze some basic facts about income per capita among US states.\n",
    "2. Compute the average annual growth rate of income per capita for each state in the data.\n",
    "3. Compute a linear regression of average income per capita growth on income per capita in the initial year.\n",
    "\n",
    "Follow the instructions in the following cells."
   ]
  },
  {
   "cell_type": "markdown",
   "metadata": {},
   "source": [
    "### Part (a)"
   ]
  },
  {
   "cell_type": "code",
   "execution_count": 21,
   "metadata": {},
   "outputs": [
    {
     "name": "stdout",
     "output_type": "stream",
     "text": [
      "                     AL           AR           AZ            CA           CO  \\\n",
      "1840-01-01   962.306222  1234.657040          NaN           NaN          NaN   \n",
      "1880-01-01  1129.751540  1250.796347  4781.269909   3913.782119  4458.483755   \n",
      "1900-01-01  1350.860055  1372.648121  4357.613081   3943.639839  3812.911446   \n",
      "1929-01-01  3387.131026  3217.243576  6349.543427  10554.257804  6699.936292   \n",
      "1930-01-01  2898.710460  2468.863661  5709.247217   9798.302656  6326.463132   \n",
      "\n",
      "                      CT            DC            DE           FL  \\\n",
      "1840-01-01   1652.261627           NaN   1234.657040  1252.813761   \n",
      "1880-01-01   2945.423657           NaN   2178.806541   968.358463   \n",
      "1900-01-01   3398.938203           NaN   2723.508176  1459.800382   \n",
      "1929-01-01  10925.886600  14058.186451  10947.122531  5510.724145   \n",
      "1930-01-01  10217.127742  14482.530585   9456.629560  5158.161578   \n",
      "\n",
      "                     GA  ...           TN           TX           UT  \\\n",
      "1840-01-01  1034.933107  ...   853.365895          NaN          NaN   \n",
      "1880-01-01  1129.751540  ...  1049.055001  1210.448078  1634.104906   \n",
      "1900-01-01  1220.131663  ...  1329.071990  1830.197494  2483.839456   \n",
      "1929-01-01  3641.962200  ...  3960.501168  5032.915693  5818.645148   \n",
      "1930-01-01  3339.578971  ...  3537.969801  4485.837099  5444.726110   \n",
      "\n",
      "            United States           VA           VT           WA           WI  \\\n",
      "1840-01-01    1180.186876   980.462943  1180.186876          NaN  1452.537694   \n",
      "1880-01-01    1916.542790  1028.880866  2098.110002  2824.378849  1896.368656   \n",
      "1900-01-01    2462.051391  1438.012317  2570.991718  3943.639839  2331.322999   \n",
      "1929-01-01    7421.957953  4618.815035  6689.318327  7857.294542  7114.036951   \n",
      "1930-01-01    6844.483633  4265.402844  6304.419707  7241.265293  6447.701973   \n",
      "\n",
      "                     WV           WY  \n",
      "1840-01-01   980.462943          NaN  \n",
      "1880-01-01  1089.403270  3106.816734  \n",
      "1900-01-01  1721.257167  5163.771501  \n",
      "1929-01-01  4873.646209  7135.272882  \n",
      "1930-01-01  4485.837099  6414.636835  \n",
      "\n",
      "[5 rows x 50 columns]\n"
     ]
    }
   ],
   "source": [
    "# Create a variable called 'state_df' that stores the data in the file 'cross_country_gdp_pc.csv' in a DataFrame\n",
    "# Make sure that 'Year', the left-most column of the data, is set to be the index column\n",
    "state_df= pd.read_csv('https://raw.githubusercontent.com/letsgoexploring/economic-data/master/us-convergence/csv/state_income_data.csv',index_col=0,parse_dates=True)\n",
    "\n",
    "# Print the first 5 rows of state_df\n",
    "print(state_df.head())"
   ]
  },
  {
   "cell_type": "markdown",
   "metadata": {},
   "source": [
    "The DataFrame method `dropna()` returns a DataFrame that omits rows that contain missing (NaN means *not a number*) values. The following command will remove the rows with missing values from the DataFrame `df`:\n",
    "\n",
    "    df =  df.dropna()\n",
    "    \n",
    "The DataFrame method `drop()` returns a DataFrame that omits rows or columns with a given label. The following command will remove the column named `'LABEL'` from the DataFrame `df`:   \n",
    "   \n",
    "    df = df.drop('LABEL',axis=1)\n",
    "    \n",
    "The argument `axis=1` means to look among the columns for `'LABEL'`. If we had wanted to remove a row with the index value `'LABEL'`, then the axis argument would have been: `axis=0`."
   ]
  },
  {
   "cell_type": "code",
   "execution_count": 22,
   "metadata": {},
   "outputs": [
    {
     "name": "stdout",
     "output_type": "stream",
     "text": [
      "                  AL        AR        AZ         CA        CO         CT  \\\n",
      "1929-01-01  3.387131  3.217244  6.349543  10.554258  6.699936  10.925887   \n",
      "1930-01-01  2.898710  2.468864  5.709247   9.798303  6.326463  10.217128   \n",
      "1931-01-01  2.702371  2.542685  5.281906   9.249478  5.797814   9.912787   \n",
      "1932-01-01  2.212020  2.114636  4.479688   8.124652  4.966611   8.722871   \n",
      "1933-01-01  2.346545  2.189154  4.421233   7.869509  5.050794   8.456145   \n",
      "\n",
      "                   DC         DE        FL        GA  ...        SD        TN  \\\n",
      "1929-01-01  14.058186  10.947123  5.510724  3.641962  ...  4.406456  3.960501   \n",
      "1930-01-01  14.482531   9.456630  5.158162  3.339579  ...  3.934751  3.537970   \n",
      "1931-01-01  15.391230   9.531999  4.876551  3.120010  ...  2.972608  3.353396   \n",
      "1932-01-01  15.400668   8.222037  4.410128  2.740679  ...  2.629382  2.698943   \n",
      "1933-01-01  13.521248   8.098440  4.135069  2.890256  ...  1.945915  2.875948   \n",
      "\n",
      "                  TX        UT        VA        VT        WA        WI  \\\n",
      "1929-01-01  5.032916  5.818645  4.618815  6.689318  7.857295  7.114037   \n",
      "1930-01-01  4.485837  5.444726  4.265403  6.304420  7.241265  6.447702   \n",
      "1931-01-01  4.237809  4.569463  4.557180  5.785530  6.559391  5.760963   \n",
      "1932-01-01  3.644964  4.229271  3.978854  5.050083  5.592654  5.036171   \n",
      "1933-01-01  3.634282  4.249535  4.092145  4.821863  5.379883  4.778938   \n",
      "\n",
      "                  WV        WY  \n",
      "1929-01-01  4.873646  7.135273  \n",
      "1930-01-01  4.485837  6.414637  \n",
      "1931-01-01  4.348360  5.859231  \n",
      "1932-01-01  3.575403  5.217028  \n",
      "1933-01-01  3.705823  5.322650  \n",
      "\n",
      "[5 rows x 49 columns]\n"
     ]
    }
   ],
   "source": [
    "# Remove the rows with missing data from state_df\n",
    "state_df = state_df.dropna()\n",
    "\n",
    "# Remove the column named 'United States' from state_df\n",
    "state_df = state_df.drop('United States',axis=1)\n",
    "\n",
    "# Set state_df equal to itself divided by 1000 so that its units are in thousands of dollars\n",
    "state_df = state_df/1000\n",
    "\n",
    "# Print the first 5 rows of state_df\n",
    "print(state_df.head())"
   ]
  },
  {
   "cell_type": "code",
   "execution_count": 23,
   "metadata": {},
   "outputs": [
    {
     "data": {
      "text/plain": [
       "AL    0.026848\n",
       "AR    0.027664\n",
       "AZ    0.021167\n",
       "CA    0.019005\n",
       "CO    0.023536\n",
       "CT    0.019657\n",
       "DC    0.018315\n",
       "DE    0.016078\n",
       "FL    0.023994\n",
       "GA    0.027379\n",
       "IA    0.022101\n",
       "ID    0.022735\n",
       "IL    0.018212\n",
       "IN    0.021282\n",
       "KS    0.023234\n",
       "KY    0.025004\n",
       "LA    0.024942\n",
       "MA    0.020990\n",
       "MD    0.020755\n",
       "ME    0.021660\n",
       "MI    0.018115\n",
       "MN    0.023247\n",
       "MO    0.020766\n",
       "MS    0.027406\n",
       "MT    0.021480\n",
       "NC    0.027962\n",
       "ND    0.027960\n",
       "NE    0.022648\n",
       "NH    0.022657\n",
       "NJ    0.020033\n",
       "NM    0.024402\n",
       "NV    0.017866\n",
       "NY    0.017458\n",
       "OH    0.018599\n",
       "OK    0.023990\n",
       "OR    0.021108\n",
       "PA    0.019842\n",
       "RI    0.018486\n",
       "SC    0.029386\n",
       "SD    0.026836\n",
       "TN    0.026673\n",
       "TX    0.024710\n",
       "UT    0.022368\n",
       "VA    0.026713\n",
       "VT    0.021794\n",
       "WA    0.022008\n",
       "WI    0.020766\n",
       "WV    0.022515\n",
       "WY    0.022416\n",
       "dtype: float64"
      ]
     },
     "execution_count": 23,
     "metadata": {},
     "output_type": "execute_result"
    }
   ],
   "source": [
    "# Create a variable called 'state_growth_rates' that contains the average growth rate of each state in the data.\n",
    "T = len(state_df)-1\n",
    "state_growth_rates = (state_df.iloc[-1]/state_df.iloc[0])**(1/T)-1\n",
    "\n",
    "state_growth_rates"
   ]
  },
  {
   "cell_type": "code",
   "execution_count": 24,
   "metadata": {},
   "outputs": [
    {
     "data": {
      "image/png": "[encoded data removed]",
      "text/plain": [
       "<Figure size 640x480 with 1 Axes>"
      ]
     },
     "metadata": {},
     "output_type": "display_data"
    }
   ],
   "source": [
    "# Construct a scatter plot with:\n",
    "#     1. Income per capita in the initial year on the horizontal axis\n",
    "#     2. Average growth rate of income per capita on the vertical axis\n",
    "#     3. Size of scatter plot markers at least 50\n",
    "#     4. Opacity of scatter plot markers no greater than 0.5\n",
    "#     5. y-axis limit: [0.015,0.035]\n",
    "#     6. Suitable title and labels for the axes\n",
    "\n",
    "fig = plt.figure()\n",
    "ax = fig.add_subplot(1,1,1)\n",
    "ax.scatter(state_df.iloc[0],state_growth_rates,s=100,alpha=0.2)\n",
    "ax.set_title('Income versus Growth for '+str(len(state_df.columns))+' States incl. DC')\n",
    "ax.set_xlabel('Income per capita in '+str(state_df.index[0].year)+'\\n(Thousands of $)')\n",
    "ax.set_ylabel('Growth rate of income per capita\\nfrom '+str(state_df.index[0].year)+' to '+str(state_df.index[-1].year))\n",
    "ax.set_ylim([0.015,0.035])\n",
    "ax.grid()"
   ]
  },
  {
   "cell_type": "markdown",
   "metadata": {},
   "source": [
    "### Part (b)\n",
    "\n",
    "Like you did for the country data above, use OLS to estimate the relationship between income per capita in the initial year and average growth of income per capita.\n",
    "\n",
    "\\begin{align}\n",
    "g_i & = \\beta_0 + \\beta_{\\text{1}}y_i + \\epsilon_i,\n",
    "\\end{align}\n",
    "\n",
    "where $g_i$ is the average annual growth rate of country $i$, $y_i$ is state $i$'s initial income per capita, and $\\epsilon_i$ is the residual of the regression."
   ]
  },
  {
   "cell_type": "code",
   "execution_count": 25,
   "metadata": {},
   "outputs": [
    {
     "name": "stdout",
     "output_type": "stream",
     "text": [
      "                            OLS Regression Results                            \n",
      "==============================================================================\n",
      "Dep. Variable:                      y   R-squared:                       0.799\n",
      "Model:                            OLS   Adj. R-squared:                  0.795\n",
      "Method:                 Least Squares   F-statistic:                     186.8\n",
      "Date:                Thu, 19 Oct 2023   Prob (F-statistic):           5.46e-18\n",
      "Time:                        13:09:55   Log-Likelihood:                 250.91\n",
      "No. Observations:                  49   AIC:                            -497.8\n",
      "Df Residuals:                      47   BIC:                            -494.0\n",
      "Df Model:                           1                                         \n",
      "Covariance Type:            nonrobust                                         \n",
      "=======================================================================================\n",
      "                          coef    std err          t      P>|t|      [0.025      0.975]\n",
      "---------------------------------------------------------------------------------------\n",
      "const                   0.0300      0.001     51.168      0.000       0.029       0.031\n",
      "1929-01-01 00:00:00    -0.0011   8.22e-05    -13.667      0.000      -0.001      -0.001\n",
      "==============================================================================\n",
      "Omnibus:                        1.873   Durbin-Watson:                   1.920\n",
      "Prob(Omnibus):                  0.392   Jarque-Bera (JB):                1.799\n",
      "Skew:                           0.435   Prob(JB):                        0.407\n",
      "Kurtosis:                       2.646   Cond. No.                         20.2\n",
      "==============================================================================\n",
      "\n",
      "Notes:\n",
      "[1] Standard Errors assume that the covariance matrix of the errors is correctly specified.\n"
     ]
    }
   ],
   "source": [
    "# Create a variable called 'y' that is equal to the average growth rates of the states\n",
    "y = state_growth_rates\n",
    "\n",
    "# Create a variable called x' that is equal to the income per capita of the states in the initial year\n",
    "x = state_df.iloc[0]\n",
    "\n",
    "# Use the Statsmodels function add_constant() to add a constant column to the variable x\n",
    "x = sm.add_constant(x)\n",
    "\n",
    "# Create a variable called 'model' equal to the output of the Statsmodels OLS function regressing y upon x\n",
    "model = sm.OLS(y,x)\n",
    "\n",
    "# Create a variable called 'results' that stores the fitted model (i.e., the output of the fit() method of model)\n",
    "results = model.fit()\n",
    "\n",
    "# Print the summary of results generated by the summary() method of results\n",
    "print(results.summary())"
   ]
  },
  {
   "cell_type": "markdown",
   "metadata": {},
   "source": [
    "**Questions**\n",
    "\n",
    "1. Interpret the estimate for the coefficient on $y_i$.\n",
    "2. Interpret the R-squared of the regression.\n",
    "3. Why do you think that initial income and average growth are so strongly correlated in the state data but not so in the country data? (If you're not sure, referesh your knowledge about the difference between *conditional* and *unconditional* convergence: https://en.wikipedia.org/wiki/Convergence_(economics)#Types_of_Convergence)"
   ]
  },
  {
   "cell_type": "markdown",
   "metadata": {},
   "source": [
    "**Answers**\n",
    "\n",
    "1. The estimated coefficient on $y_i$ implies that a \\$1,000 increase in income per captia reduces a states average growth rate of income per capita by 1.1 percent. I.e., states with lower initial income had greater income growth than higher income states. <!-- answer -->\n",
    "2. The R-squared implies that the linear regression model explains about 80 percent of the variation in average income per capita growth across states.<!-- answer -->\n",
    "3. Lower-income US states are \"economically similar\" to higher-income states in that they have the same currency, federal regulation, legal traditions, and language, and they have similar laws, poltical institutions. Therefore, it's not surprising to observe *catch-up growth* among the lower-income states. By contrast, lower-income countries are a diverse group with broad differences in policies and institutions and so it is not at all guaranteed that low income countries will enjoy catch-up growth simply by virtue of their low income. <!-- answer -->"
   ]
  }
 ],
 "metadata": {
  "kernelspec": {
   "display_name": "Python 3 (ipykernel)",
   "language": "python",
   "name": "python3"
  },
  "language_info": {
   "codemirror_mode": {
    "name": "ipython",
    "version": 3
   },
   "file_extension": ".py",
   "mimetype": "text/x-python",
   "name": "python",
   "nbconvert_exporter": "python",
   "pygments_lexer": "ipython3",
   "version": "3.11.5"
  }
 },
 "nbformat": 4,
 "nbformat_minor": 2
}

{
    "cells": [
        {
            "cell_type": "code",
            "execution_count": null,
            "metadata": {},
            "outputs": [],
            "source": [
                "import numpy as np\n",
                "import pandas as pd\n",
                "import matplotlib.pyplot as plt\n",
                "plt.style.use('classic')\n",
                "plt.rcParams['figure.facecolor'] = 'white'"
            ]
        },
        {
            "cell_type": "markdown",
            "metadata": {},
            "source": [
                "# Homework 5\n",
                "\n",
                "**Instructions:** Complete the notebook below. Download the completed notebook in HTML format. Upload assignment using Canvas."
            ]
        },
        {
            "cell_type": "markdown",
            "metadata": {},
            "source": [
                "## Exercise: AR(1) Process Simulation\n",
                "\n",
                "For each of the AR(1) processes defined below:\n",
                "\n",
                "1. Compute $y$ for $201$ periods (i.e., $t=0,\\ldots, 200$).\n",
                "2. Construct a well-labeled plot of $y$ for each simulation.\n",
                "2. Print the mean and standard deviation of the stimulated process.\n",
                "\n",
                "You may use the function from the Notebook for Lecture \"Stochastic Time Series Processes\", write your own, or take a more brute force approach."
            ]
        },
        {
            "cell_type": "markdown",
            "metadata": {},
            "source": [
                "1. $y_{t} = 0.33 y_{t-1} + \\epsilon_t, \\; \\; \\; \\; \\epsilon \\sim \\mathcal{N}(0,1), \\; \\; \\; \\; y_0 = 0$"
            ]
        },
        {
            "cell_type": "code",
            "execution_count": null,
            "metadata": {},
            "outputs": [],
            "source": [
                "\n",
                "\n",
                "",
                "",
                "",
                "",
                "",
                "",
                "",
                "",
                ""
            ]
        },
        {
            "cell_type": "code",
            "execution_count": null,
            "metadata": {},
            "outputs": [],
            "source": [
                "# print mean of y\n",
                "\n",
                "\n",
                "# Print standard deviation of y\n"
            ]
        },
        {
            "cell_type": "markdown",
            "metadata": {},
            "source": [
                "2. $y_{t} = y_{t-1} + \\epsilon_t, \\; \\; \\; \\; \\epsilon \\sim \\mathcal{N}(0,1), \\; \\; \\; \\; y_0 = 0$"
            ]
        },
        {
            "cell_type": "code",
            "execution_count": null,
            "metadata": {},
            "outputs": [],
            "source": [
                "\n",
                "\n",
                "",
                "",
                "",
                "",
                "",
                "",
                "",
                "",
                ""
            ]
        },
        {
            "cell_type": "code",
            "execution_count": null,
            "metadata": {},
            "outputs": [],
            "source": [
                "# print mean of y\n",
                "\n",
                "\n",
                "# Print standard deviation of y\n"
            ]
        },
        {
            "cell_type": "markdown",
            "metadata": {},
            "source": [
                "3. $y_{t} = -0.95 y_{t-1} + \\epsilon_t, \\; \\; \\; \\; \\epsilon \\sim \\mathcal{N}(0,1), \\; \\; \\; \\; y_0 = 0$"
            ]
        },
        {
            "cell_type": "code",
            "execution_count": null,
            "metadata": {},
            "outputs": [],
            "source": [
                "\n",
                "\n",
                "",
                "",
                "",
                "",
                "",
                "",
                "",
                "",
                ""
            ]
        },
        {
            "cell_type": "code",
            "execution_count": null,
            "metadata": {},
            "outputs": [],
            "source": [
                "# print mean of y\n",
                "\n",
                "\n",
                "# Print standard deviation of y\n"
            ]
        },
        {
            "cell_type": "markdown",
            "metadata": {},
            "source": [
                "4. $y_{t} = 0.75 y_{t-1} + \\epsilon_t , \\; \\; \\; \\; \\epsilon \\sim \\mathcal{N}(0,4), \\; \\; \\; \\; y_0 = 20$"
            ]
        },
        {
            "cell_type": "code",
            "execution_count": null,
            "metadata": {},
            "outputs": [],
            "source": [
                "\n",
                "\n",
                "",
                "",
                "",
                "",
                "",
                "",
                "",
                "",
                ""
            ]
        },
        {
            "cell_type": "code",
            "execution_count": null,
            "metadata": {},
            "outputs": [],
            "source": [
                "# print mean of y\n",
                "\n",
                "\n",
                "# Print standard deviation of y\n"
            ]
        },
        {
            "cell_type": "markdown",
            "metadata": {},
            "source": [
                "5. $y_{t} = 0.9 y_{t-1} + \\epsilon_t , \\; \\; \\; \\; \\epsilon \\sim \\mathcal{N}(0,3), \\; \\; \\; \\; y_0 = 0$"
            ]
        },
        {
            "cell_type": "code",
            "execution_count": null,
            "metadata": {},
            "outputs": [],
            "source": [
                "\n",
                "\n",
                "",
                "",
                "",
                "",
                "",
                "",
                "",
                "",
                ""
            ]
        },
        {
            "cell_type": "code",
            "execution_count": null,
            "metadata": {},
            "outputs": [],
            "source": [
                "# print mean of y\n",
                "\n",
                "\n",
                "# Print standard deviation of y\n"
            ]
        },
        {
            "cell_type": "markdown",
            "metadata": {},
            "source": [
                "## Exercise: Stochastic Growth\n",
                "\n",
                "We've seen in class that total factory productivity (TFP) in the US fluctuates over the business cycle around a long-term growth trend. That is, total factor productivity is characterized by *stochastic growth*. In this problem, you will simulate a model of TFP with stochastic growth.\n",
                "\n",
                "### Background\n",
                "\n",
                "Suppose that the trend component of TFP $A^{trend}$ grows smoothly at the constant rate $g$:\n",
                "\n",
                "\\begin{align}\n",
                "A^{trend}_t & = (1+g)A_{t-1}^{trend}, \\tag{1}\n",
                "\\end{align}\n",
                "\n",
                "where $A_0$ is given. The log-deviations of actual TFP $A$ from trend TFP are determined according to an AR(1) process:\n",
                "\n",
                "\\begin{align}\n",
                "\\log\\left(A_t/A^{trend}_t\\right) & = \\rho \\log \\left(A_{t-1} / A^{trend}_{t-1}\\right) + \\epsilon_t, \\tag{2}\n",
                "\\end{align}\n",
                "\n",
                "where $A_0$ is given and $\\epsilon_t \\sim \\mathcal{N}(0,\\sigma^2)$. Solve quation (2) for $A_t$ to get an expression for $A_t$ in terms of $A_{t-1}$, $A^{trend}_{t}$, $A^{trend}_{t-1}$, and $\\epsilon_t$:\n",
                "\n",
                "\\begin{align}\n",
                "A_t & = A^{trend}_t \\displaystyle e^{\\rho \\log \\left(A_{t-1} / A^{trend}_{t-1}\\right) + \\epsilon_t} \\tag{3}\n",
                "\\end{align}\n",
                "\n",
                "### Simulation\n",
                "\n",
                "To simulate this model:\n",
                "\n",
                "1. Specify values for $A_0$ and $A^{trend}_0$.\n",
                "2. For $t = 1, 2, \\ldots... T$, compute $A^{trend}_{t}$ using equation (1) and then compute $A_{t}$ using equation (3)\n",
                "\n",
                "Use the following prameter values for this simulation\n",
                "\n",
                "| $$A^{trend}_0$$ | $$A_0$$ | $$g$$  | $$\\rho$$ | $$\\sigma$$ | $$T$$ |\n",
                "|-----------------|---------|--------|----------|------------|-------|\n",
                "| 1               | 1       | 0.02   | 0.7      | 0.025      | 101   |\n",
                "\n",
                "In the follwing cell, simulate $A^{trend}$ and $A$ using the parameter values provided."
            ]
        },
        {
            "cell_type": "code",
            "execution_count": null,
            "metadata": {},
            "outputs": [],
            "source": [
                "# Simulate the stochastic growth model of TFP\n",
                "\n",
                "\n",
                "",
                "",
                "",
                "",
                "",
                "",
                "",
                "",
                "",
                ""
            ]
        },
        {
            "cell_type": "markdown",
            "metadata": {},
            "source": [
                "Contruct a well-labeled plot of the simulated values of $A$ and $A^{trend}$"
            ]
        },
        {
            "cell_type": "code",
            "execution_count": null,
            "metadata": {},
            "outputs": [],
            "source": [
                "# Construct a plot of simulated TFP with its trend with:\n",
                "#    1. Actual line: blue with lw=1, alpha=0.7, label = 'actual'\n",
                "#    2. Trend line:  red with lw=3, alpha=0.25, label = 'trend'\n",
                "\n",
                "\n",
                "",
                "",
                ""
            ]
        },
        {
            "cell_type": "markdown",
            "metadata": {},
            "source": [
                "Contruct a well-labeled plot of the simulated values of $\\log \\left(A/A^{trend}\\right)$"
            ]
        },
        {
            "cell_type": "code",
            "execution_count": null,
            "metadata": {},
            "outputs": [],
            "source": [
                "# Construct a plot of simulated log deviation of TFP from trend\n",
                "\n",
                "\n",
                ""
            ]
        },
        {
            "cell_type": "markdown",
            "metadata": {},
            "source": [
                "Compute the mean and standard deviation of $\\log \\left(A/A^{trend}\\right)$"
            ]
        },
        {
            "cell_type": "code",
            "execution_count": null,
            "metadata": {},
            "outputs": [],
            "source": [
                "# print mean of log(A/A trend)\n",
                "\n",
                "\n",
                "# Print standard deviation of log(A/A trend)\n"
            ]
        },
        {
            "cell_type": "markdown",
            "metadata": {},
            "source": [
                "## Exercise: Questions for Prescott (1986) Reading\n",
                "\n",
                "\n",
                "The following questions are about Edward Prescott's 1986 article \"Theory  Ahead of Business Cycle Measurement\" from the Fall 1986 issue of the Minneapolis Fed's *Quarterly Review* (link to article: [https://www.minneapolisfed.org/research/qr/qr1042.pdf](https://www.minneapolisfed.org/research/qr/qr1042.pdf)). The article is a summary of the research agenda of the author, his main collaborator, Finn Kydland, and others. That agenda entailed incorporating stochastic growth of TFP into the neoclassical growth model (essentially a Solow model but with the saving rate determined as a consequence a of utility maximization problem) as a way of modeling business cycle fluctuations. This line of research would later be called *real business cycle* theory.\n",
                "\n",
                "The below questions are specifically about:\n",
                "* Pages 9-11 (including the table on page 12)\n",
                "* The final paragraph on page 21"
            ]
        },
        {
            "cell_type": "markdown",
            "metadata": {},
            "source": [
                "**Question:** On page 10, Prescott writes that the \"models constructed within this theoretical framework are necessarily highly abstract. Consequently they are necessarily false.\" What does Prescott mean by this? In what sense are abstract models necessarily false? "
            ]
        },
        {
            "cell_type": "markdown",
            "metadata": {},
            "source": [
                "**Answer**\n",
                "\n",
                "  "
            ]
        },
        {
            "cell_type": "markdown",
            "metadata": {},
            "source": [
                "**Question:** On page 10, Prescott lists two reasons for why he doesn't like the term *business cycle*. What is the first reason and what does it mean?"
            ]
        },
        {
            "cell_type": "markdown",
            "metadata": {},
            "source": [
                "**Answer**\n",
                "\n",
                "  "
            ]
        },
        {
            "cell_type": "markdown",
            "metadata": {},
            "source": [
                "**Question:** Table 1 on page 12 shows that household consumption measures in the US fluctuate less than investment measures. What is the intuition for why consumption varies less than investment?"
            ]
        },
        {
            "cell_type": "markdown",
            "metadata": {},
            "source": [
                "**Answer**\n",
                "\n",
                "  "
            ]
        },
        {
            "cell_type": "markdown",
            "metadata": {},
            "source": [
                "**Question:** In the last paragraph of page 21, to what does Prescott attribute economic fluctuations? Can you think of any reasons why this statement was, and still is, controversial?"
            ]
        },
        {
            "cell_type": "markdown",
            "metadata": {},
            "source": [
                "**Answer**\n",
                "\n",
                "  \n\n",
                "  \n\n",
                "  \n\n",
                "  "
            ]
        }
    ],
    "metadata": {
        "kernelspec": {
            "display_name": "Python 3 (ipykernel)",
            "language": "python",
            "name": "python3"
        },
        "language_info": {
            "codemirror_mode": {
                "name": "ipython",
                "version": 3
            },
            "file_extension": ".py",
            "mimetype": "text/x-python",
            "name": "python",
            "nbconvert_exporter": "python",
            "pygments_lexer": "ipython3",
            "version": "3.11.5"
        }
    },
    "nbformat": 4,
    "nbformat_minor": 2
}
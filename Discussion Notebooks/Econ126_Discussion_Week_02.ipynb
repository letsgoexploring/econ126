{
 "cells": [
  {
   "cell_type": "code",
   "execution_count": 1,
   "metadata": {},
   "outputs": [],
   "source": [
    "import numpy as np\n",
    "import matplotlib.pyplot as plt\n",
    "plt.style.use('classic')\n",
    "plt.rcParams['figure.facecolor'] = 'white'"
   ]
  },
  {
   "cell_type": "markdown",
   "metadata": {},
   "source": [
    "# Discussion: Week 2"
   ]
  },
  {
   "cell_type": "code",
   "execution_count": 2,
   "metadata": {},
   "outputs": [],
   "source": [
    "# Import the Pandas module as pd\n",
    "import pandas as pd"
   ]
  },
  {
   "cell_type": "markdown",
   "metadata": {},
   "source": [
    "\n",
    "## Exercise: Statistics on Cross-Country Income per Capita\n",
    "\n",
    "Objectives:\n",
    "\n",
    "1. Import and manage cross-country GDP per capita data\n",
    "2. Construct plots using imported data\n",
    "\n",
    "For this exercise, we'll make use of a file called `cross_country_gdp_per_capita.csv` from: https://raw.githubusercontent.com/letsgoexploring/economic-data/master/cross-country-production/csv/cross_country_gdp_per_capita.csv (Python code to generate the dataset: https://github.com/letsgoexploring/economic-data)."
   ]
  },
  {
   "cell_type": "markdown",
   "metadata": {},
   "source": [
    "### Part (a): Import Data and Inspect the `DataFrame`\n",
    "\n",
    "In the first part of the exercise, you will import the dataset and use some basic Pandas operations to explore some properties of the `DataFrame` that you create. The csv file that you import has years in the leftmost column (i.e., pass `index_col=0` to `pd.read_csv`). Pass the optional argument `parse_dates=True` to `pd.read_csv()` so that Pandas interprets the year numbers as dates. This is handy for graphing, among other things."
   ]
  },
  {
   "cell_type": "code",
   "execution_count": 3,
   "metadata": {},
   "outputs": [
    {
     "name": "stdout",
     "output_type": "stream",
     "text": [
      "            Algeria - DZA  Argentina - ARG  Australia - AUS  Austria - AUT  \\\n",
      "year                                                                         \n",
      "1960-01-01   10509.008358      3163.732710     15646.139353   10123.029724   \n",
      "1961-01-01    8734.654889      3225.229409     15666.440016   10675.157983   \n",
      "1962-01-01    4595.165489      3247.774783     16218.777695   11039.562197   \n",
      "1963-01-01    5320.490300      3084.691110     17097.551206   11412.303692   \n",
      "1964-01-01    5413.859929      3176.120812     17574.573982   11866.055096   \n",
      "\n",
      "            Bangladesh - BGD  Barbados - BRB  Belgium - BEL  Benin - BEN  \\\n",
      "year                                                                       \n",
      "1960-01-01       1614.258962     8077.843086   10413.567949  1613.682642   \n",
      "1961-01-01       1594.635939     8591.699053   10966.940259  1620.385825   \n",
      "1962-01-01       1679.000245     9219.070754   11832.121657  1551.691450   \n",
      "1963-01-01       1736.151714     9026.570727   12284.827489  1601.555862   \n",
      "1964-01-01       1682.423109     8914.135597   13017.674457  1651.505927   \n",
      "\n",
      "            Bolivia (Plurinational State of) - BOL  Botswana - BWA  ...  \\\n",
      "year                                                                ...   \n",
      "1960-01-01                             1793.725019      501.963539  ...   \n",
      "1961-01-01                             1806.270764      542.991691  ...   \n",
      "1962-01-01                             1812.806730      596.211469  ...   \n",
      "1963-01-01                             1906.996349      616.322979  ...   \n",
      "1964-01-01                             1970.671432      646.745990  ...   \n",
      "\n",
      "            Tunisia - TUN  Turkey - TUR  U.R. of Tanzania: Mainland - TZA  \\\n",
      "year                                                                        \n",
      "1960-01-01    1672.383999   5105.784826                       1124.951944   \n",
      "1961-01-01    1715.566809   5062.252401                       1133.652078   \n",
      "1962-01-01    1733.662454   5257.709264                       1212.530695   \n",
      "1963-01-01    1874.419709   5619.228307                       1270.920176   \n",
      "1964-01-01    1886.067528   5655.940421                       1429.397151   \n",
      "\n",
      "            Uganda - UGA  United Kingdom - GBR  United States - USA  \\\n",
      "year                                                                  \n",
      "1960-01-01    860.620171          12569.280813         19180.187484   \n",
      "1961-01-01    860.173890          12817.946324         19342.103029   \n",
      "1962-01-01    858.673399          12946.663809         20213.129847   \n",
      "1963-01-01    848.627413          13379.151279         20788.538117   \n",
      "1964-01-01    889.057113          14067.603724         21691.511003   \n",
      "\n",
      "            Uruguay - URY  Venezuela (Bolivarian Republic of) - VEN  \\\n",
      "year                                                                  \n",
      "1960-01-01    7424.589274                               6881.015186   \n",
      "1961-01-01    7495.573036                               6781.865640   \n",
      "1962-01-01    7569.820959                               6824.167909   \n",
      "1963-01-01    7316.025332                               7192.137422   \n",
      "1964-01-01    7491.037965                               7710.422273   \n",
      "\n",
      "            Zambia - ZMB  Zimbabwe - ZWE  \n",
      "year                                      \n",
      "1960-01-01   1757.650342     2414.726327  \n",
      "1961-01-01   1785.884491     2480.505976  \n",
      "1962-01-01   1770.477253     2387.665504  \n",
      "1963-01-01   1824.180363     2363.511866  \n",
      "1964-01-01   2015.107433     2226.032210  \n",
      "\n",
      "[5 rows x 104 columns]\n"
     ]
    }
   ],
   "source": [
    "# Import the cross-country GDP data into a DataFrame called 'income_df' with arguments index_col=0 and parse_dates=True\n",
    "income_df = pd.read_csv('https://raw.githubusercontent.com/letsgoexploring/economic-data/master/cross-country-production/csv/cross_country_gdp_per_capita.csv',index_col=0,parse_dates=True)\n",
    "\n",
    "# Print the first five rows of income_df\n",
    "print(income_df.head())"
   ]
  },
  {
   "cell_type": "code",
   "execution_count": 4,
   "metadata": {
    "scrolled": true
   },
   "outputs": [
    {
     "name": "stdout",
     "output_type": "stream",
     "text": [
      "Index(['Algeria - DZA', 'Argentina - ARG', 'Australia - AUS', 'Austria - AUT',\n",
      "       'Bangladesh - BGD', 'Barbados - BRB', 'Belgium - BEL', 'Benin - BEN',\n",
      "       'Bolivia (Plurinational State of) - BOL', 'Botswana - BWA',\n",
      "       ...\n",
      "       'Tunisia - TUN', 'Turkey - TUR', 'U.R. of Tanzania: Mainland - TZA',\n",
      "       'Uganda - UGA', 'United Kingdom - GBR', 'United States - USA',\n",
      "       'Uruguay - URY', 'Venezuela (Bolivarian Republic of) - VEN',\n",
      "       'Zambia - ZMB', 'Zimbabwe - ZWE'],\n",
      "      dtype='object', length=104)\n"
     ]
    }
   ],
   "source": [
    "# Print the columns attribute of income_df\n",
    "print(income_df.columns)"
   ]
  },
  {
   "cell_type": "markdown",
   "metadata": {},
   "source": [
    "The `len()` function is a built-in Python function for determining the length of objects that can be iterated upon (e.g., lists, strings, NumPy arrays). For example, the following code creates a variable `x` equal to a four-element list and prints the length of `x`:\n",
    "\n",
    "    x = [1,2,3,4]\n",
    "    print(len(x))\n",
    "    \n",
    "The code will print a value of 4 to the screen."
   ]
  },
  {
   "cell_type": "code",
   "execution_count": 5,
   "metadata": {},
   "outputs": [
    {
     "name": "stdout",
     "output_type": "stream",
     "text": [
      "104\n"
     ]
    }
   ],
   "source": [
    "# Print the number of countries in income_df (i.e., print the length of income_df.columns)\n",
    "print(len(income_df.columns))"
   ]
  },
  {
   "cell_type": "code",
   "execution_count": 6,
   "metadata": {},
   "outputs": [
    {
     "name": "stdout",
     "output_type": "stream",
     "text": [
      "DatetimeIndex(['1960-01-01', '1961-01-01', '1962-01-01', '1963-01-01',\n",
      "               '1964-01-01', '1965-01-01', '1966-01-01', '1967-01-01',\n",
      "               '1968-01-01', '1969-01-01', '1970-01-01', '1971-01-01',\n",
      "               '1972-01-01', '1973-01-01', '1974-01-01', '1975-01-01',\n",
      "               '1976-01-01', '1977-01-01', '1978-01-01', '1979-01-01',\n",
      "               '1980-01-01', '1981-01-01', '1982-01-01', '1983-01-01',\n",
      "               '1984-01-01', '1985-01-01', '1986-01-01', '1987-01-01',\n",
      "               '1988-01-01', '1989-01-01', '1990-01-01', '1991-01-01',\n",
      "               '1992-01-01', '1993-01-01', '1994-01-01', '1995-01-01',\n",
      "               '1996-01-01', '1997-01-01', '1998-01-01', '1999-01-01',\n",
      "               '2000-01-01', '2001-01-01', '2002-01-01', '2003-01-01',\n",
      "               '2004-01-01', '2005-01-01', '2006-01-01', '2007-01-01',\n",
      "               '2008-01-01', '2009-01-01', '2010-01-01', '2011-01-01',\n",
      "               '2012-01-01', '2013-01-01', '2014-01-01', '2015-01-01',\n",
      "               '2016-01-01', '2017-01-01', '2018-01-01', '2019-01-01'],\n",
      "              dtype='datetime64[ns]', name='year', freq=None)\n"
     ]
    }
   ],
   "source": [
    "# Print the index attribute of income_df\n",
    "print(income_df.index)"
   ]
  },
  {
   "cell_type": "code",
   "execution_count": 7,
   "metadata": {},
   "outputs": [
    {
     "name": "stdout",
     "output_type": "stream",
     "text": [
      "60\n"
     ]
    }
   ],
   "source": [
    "# Print the number of years of data in income_df (i.e., print the length of income_df.index)\n",
    "print(len(income_df.index))"
   ]
  },
  {
   "cell_type": "code",
   "execution_count": 8,
   "metadata": {},
   "outputs": [
    {
     "name": "stdout",
     "output_type": "stream",
     "text": [
      "year\n",
      "1960-01-01    19180.187484\n",
      "1961-01-01    19342.103029\n",
      "1962-01-01    20213.129847\n",
      "1963-01-01    20788.538117\n",
      "1964-01-01    21691.511003\n",
      "Name: United States - USA, dtype: float64\n"
     ]
    }
   ],
   "source": [
    "# Print the first five rows of the 'United States - USA' column of income_df\n",
    "print(income_df['United States - USA'].head())"
   ]
  },
  {
   "cell_type": "code",
   "execution_count": 9,
   "metadata": {},
   "outputs": [
    {
     "name": "stdout",
     "output_type": "stream",
     "text": [
      "year\n",
      "2015-01-01    58513.926977\n",
      "2016-01-01    59119.493448\n",
      "2017-01-01    60116.568493\n",
      "2018-01-01    61536.771140\n",
      "2019-01-01    62498.409698\n",
      "Name: United States - USA, dtype: float64\n"
     ]
    }
   ],
   "source": [
    "# Print the last five rows of the 'United States - USA' column of income_df\n",
    "print(income_df['United States - USA'].tail())"
   ]
  },
  {
   "cell_type": "code",
   "execution_count": 10,
   "metadata": {},
   "outputs": [
    {
     "name": "stdout",
     "output_type": "stream",
     "text": [
      "GDP per capital for the US in 2019: 62498\n"
     ]
    }
   ],
   "source": [
    "# Print the last value in the 'United States - USA' column of income_df\n",
    "print('GDP per capital for the US in '+str(income_df.index[-1])[:4]+':',round(income_df.iloc[-1]['United States - USA']))"
   ]
  },
  {
   "cell_type": "markdown",
   "metadata": {},
   "source": [
    "### Part (b): Construct Two Plots"
   ]
  },
  {
   "cell_type": "code",
   "execution_count": 11,
   "metadata": {},
   "outputs": [
    {
     "data": {
      "image/png": "[encoded data removed]",
      "text/plain": [
       "<Figure size 640x480 with 1 Axes>"
      ]
     },
     "metadata": {},
     "output_type": "display_data"
    }
   ],
   "source": [
    "# Create a line plot of gdp per capita for the US with income_df.index as the x-axis coordinates with:\n",
    "#     1. Set linewidth to 3 and opacity (alpha) to 0.75\n",
    "#     2. Set y-axis label to 'Dollars'\n",
    "#     3. Set title to 'GDP per capita: United States')\n",
    "#     4. Add a grid if you want to\n",
    "plt.plot(income_df.index,income_df['United States - USA'],lw=3,alpha = 0.75)\n",
    "plt.ylabel('Dollars')\n",
    "plt.title('GDP per capita: United States')\n",
    "plt.grid()"
   ]
  },
  {
   "cell_type": "markdown",
   "metadata": {},
   "source": [
    "You can use the `DataFrame` method `filter()` to exclude columns or rows that *don't* match specified criteria. This is useful for searching over columns (or rows) if you're not sure about the contents. For example, suppose that we want to select the column for Equatorial Guinea from `income_df`, but we're not sure what the abbreviation is. We can run:\n",
    "\n",
    "    income_df.filter(like='Guinea').columns\n",
    "    \n",
    "which returns:\n",
    "\n",
    "    Index(['Guinea - GIN', 'Guinea-Bissau - GNB', 'Equatorial Guinea - GNQ'], dtype='object')\n",
    "    \n",
    "So now it's apparent that `'Equatorial Guinea - GNQ'` is the name of the column with data for Equatorial Guinea."
   ]
  },
  {
   "cell_type": "code",
   "execution_count": 12,
   "metadata": {},
   "outputs": [
    {
     "name": "stdout",
     "output_type": "stream",
     "text": [
      "Bolivia (Plurinational State of) - BOL\n"
     ]
    }
   ],
   "source": [
    "# Use the example described above to find the column name for any country you like\n",
    "country = income_df.filter(like='Bolivia').columns.values[0]\n",
    "print(country)"
   ]
  },
  {
   "cell_type": "code",
   "execution_count": 13,
   "metadata": {},
   "outputs": [
    {
     "data": {
      "image/png": "[encoded data removed]",
      "text/plain": [
       "<Figure size 640x480 with 1 Axes>"
      ]
     },
     "metadata": {},
     "output_type": "display_data"
    }
   ],
   "source": [
    "# Create a line plot of gdp per capita for the country that you picked wtih income_df.index as the x-axis coordinates and:\n",
    "#     1. Set linewidth to 3 and opacity (alpha) to 0.75\n",
    "#     2. Set y-axis label to 'Dollars'\n",
    "#     3. Set title to 'GDP per capita: COUNTRY NAME')\n",
    "#     4. Add a grid if you want to\n",
    "plt.plot(income_df.index,income_df[country],lw=3,alpha = 0.75)\n",
    "plt.ylabel('Dollars')\n",
    "plt.title('GDP per capita: '+country.split(\" \")[0])\n",
    "plt.grid()"
   ]
  },
  {
   "cell_type": "markdown",
   "metadata": {},
   "source": [
    "**Question**\n",
    "\n",
    "1. Describe in words any similarities and/or differences you see between the paths of GDP per capita in the US and GDP per capita in the country that you picked."
   ]
  },
  {
   "cell_type": "markdown",
   "metadata": {},
   "source": [
    "**Answer**\n",
    "\n",
    "1. Over the entire data range, the GDP per capita of Bolivia is at least an order of magnitude lower than the GDP per capita of the US. However, beginning in the early 2000s, growth in GDP per capita in Bolivia accelerated substantially and this was not mirrored in the US data.<!-- answer -->"
   ]
  }
 ],
 "metadata": {
  "anaconda-cloud": {},
  "kernelspec": {
   "display_name": "Python 3 (ipykernel)",
   "language": "python",
   "name": "python3"
  },
  "language_info": {
   "codemirror_mode": {
    "name": "ipython",
    "version": 3
   },
   "file_extension": ".py",
   "mimetype": "text/x-python",
   "name": "python",
   "nbconvert_exporter": "python",
   "pygments_lexer": "ipython3",
   "version": "3.12.7"
  }
 },
 "nbformat": 4,
 "nbformat_minor": 4
}

{
    "cells": [
        {
            "cell_type": "code",
            "execution_count": null,
            "metadata": {},
            "outputs": [],
            "source": [
                "import numpy as np\n",
                "import pandas as pd\n",
                "import matplotlib.pyplot as plt\n",
                "plt.style.use('classic')\n",
                "plt.rcParams['figure.facecolor'] = 'white'"
            ]
        },
        {
            "cell_type": "markdown",
            "metadata": {},
            "source": [
                "# Discussion: Week 5"
            ]
        },
        {
            "cell_type": "markdown",
            "metadata": {},
            "source": [
                "## Exercise: Two-Period Cake-Eating Problem\n",
                "\n",
                "Recall the two-period cake-eating problem. A person has an initial quantity of cake $K_0>0$ and receives utility from consuming cake in period 0 and period 1:\n",
                "\n",
                "\\begin{align}\n",
                "U(C_0,C_1) & = \\log C_0 + \\beta \\log C_1.\n",
                "\\end{align}\n",
                "\n",
                "The person chooses how much to consume in each period, $C_0$ and $C_1$, and a quantity of cake $K_1$ to carry forward from period 0 to maximize her utility subject to the following two budget constraints:\n",
                "\n",
                "\\begin{align}\n",
                "C_0 + K_1 & = K_0\\\\\n",
                "C_1 & = K_1,\n",
                "\\end{align}\n",
                "\n",
                "where the boundary condition $K_2 = 0$ has been imposed. Use the budget constraints to substitute $C_0$ and $C_1$ out of the utility function. Then the maximization problem can be written concisely as a choice of just $K_1$: \n",
                "\n",
                "\\begin{align}\n",
                "\\max_{K_1} \\; \\log (K_0-K_1) + \\beta \\log K_1\n",
                "\\end{align}\n",
                "\n",
                "The first-order condition with respect to $K_1$ is:\n",
                "\n",
                "\\begin{align}\n",
                "-\\frac{1}{K_0-K_1} + \\frac{\\beta}{K_1} & = 0,\n",
                "\\end{align}\n",
                "\n",
                "Given $K_1$, values for $C_0$ and $C_1$ are implied by the budget constraints\n",
                "\n",
                "The function in the next cell computes the solution for the two-period cake-eating problem and provides an example of how to use the function."
            ]
        },
        {
            "cell_type": "code",
            "execution_count": null,
            "metadata": {},
            "outputs": [],
            "source": [
                "# Define a function to compute the solution for the two-period cake-eating problem. CELL PROVIDED.\n",
                "def two_period_cake(beta,cake0):\n",
                "    \n",
                "    '''Function for computing solution to two-period cake-eating problem\n",
                "    \n",
                "            Args:\n",
                "            beta (float):   subjective discount factor\n",
                "            cake0 (float):  initial quantity of cake\n",
                "            \n",
                "        Returns:\n",
                "            numpy array, numpy array\n",
                "    '''\n",
                "    \n",
                "    # Initialize arrays for cake and consumption\n",
                "    cake = np.zeros(3)\n",
                "    consumption = np.zeros(2)\n",
                "    \n",
                "    # Assign values to cake array elements\n",
                "    cake[0] = cake0\n",
                "    cake[1] = beta/(1+beta)*cake[0]\n",
                "    \n",
                "    # Assign values to consumption array elements as implied by the budget constraints\n",
                "    consumption[0] = cake[0]-cake[1]\n",
                "    consumption[1] = cake[1]\n",
                "    \n",
                "    return cake,consumption\n",
                "\n",
                "\n",
                "# Example of function use: Plot cake path for beta=0.99 and cake0=100\n",
                "beta = 0.99\n",
                "cake0 = 100\n",
                "\n",
                "cake,consumption = two_period_cake(beta=beta,cake0=cake0)\n",
                "\n",
                "plt.plot(cake,'-o',lw=3)\n",
                "plt.title('Optimal Cake Path for $\\\\beta='+str(beta)+'$')\n",
                "plt.xlabel('Period')\n",
                "plt.ylabel('Amount of cake available')\n",
                "plt.xticks(range(len(cake)))\n",
                "plt.grid()"
            ]
        },
        {
            "cell_type": "markdown",
            "metadata": {},
            "source": [
                "Suppose that the initial quantity of cake is $K_0 = 100$. For $\\beta = 0, 0.25, 0.5, 0.75, 0.99, 1$, use the function `two_period_cake()` to plot the optimal path for the quantity of cake for periods 0 through 2. Add labels to the plot command so you know which line corresponds to which value of $\\beta$."
            ]
        },
        {
            "cell_type": "code",
            "execution_count": null,
            "metadata": {},
            "outputs": [],
            "source": [
                "# Create a variable called 'cake0' that stores the initial quantity of cake\n",
                "\n",
                "\n",
                "# Plot optimal path of cake for the different values of beta.\n",
                "\n",
                "\n",
                "",
                "",
                "",
                "",
                "",
                "",
                "",
                "",
                "# Put a legend to the right of the current axis. PROVIDED\n",
                "plt.legend(loc='center left', bbox_to_anchor=(1, 0.5))\n",
                "\n"
            ]
        },
        {
            "cell_type": "markdown",
            "metadata": {},
            "source": [
                "**Questions**\n",
                "\n",
                "1. How does increasing $\\beta$ affect the optimal path of $K$?\n",
                "2. For $\\beta=0$, $K_1 = 0$. Why does this make sense?"
            ]
        },
        {
            "cell_type": "markdown",
            "metadata": {},
            "source": [
                "**Answers**\n",
                "\n",
                "1.  \n\n",
                "2.  \n\n"
            ]
        },
        {
            "cell_type": "markdown",
            "metadata": {},
            "source": [
                "## Exercise: Three-Period Cake-Eating Problem\n",
                "\n",
                "Now consider a the three-period cake-eating problem. A person has an initial quantity of cake $K_0>0$ and receives utility from consuming cake in period 0, period 1, and period 2:\n",
                "\n",
                "\\begin{align}\n",
                "U(C_0,C_1,C_2) & = \\log C_0 + \\beta \\log C_1+ \\beta^2 \\log C_2.\n",
                "\\end{align}\n",
                "\n",
                "The person chooses how much to consume in each period, $C_0$, $C_1$, and $C_2$, and quantities of cake $K_1$ and $K_2$ to carry foward from period 0 and from period 1 to maximize her utility subject to the following two budget constraints:\n",
                "\n",
                "\\begin{align}\n",
                "C_0 + K_1 & = K_0\\\\\n",
                "C_1 + K_2 & = K_1\\\\\n",
                "C_2 & = K_2,\n",
                "\\end{align}\n",
                "\n",
                "where the boundary condition $K_3 = 0$ has been imposed. Use the budget constraints to substitute $C_0$, $C_1$, and $C_2$ out of the utility function. Then the maximization problem can be written concisely as a choice of $K_1$ and $K_2$: \n",
                "\n",
                "\\begin{align}\n",
                "\\max_{K_1,K_2} \\; \\log (K_0-K_1) + \\beta\\log (K_1-K_2) + \\beta^2 \\log K_2\n",
                "\\end{align}\n",
                "\n",
                "The first-order conditions with respect to $K_1$ and $K_2$ are:\n",
                "\n",
                "\\begin{align}\n",
                "-\\frac{1}{K_0-K_1} + \\frac{\\beta}{K_1-K_2} & = 0\\\\\n",
                "-\\frac{1}{K_1-K_2} + \\frac{\\beta}{K_2} & = 0,\n",
                "\\end{align}"
            ]
        },
        {
            "cell_type": "markdown",
            "metadata": {},
            "source": [
                "### Part (a)\n",
                "\n",
                "Use the first-order conditions for the three-period cake-eating problem to solve by hand for:\n",
                "\n",
                "1. $K_2$ as a function of $K_1$\n",
                "2. $K_1$ as a function of $K_0$\n",
                "\n",
                "Use what you derive in this part to do **Part (b)** and **Part (c)**."
            ]
        },
        {
            "cell_type": "markdown",
            "metadata": {},
            "source": [
                "### Part (b)\n",
                "\n",
                "Copy and paste the full definition of the function `two_period_cake()` into the cell below and do the following:\n",
                "\n",
                "1. Rename the function `three_period_cake`\n",
                "2. Edit the function so that it computes the optimal path for the three-period problem"
            ]
        },
        {
            "cell_type": "code",
            "execution_count": null,
            "metadata": {},
            "outputs": [],
            "source": [
                "# Define a function to compute the solution for the three-period cake-eating problem. \n",
                "\n",
                "\n",
                "",
                "",
                "",
                "",
                "",
                "",
                "",
                "",
                "",
                "",
                "",
                "",
                "",
                "",
                "",
                "",
                "",
                "",
                "",
                "",
                "",
                "",
                "",
                "",
                ""
            ]
        },
        {
            "cell_type": "markdown",
            "metadata": {},
            "source": [
                "### Part (c)\n",
                "\n",
                "Suppose that the initial quantity of cake is $K_0 = 100$. For $\\beta = 0, 0.25, 0.5, 0.75, 0.99, 1$, plot the optimal path for the quantity of cake for periods 0 through 3. Add labels to the plot command so you know which line corresponds to which value of $\\beta$."
            ]
        },
        {
            "cell_type": "code",
            "execution_count": null,
            "metadata": {},
            "outputs": [],
            "source": [
                "# Create a variable called 'cake0' that stores the initial quantity of cake\n",
                "\n",
                "\n",
                "# Plot optimal path of cake for the different values of beta.\n",
                "\n",
                "\n",
                "",
                "",
                "",
                "",
                "",
                "",
                "",
                "",
                "# Put a legend to the right of the current axis. PROVIDED\n",
                "plt.legend(loc='center left', bbox_to_anchor=(1, 0.5))\n",
                "\n"
            ]
        }
    ],
    "metadata": {
        "kernelspec": {
            "display_name": "Python 3 (ipykernel)",
            "language": "python",
            "name": "python3"
        },
        "language_info": {
            "codemirror_mode": {
                "name": "ipython",
                "version": 3
            },
            "file_extension": ".py",
            "mimetype": "text/x-python",
            "name": "python",
            "nbconvert_exporter": "python",
            "pygments_lexer": "ipython3",
            "version": "3.11.3"
        }
    },
    "nbformat": 4,
    "nbformat_minor": 2
}
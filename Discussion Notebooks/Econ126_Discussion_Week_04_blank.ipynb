{
    "cells": [
        {
            "cell_type": "code",
            "execution_count": null,
            "metadata": {},
            "outputs": [],
            "source": [
                "import numpy as np\n",
                "import pandas as pd\n",
                "import matplotlib.pyplot as plt\n",
                "plt.style.use('classic')\n",
                "plt.rcParams['figure.facecolor'] = 'white'"
            ]
        },
        {
            "cell_type": "markdown",
            "metadata": {},
            "source": [
                "# Discussion: Week 4"
            ]
        },
        {
            "cell_type": "markdown",
            "metadata": {},
            "source": [
                "## Exercise: More Business Cycle Data\n",
                "\n",
                "The file `business_cycle_dev_data_actual_trend.csv`, available at https://raw.githubusercontent.com/letsgoexploring/computational-macroeconomics/master/Data/Csv/business_cycle_data_actual_trend.csv, contains actual and trend data for real GDP per capita, real consumption per capita, real investment per capita, real physical capital per capita, TFP,  hours per capita, real M2 per capita, the rate of PCE (personal consumption expenditures) inflation, the three month T-bill rate, and the unemployment rate at quarterly frequency. The GDP, consumption, investment, capital, and M2 data are in terms of 2012 dollars. Hours is measured as an index with the value in October 2012 set to 100. PCE inflation is measured at the percent change from one year prior. PCE inflation, unemployment, and the T-bill rate are expressed in units of percent.\n",
                "\n",
                "In this Notebook, you will replicate the work from class 9 but for the following quantities:\n",
                "* Real GDP per capita\n",
                "* 3-month T-Bill rate\n",
                "* PCE inflation rate\n",
                "* Unemployment rate\n",
                "\n",
                "Refer to the Notebook from Class 9 for reference."
            ]
        },
        {
            "cell_type": "markdown",
            "metadata": {},
            "source": [
                "## Part (a): Preliminaries"
            ]
        },
        {
            "cell_type": "code",
            "execution_count": null,
            "metadata": {},
            "outputs": [],
            "source": [
                "# Read business_cycle_dev_data_actual_trend.csv into a Pandas DataFrame with the first column set as the index and parse_dates=True\n",
                "\n",
                "\n",
                "# Print the last five rows of the data\n"
            ]
        },
        {
            "cell_type": "code",
            "execution_count": null,
            "metadata": {},
            "outputs": [],
            "source": [
                "# CELL PROVIDED \n",
                "# Construct a 2x2 grid of plots of GDP, consumption, t_bill_3mo, unemployment, and pce_inflation. Multiply\n",
                "# t_bill_3mo, unemployment, and pce_inflation by 100 inside the plot command to plot in units of percent.\n",
                "\n",
                "# Load metadata for dataset and set base_year\n",
                "pwt_metadata = pd.read_csv('https://raw.githubusercontent.com/letsgoexploring/computational-macroeconomics/master/Data/Csv/pwt_metadata.csv',index_col=0)['Values']\n",
                "base_year = pwt_metadata['base_year']\n",
                "\n",
                "\n",
                "fig = plt.figure(figsize=(12,8))\n",
                "\n",
                "ax1 = fig.add_subplot(2,2,1)\n",
                "ax1.plot(df.gdp,'-',lw=3,alpha = 0.7)\n",
                "ax1.grid()\n",
                "ax1.set_title('GDP per capita')\n",
                "ax1.set_ylabel('Thousands of '+base_year+' dollars')\n",
                "\n",
                "ax2 = fig.add_subplot(2,2,2)\n",
                "ax2.plot(df.t_bill_3mo*100,'-',lw=3,alpha = 0.7)\n",
                "ax2.grid()\n",
                "ax2.set_title('3-month T-Bill mate')\n",
                "ax2.set_ylabel('Percent')\n",
                "\n",
                "ax3 = fig.add_subplot(2,2,3)\n",
                "ax3.plot(df.unemployment*100,'-',lw=3,alpha = 0.7)\n",
                "ax3.grid()\n",
                "ax3.set_title('Unemployment rate')\n",
                "ax3.set_ylabel('Percent')\n",
                "\n",
                "ax4 = fig.add_subplot(2,2,4)\n",
                "ax4.plot(df.pce_inflation*100,'-',lw=3,alpha = 0.7)\n",
                "ax4.grid()\n",
                "ax4.set_title('PCE inflation')\n",
                "ax4.set_ylabel('Percent')\n",
                "\n",
                "fig.tight_layout()"
            ]
        },
        {
            "cell_type": "markdown",
            "metadata": {},
            "source": [
                "## Part (b): Cycles and Trends\n",
                "\n",
                "Recall: A time series $X_t$ can be decomposed into a trend component $X_t^{trend}$ and a cyclical component $X_t^{cycle}$ such that:\n",
                "\n",
                "\\begin{align}\n",
                "X_t & = X_t^{trend} + X_t^{cycle}. \\tag{1}\n",
                "\\end{align}\n",
                "\n",
                "In equation (1), $X_t^{trend}$ is the long-run value about which $X_t$ fluctuates. $X^{cycle}_t$ is the amount by which $X_t$ excedes its trend.\n",
                "\n",
                "Often times, it's useful to express the cyclical component of a time series as the percent deviation of the series from trend (divided by 100):\n",
                "\n",
                "\\begin{align}\n",
                "\\hat{x}_t & = \\frac{X_t-X_t^{trend}}{X_t^{trend}} = \\frac{X_t^{cycle}}{X_t^{trend}}\n",
                "\\end{align} "
            ]
        },
        {
            "cell_type": "markdown",
            "metadata": {},
            "source": [
                "### GDP"
            ]
        },
        {
            "cell_type": "code",
            "execution_count": null,
            "metadata": {},
            "outputs": [],
            "source": [
                "# CELL PROVIDED\n",
                "# Construct a plot of real GDP with its trend with:\n",
                "#    1. Actual line: blue with lw=1, alpha=0.7, label = 'actual'\n",
                "#    2. Trend line:  red with lw=3, alpha=0.7, label = 'trend'\n",
                "#    3. A legend in an appropriate place\n",
                "plt.plot(df.gdp,'-',lw=1,alpha = 0.7,label='actual')\n",
                "plt.plot(df.gdp_trend,'r-',lw=3,alpha = 0.7,label='trend')\n",
                "plt.grid()\n",
                "plt.ylabel('Thousands of '+base_year+' dollars per person')\n",
                "plt.title('GDP per capita')\n",
                "plt.legend(loc='lower right',ncol=2);"
            ]
        },
        {
            "cell_type": "code",
            "execution_count": null,
            "metadata": {},
            "outputs": [],
            "source": [
                "# CELL PROVIDED\n",
                "# Create a new column called gdp_cycle_dev equal to the percent deviation of actual \n",
                "# GDP relative to trend GDP (divided by 100):\n",
                "df['gdp_cycle_dev'] = (df['gdp'] - df['gdp_trend'])/df['gdp_trend']\n",
                "\n",
                "# Plot the percent deviation of GDP from its trend\n",
                "plt.plot(df.gdp_cycle_dev*100,'b-',lw=3,alpha = 0.7)\n",
                "plt.ylabel('Percent')\n",
                "plt.title('GDP: Percent deviation from trend')\n",
                "plt.grid()"
            ]
        },
        {
            "cell_type": "markdown",
            "metadata": {},
            "source": [
                "### 3-month T-bill rate\n",
                "\n",
                "When a data series is already in units of percent, it is common to just work with the difference between the actual data and trend (instead of the percent deviation of the series from trend)."
            ]
        },
        {
            "cell_type": "code",
            "execution_count": null,
            "metadata": {},
            "outputs": [],
            "source": [
                "# Construct a plot of the 3-month T-bill rate (times 100) with its trend with:\n",
                "#    1. Actual line: blue with lw=1, alpha=0.7, label = 'actual'\n",
                "#    2. Trend line:  red with lw=3, alpha=0.7, label = 'trend'\n",
                "#    3. A legend in an appropriate place\n",
                "\n",
                "\n",
                "",
                "",
                "",
                ""
            ]
        },
        {
            "cell_type": "code",
            "execution_count": null,
            "metadata": {},
            "outputs": [],
            "source": [
                "# Create a new column called t_bill_3mo_cycle_dev equal to the DIFFERENCE (not percent difference!) between actual \n",
                "# 3-month T-bill rate and it's trend:\n",
                "\n",
                "\n",
                "# Plot the deviation of the 3-month T-bill rate from its trend (times 100)\n",
                "\n",
                "\n",
                "",
                "",
                "",
                ""
            ]
        },
        {
            "cell_type": "markdown",
            "metadata": {},
            "source": [
                "### Unemployment rate"
            ]
        },
        {
            "cell_type": "code",
            "execution_count": null,
            "metadata": {},
            "outputs": [],
            "source": [
                "# Construct a plot of the unemployment rate (times 100) with its trend with:\n",
                "#    1. Actual line: blue with lw=1, alpha=0.7, label = 'actual'\n",
                "#    2. Trend line:  red with lw=3, alpha=0.7, label = 'trend'\n",
                "#    3. A legend in an appropriate place\n",
                "\n",
                "\n",
                "",
                "",
                "",
                ""
            ]
        },
        {
            "cell_type": "code",
            "execution_count": null,
            "metadata": {},
            "outputs": [],
            "source": [
                "# Create a new column called unemployment_cycle_dev equal to the DIFFERENCE (not percent difference!) between actual \n",
                "# unemployment and it's trend:\n",
                "\n",
                "\n",
                "# Plot the deviation of the unemployment rate from its trend (times 100)\n",
                "\n",
                "\n",
                "",
                "",
                "",
                ""
            ]
        },
        {
            "cell_type": "markdown",
            "metadata": {},
            "source": [
                "### PCE Inflation"
            ]
        },
        {
            "cell_type": "code",
            "execution_count": null,
            "metadata": {},
            "outputs": [],
            "source": [
                "# Construct a plot of the pce_inflation rate (times 100) with its trend with:\n",
                "#    1. Actual line: blue with lw=1, alpha=0.7, label = 'actual'\n",
                "#    2. Trend line:  red with lw=3, alpha=0.7, label = 'trend'\n",
                "#    3. A legend in an appropriate place\n",
                "\n",
                "\n",
                "",
                "",
                "",
                ""
            ]
        },
        {
            "cell_type": "code",
            "execution_count": null,
            "metadata": {},
            "outputs": [],
            "source": [
                "# Create a new column called pce_inflation_cycle_dev equal to the DIFFERENCE (not percent difference!) between actual \n",
                "# pce_inflation and it's trend:\n",
                "\n",
                "\n",
                "# Plot the deviation of the PCE inflation rate from its trend (times 100)\n",
                "\n",
                "\n",
                "",
                "",
                "",
                ""
            ]
        },
        {
            "cell_type": "markdown",
            "metadata": {},
            "source": [
                "## Part (c): Statistics"
            ]
        },
        {
            "cell_type": "code",
            "execution_count": null,
            "metadata": {},
            "outputs": [],
            "source": [
                "# Create a new variable called df_cycle_dev that is a DataFrame with columns columns gdp_cycle_dev, t_bill_3mo_cycle_dev, \n",
                "# pce_inflation_cycle_dev, unemployment_cycle_dev from df.\n",
                "\n",
                "\n",
                "# Print the first five rows of df_cycle_dev\n"
            ]
        },
        {
            "cell_type": "code",
            "execution_count": null,
            "metadata": {},
            "outputs": [],
            "source": [
                "# Use the DataFrame method .mean() to find the average values of the gdp_cycle_dev, t_bill_3mo_cycle_dev, \n",
                "# pce_inflation_cycle_dev, unemployment_cycle_dev columns\n"
            ]
        },
        {
            "cell_type": "code",
            "execution_count": null,
            "metadata": {},
            "outputs": [],
            "source": [
                "# Use the DataFrame method .std() to find the standard deviations of the gdp_cycle_dev, t_bill_3mo_cycle_dev, \n",
                "# pce_inflation_cycle_dev, unemployment_cycle_dev columns\n"
            ]
        },
        {
            "cell_type": "code",
            "execution_count": null,
            "metadata": {},
            "outputs": [],
            "source": [
                "# Use the DataFrame method .corr() to find the coeficients of correlation among the gdp_cycle_dev, t_bill_3mo_cycle_dev, \n",
                "# pce_inflation_cycle_dev, unemployment_cycle_dev columns\n"
            ]
        },
        {
            "cell_type": "markdown",
            "metadata": {},
            "source": [
                "**Questions**\n",
                "\n",
                "1. Of the three quantities besides GDP in the columns of `df_cycle_dev`, which varies the most over the business cycle?\n",
                "2. Of the three quantities besides GDP in the columns of `df_cycle_dev`, which varies the least over the business cycle?\n",
                "3. Of the three quantities besides GDP in the columns of `df_cycle_dev`, which is most correlated (in absolute value) with GDP over the business cycle?"
            ]
        },
        {
            "cell_type": "markdown",
            "metadata": {},
            "source": [
                "**Answers**\n",
                "\n",
                "1.  \n\n",
                "2.  \n\n",
                "3.  "
            ]
        },
        {
            "cell_type": "markdown",
            "metadata": {},
            "source": [
                "## Part (d): Bonus\n",
                "\n",
                "Do the next cell for fun. You won't get extra credit, but do it if you want to and have time."
            ]
        },
        {
            "cell_type": "code",
            "execution_count": null,
            "metadata": {},
            "outputs": [],
            "source": [
                "# Plot the cyclical components of GDP, three month T-bill rate, PCE inflation rate, and the unemployment rate\n",
                "# (all times 100) on the same set of axes\n",
                "\n",
                "\n",
                "",
                "",
                "",
                "",
                ""
            ]
        }
    ],
    "metadata": {
        "kernelspec": {
            "display_name": "Python 3 (ipykernel)",
            "language": "python",
            "name": "python3"
        },
        "language_info": {
            "codemirror_mode": {
                "name": "ipython",
                "version": 3
            },
            "file_extension": ".py",
            "mimetype": "text/x-python",
            "name": "python",
            "nbconvert_exporter": "python",
            "pygments_lexer": "ipython3",
            "version": "3.12.7"
        }
    },
    "nbformat": 4,
    "nbformat_minor": 4
}